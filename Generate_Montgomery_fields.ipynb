{
 "cells": [
  {
   "cell_type": "code",
   "execution_count": 4,
   "id": "0986c9e6",
   "metadata": {
    "ExecuteTime": {
     "end_time": "2024-06-14T08:22:46.257905Z",
     "start_time": "2024-06-14T08:22:38.350331Z"
    }
   },
   "outputs": [],
   "source": [
    "import xarray as xr\n",
    "from scipy.interpolate import griddata\n",
    "import numpy as np\n",
    "from xgcm import Grid\n",
    "import time\n",
    "import gsw\n",
    "from geopy import distance\n",
    "import glob\n",
    "import copy as cp\n",
    "import matplotlib.pyplot as plt\n",
    "import cartopy.crs as ccrs"
   ]
  },
  {
   "cell_type": "code",
   "execution_count": 5,
   "id": "2e7dac15",
   "metadata": {
    "ExecuteTime": {
     "end_time": "2024-06-14T08:22:46.261531Z",
     "start_time": "2024-06-14T08:22:46.259512Z"
    }
   },
   "outputs": [],
   "source": [
    "# Cst\n",
    "f0 = 2*7.2921e-5*np.sin(80*np.pi/180)\n",
    "R = 6356800 #m\n",
    "Seas = ['W', 'S', 'E', 'A']"
   ]
  },
  {
   "cell_type": "code",
   "execution_count": 6,
   "id": "b6096201",
   "metadata": {
    "ExecuteTime": {
     "end_time": "2024-06-14T08:22:46.273510Z",
     "start_time": "2024-06-14T08:22:46.262415Z"
    }
   },
   "outputs": [],
   "source": [
    "def sigma0(As, ct):\n",
    "    return gsw.density.sigma0(As, ct)+1000\n",
    "\n",
    "def delta_sigma0(As, ct, sigma_0):\n",
    "    return gsw.density.sigma0(As, ct)+1000 - sigma_0\n",
    "\n",
    "def sigma1(As, ct):\n",
    "    return gsw.density.sigma1(As, ct)+1000\n",
    "\n",
    "def delta_sigma1(As, ct, sigma_1):\n",
    "    return gsw.density.sigma1(As, ct)+1000 - sigma_1\n"
   ]
  },
  {
   "cell_type": "markdown",
   "id": "dff837cf",
   "metadata": {},
   "source": [
    "# Functions"
   ]
  },
  {
   "cell_type": "markdown",
   "id": "4d8398f9",
   "metadata": {
    "heading_collapsed": true
   },
   "source": [
    "## WOA "
   ]
  },
  {
   "cell_type": "code",
   "execution_count": 5,
   "id": "3cba09d0",
   "metadata": {
    "ExecuteTime": {
     "end_time": "2024-06-12T07:12:32.283952Z",
     "start_time": "2024-06-12T07:12:32.250037Z"
    },
    "code_folding": [
     5,
     44,
     47,
     70,
     74
    ],
    "hidden": true
   },
   "outputs": [],
   "source": [
    "def WOA_M_Q_moy_sigma(ListeT, ListeS, ListeR, deta, Rho_Vals,dera5, g_0 = 9.83, sigma_0 = 1025):\n",
    "    try:  \n",
    "        L_dsT = []\n",
    "        L_dsR = []\n",
    "        L_dsS = []\n",
    "        for m in range(len(ListeT)):\n",
    "            dsT = xr.open_dataset(ListeT[m], decode_times=False).isel(time=0).isel(lat=slice(619, 720))\n",
    "            dsS = xr.open_dataset(ListeS[m], decode_times=False).isel(time=0).isel(lat=slice(619, 720))\n",
    "            dsR = xr.open_dataset(ListeR[m], decode_times=False).isel(time=0).isel(lat=slice(619, 720))\n",
    "\n",
    "            dsT = dsT.drop(('time','crs','t_mn','t_dd','t_sd','t_se','t_oa', 't_ma', 't_gp', 'lat_bnds', 'lon_bnds','depth_bnds', 'climatology_bounds'))\n",
    "            dsS = dsS.drop(('time','crs','s_mn','s_dd','s_sd','s_se','s_oa', 's_ma', 's_gp', 'lat_bnds', 'lon_bnds', 'depth_bnds', 'climatology_bounds'))\n",
    "            dsR = dsR.drop(('time','crs','I_mn','I_dd','I_sd','I_se','I_oa', 'I_ma', 'I_gp', 'lat_bnds', 'lon_bnds', 'depth_bnds', 'climatology_bounds'))\n",
    "            L_dsT.append(dsT)\n",
    "            L_dsR.append(dsR)\n",
    "            L_dsS.append(dsS)\n",
    "    except:\n",
    "        L_dsT = []\n",
    "        L_dsR = []\n",
    "        L_dsS = []\n",
    "        for m in range(len(ListeT)):\n",
    "            dsT = xr.open_dataset(ListeT[m], decode_times=False).isel(lat=slice(619, 720))\n",
    "            dsS = xr.open_dataset(ListeS[m], decode_times=False).isel(lat=slice(619, 720))\n",
    "            dsR = xr.open_dataset(ListeR[m], decode_times=False).isel(lat=slice(619, 720))\n",
    "\n",
    "            dsT = dsT.drop(('crs','t_mn','t_dd','t_sd','t_se','t_oa', 't_ma', 't_gp', 'lat_bnds', 'lon_bnds','depth_bnds', 'climatology_bounds'))\n",
    "            dsS = dsS.drop(('crs','s_mn','s_dd','s_sd','s_se','s_oa', 's_ma', 's_gp', 'lat_bnds', 'lon_bnds', 'depth_bnds', 'climatology_bounds'))\n",
    "            dsR = dsR.drop(('crs','I_mn','I_dd','I_sd','I_se','I_oa', 'I_ma', 'I_gp', 'lat_bnds', 'lon_bnds', 'depth_bnds', 'climatology_bounds'))\n",
    "            L_dsT.append(dsT)\n",
    "            L_dsR.append(dsR)\n",
    "            L_dsS.append(dsS)\n",
    "\n",
    "    dsT = xr.concat(L_dsT, dim = 'int').mean('int')\n",
    "    dsS = xr.concat(L_dsS, dim = 'int').mean('int')\n",
    "    dsR = xr.concat(L_dsR, dim = 'int').mean('int')\n",
    "    # Horizontal grid statics\n",
    "    lats = dsT.lat.values\n",
    "    lons = dsT.lon.values\n",
    "    lat_in = 0.5*(lats[1:]+lats[:-1])\n",
    "    lon_in = 0.5*(lons[1:]+lons[:-1])\n",
    "\n",
    "\n",
    "    e1i = np.zeros((len(lats), len(lon_in)))\n",
    "    e2i = np.zeros((len(lat_in), len(lons)))\n",
    "    for i in range(len(lats)):\n",
    "        for j in range(len(lon_in)):\n",
    "            e1i[i,j] = distance.distance((lats[i], lons[j]), (lats[i], lons[j+1]) ).m        \n",
    "    for i in range(len(lat_in)):\n",
    "        for j in range(len(lons)):\n",
    "            e2i[i,j] = distance.distance((lats[i], lons[j]), (lats[i+1], lons[j]) ).m        \n",
    "\n",
    "    DZ = dsT.depth.values[1:]-dsT.depth.values[:-1]\n",
    "    z_in = dsT.depth.values[:-1] +DZ/2\n",
    "    z = dsT.depth.values\n",
    "\n",
    "    dsT['z_in'] = ('z_in', z_in)\n",
    "    dsT['lat_in'] = (('lat_in'), lat_in)\n",
    "    dsT['lon_in'] = (('lon_in'), lon_in)\n",
    "\n",
    "    dsT['e3i'] = ('z_in', DZ)\n",
    "    dsT['e1i'] = (('lat', 'lon_in'), e1i)\n",
    "    dsT['e2i'] = (('lat_in', 'lon'), e2i)\n",
    "\n",
    "    dsT = dsT.set_coords(('lat_in', 'lon_in', 'z_in', 'e1i', 'e2i', 'e3i'))\n",
    "\n",
    "    metrics = {('X',): ['e1i'], ('Y',): ['e2i'], ('Z',): ['e3i']}\n",
    "    coords={\"X\": {\"center\": \"lon\", 'inner':'lon_in'}, 'Y':{'center':'lat', 'inner':'lat_in'},'Z':{'center':'depth', 'inner':'z_in'}}\n",
    "    grid = Grid(dsT, periodic = ['X'], coords = coords,  metrics = metrics, boundary = 'fill', fill_value = np.nan)\n",
    "\n",
    "    # eta on WOA\n",
    "    try: \n",
    "        dsT['eta'] = deta.mean('month')\n",
    "        dsT['Mask-eta'] = dsT.eta.where(np.isnan(dsT.eta), 1)\n",
    "        del deta\n",
    "    except:\n",
    "        print('I need to interpolate')\n",
    "        try:\n",
    "            E_array = np.zeros((len(ListeT), dsT.lon.shape[0], dsT.lat.shape[0]))\n",
    "            for m in range(len(ListeT)):\n",
    "                latA = deta.llat_cc.values.reshape((deta.llat_cc.shape[0]*deta.llat_cc.shape[1], ))\n",
    "                lonA = deta.llon_cc.values.reshape((deta.llon_cc.shape[0]*deta.llon_cc.shape[1], ))\n",
    "                values = deta.isel(month = m)[:,:].values.reshape((deta.llat_cc.shape[0]*deta.llat_cc.shape[1], ))\n",
    "                points = np.transpose(np.array((latA,lonA)))\n",
    "                xx, yy = np.meshgrid(dsT.lat.values, dsT.lon.values)\n",
    "                E_array[m,:,:] = griddata(points, values, (xx, yy), method = 'linear')\n",
    "\n",
    "            dsT['eta'] = (('lon', 'lat'), np.mean(E_array, axis = 0))\n",
    "            dsT['Mask-eta'] = dsT.eta.where(np.isnan(dsT.eta), 1)\n",
    "            del deta, E_array\n",
    "        except:\n",
    "            try:\n",
    "                E_array = np.zeros((len(ListeT), dsT.lon.shape[0], dsT.lat.shape[0]))\n",
    "                for m in range(len(ListeT)):\n",
    "                    latA = deta.lat.values.reshape((deta.lat.shape[0]*deta.lat.shape[1], ))\n",
    "                    lonA = deta.lon.values.reshape((deta.lat.shape[0]*deta.lat.shape[1], ))\n",
    "                    values = deta.isel(month = m)[:,:].values.reshape((deta.lat.shape[0]*deta.lat.shape[1], ))\n",
    "                    points = np.transpose(np.array((latA,lonA)))\n",
    "                    xx, yy = np.meshgrid(dsT.lat.values, dsT.lon.values)\n",
    "                    E_array[m,:,:]  = griddata(points, values, (xx, yy), method = 'linear')\n",
    "                dsT['eta'] = (('lon', 'lat'), np.mean(E_array, axis = 0))\n",
    "                dsT['Mask-eta'] = dsT.eta.where(np.isnan(dsT.eta), 1)\n",
    "                del deta, E_array\n",
    "            except:\n",
    "                E_array = np.zeros((len(ListeT), dsT.lon.shape[0], dsT.lat.shape[0]))\n",
    "                for m in range(len(ListeT)):\n",
    "\n",
    "                    latA = deta.lat.values\n",
    "                    lonA = deta.lon.values\n",
    "                    LonA, LatA = np.meshgrid(lonA, latA)\n",
    "                    LonA = LonA.flatten()\n",
    "                    LatA = LatA.flatten()\n",
    "                    values = deta.isel(month = m)[:,:].values.flatten()\n",
    "                    points = np.transpose(np.array((LatA,LonA)))\n",
    "                    xx, yy = np.meshgrid(dsT.lat.values, dsT.lon.values)\n",
    "                    E_array[m,:,:]  = griddata(points, values, (xx, yy), method = 'linear')\n",
    "                dsT['eta'] = (('lon', 'lat'),  np.mean(E_array, axis = 0))\n",
    "\n",
    "                dsT['Mask-eta'] = dsT.eta.where(np.isnan(dsT.eta), 1)\n",
    "                del deta, E_array\n",
    "    # Mask\n",
    "    MASK = cp.deepcopy(dsT.t_an.values)\n",
    "    MASK[~np.isnan(MASK)] = 1*np.ones(np.shape(MASK[~np.isnan(MASK)]))\n",
    "    MASK[np.isnan(MASK)] = np.nan*np.ones(np.shape(MASK[np.isnan(MASK)]))\n",
    "    dsT['MASK'] = (('depth','lat','lon'), MASK)\n",
    "    #ERA 5\n",
    "    ERA5 = np.zeros((dsT.lat_in.shape[0], dsT.lon_in.shape[0]))\n",
    "    ERA5[-dera5.latitude.shape[0]+1:, :] = dera5.values[:-1,1:]\n",
    "    dsT['msl'] = (('lat_in', 'lon_in'), ERA5)\n",
    "    \n",
    "    #grav\n",
    "    dsT['grav'] = g_0\n",
    "    #f\n",
    "    dsT['f'] = gsw.f(dsT.lat)\n",
    "    \n",
    "    # Get T, S, rho in an iterative way\n",
    "    dsT['S'] = dsS.s_an\n",
    "    dsT['T']= dsT.t_an\n",
    "    dsT['R0'] = gsw.density.rho_t_exact(dsS.s_an, dsT.t_an, dsT.depth)\n",
    "    A = (((dsT.R0)*dsT.grav).interp(depth = dsT.z_in)*dsT.e3i).cumsum(dim = 'z_in').values\n",
    "    P0 = np.concatenate((np.zeros((1, A.shape[1], A.shape[2])), A), axis = 0)\n",
    "    dsT['P0'] = (('depth', 'lat', 'lon'), P0) #en PASCALs\n",
    "    dsT['P0'] = dsT.P0*dsT.MASK\n",
    "    \n",
    "    dsT['AS1'] = gsw.SA_from_SP(dsS.s_an, dsT.P0,dsT.lon,dsT.lat)\n",
    "    dsT['CT1'] = gsw.CT_from_t(dsT.AS1, dsT.t_an, dsT.P0*1e-4)\n",
    "    dsT['R1'] = gsw.density.rho(dsT.AS1, dsT.CT1, dsT.P0*1e-4)\n",
    "    A = (((dsT.R1)*dsT.grav).interp(depth = dsT.z_in)*dsT.e3i).cumsum(dim = 'z_in').values\n",
    "    P1 = np.concatenate((np.zeros((1, A.shape[1], A.shape[2])), A), axis = 0)\n",
    "    dsT['P1'] = (('depth', 'lat', 'lon'), P1) #en PASCALs\n",
    "    dsT['P1'] = dsT.P1*dsT.MASK\n",
    "\n",
    "    dsT['AS'] = gsw.SA_from_SP(dsS.s_an, dsT.P1,dsT.lon,dsT.lat)\n",
    "    dsT['CT'] = gsw.CT_from_t(dsT.AS, dsT.t_an, dsT.P1*1e-4)\n",
    "    dsT['R2'] = gsw.density.rho(dsT.AS, dsT.CT, dsT.P1*1e-4)\n",
    "    A = (((dsT.R2)*dsT.grav).interp(depth = dsT.z_in)*dsT.e3i).cumsum(dim = 'z_in').values\n",
    "    P2 = np.concatenate((np.zeros((1, A.shape[1], A.shape[2])), A), axis = 0)\n",
    "    dsT['P'] = (('depth', 'lat', 'lon'), P2) #en PASCALs\n",
    "    dsT['P'] = dsT.P*dsT.MASK\n",
    "    \n",
    "    \n",
    "    dsT['R'] = 1000+dsR.I_an\n",
    "    dsT['sigmat'] = sigma0(dsT.AS, dsT.CT)\n",
    "   \n",
    "    \n",
    "    A2 = (((dsT.sigmat)*dsT.grav).interp(depth = dsT.z_in)*dsT.e3i).cumsum(dim = 'z_in').values\n",
    "    P2 = np.concatenate((np.zeros((1, A2.shape[1], A2.shape[2])), A2), axis = 0)\n",
    "    dsT['P2'] = (('depth', 'lat', 'lon'), P2) #en PASCALs\n",
    "    dsT['P2'] = dsT.P2*dsT.MASK\n",
    "    dsT['P_A'] = dsT.P2+grid.interp(dsT.msl, axis = ('X', 'Y'))\n",
    "\n",
    "    for rv in range(len(Rho_Vals)):\n",
    "        dsT['dsigma_'+str(rv)] = delta_sigma0(dsT.AS, dsT.CT, Rho_Vals[rv])\n",
    "        Arv = ((eval('dsT.'+'dsigma_'+str(rv))*dsT.grav).interp(depth = dsT.z_in)*dsT.e3i).cumsum(dim = 'z_in').values\n",
    "        Intrv = np.concatenate((np.zeros((1, Arv.shape[1], Arv.shape[2])), Arv), axis = 0)\n",
    "        dsT['Int_'+str(rv)] = (('depth', 'lat', 'lon'), Intrv)   \n",
    "        dsT['M_'+str(rv)] = dsT.grav*dsT.eta + eval('dsT.Int_'+str(rv))/Rho_Vals[rv]\n",
    "        dsT['M_'+str(rv)] = eval('dsT.M_'+str(rv))*dsT.MASK\n",
    "\n",
    "    dsT['z'] = dsT.eta-dsT.depth # - grid.interp(dsT.msl, axis = ('X', 'Y'))/(sigma_0*dsT.grav)\n",
    "\n",
    "\n",
    "    dsT['Rho_coords'] = (('Rho_coords'), Rho_Vals)\n",
    "    for val in ['M_'+str(rv) for rv in range(len(Rho_Vals))]:\n",
    "        dsT['Mr'+val[1:]] = grid.transform(da = eval('dsT.'+val), axis = 'Z', target= dsT.Rho_coords, target_data=dsT.sigmat)\n",
    "    \n",
    "    dsT['ASr'] = grid.transform(da = dsT.AS, axis = 'Z', target= dsT.Rho_coords, target_data=dsT.sigmat)   \n",
    "    dsT['CTr'] = grid.transform(da = dsT.CT, axis = 'Z', target= dsT.Rho_coords, target_data=dsT.sigmat)   \n",
    "    dsT['profondeur'] = grid.transform(da = dsT.z, axis = 'Z', target= dsT.Rho_coords, target_data=dsT.sigmat)          \n",
    "    dsT['ASr'] = grid.transform(da = dsT.AS, axis = 'Z', target= dsT.Rho_coords, target_data=dsT.sigmat)   \n",
    "    dsT['CTr'] = grid.transform(da = dsT.CT, axis = 'Z', target= dsT.Rho_coords, target_data=dsT.sigmat)   \n",
    "    dsT['rho_surf'] = dsT.sigmat.sel(depth = 0)#1000+ dsR.I_an.sel(depth = 0)\n",
    "    dsT['rho_25'] =  dsT.sigmat.sel(depth = 25)#1000+ dsR.I_an.sel(depth =25)\n",
    "    dsT['rho_15'] =  dsT.sigmat.sel(depth = 15)#1000+ dsR.I_an.sel(depth =15)\n",
    "    dsT['rho_35'] = dsT.sigmat.sel(depth = 35) #1000+ dsR.I_an.sel(depth =35)\n",
    "   \n",
    "    dsT['Q'] = -(dsT.f)*grid.interp(grid.derivative(dsT.sigmat, axis = 'Z'), 'Z')\n",
    "    dsT['Qr'] = grid.transform(da = dsT.Q, axis = 'Z', target= dsT.Rho_coords, target_data=dsT.sigmat) \n",
    "   \n",
    "    A = np.zeros(dsT.Mr_0.shape)\n",
    "    for rv in range(len(Rho_Vals)):\n",
    "        A[:,:,rv] = dsT['Mr_'+str(rv)][:,:,rv]\n",
    "    dsT['Mr'] = (('lon', 'lat', 'Rho_coords'), A)\n",
    "    \n",
    "    A = dsT.sigmat-dsT.sigmat.isel(depth = 0)-0.05\n",
    "    A = A.where(~np.isnan(A), 10000).where(A>0, 10000).values\n",
    "    B = np.argmin(A, axis = 0)\n",
    "    MLD = np.zeros((dsT.lon.shape[0], dsT.lat.shape[0]))\n",
    "    Sig_MLD = np.zeros((dsT.lon.shape[0], dsT.lat.shape[0]))\n",
    "\n",
    "    for i in range(B.shape[0]):#lat\n",
    "        for j in range(B.shape[1]):#lon\n",
    "            if A[B[i,j], i,j]==10000:\n",
    "                MLD[j,i] = np.nan\n",
    "                Sig_MLD[j,i] = np.nan\n",
    "            else:\n",
    "                MLD[j,i] = dsT.z[j,i,B[i,j]]\n",
    "                Sig_MLD[j,i] = dsT.sigmat[B[i,j], i,j]\n",
    "    dsT['MLD'] = (('lon', 'lat'), MLD)\n",
    "    dsT['Sig_MLD'] = (('lon', 'lat'), Sig_MLD)\n",
    "    for rv in range(len(Rho_Vals)):\n",
    "        dsT = dsT.drop({'M_'+str(rv), 'Mr_'+str(rv), 'dsigma_'+str(rv), 'Int_'+str(rv)})\n",
    "    dsT = dsT.drop({'t_an', 'S', 'T', 'P0', 'R0', 'AS1', 'CT1', 'R1', 'P1', 'R2'})\n",
    "    return dsT"
   ]
  },
  {
   "cell_type": "code",
   "execution_count": 1,
   "id": "c062920b",
   "metadata": {
    "ExecuteTime": {
     "end_time": "2024-06-14T08:11:40.085092Z",
     "start_time": "2024-06-14T08:11:40.034932Z"
    },
    "code_folding": [],
    "hidden": true
   },
   "outputs": [],
   "source": [
    "def WOA_M_Q_sigma(path_T, path_S, path_R, deta, Rho_Vals, g_0 = 9.83):\n",
    "    try:  \n",
    "        dsT = xr.open_dataset(path_T, decode_times=False).isel(time=0).isel(lat=slice(619, 720))\n",
    "        dsS = xr.open_dataset(path_S, decode_times=False).isel(time=0).isel(lat=slice(619, 720))\n",
    "        dsR = xr.open_dataset(path_R, decode_times=False).isel(time=0).isel(lat=slice(619, 720))\n",
    "\n",
    "        dsT = dsT.drop(('time','crs','t_mn','t_dd','t_sd','t_se','t_oa', 't_ma', 't_gp', 'lat_bnds', 'lon_bnds','depth_bnds', 'climatology_bounds'))\n",
    "        dsS = dsS.drop(('time','crs','s_mn','s_dd','s_sd','s_se','s_oa', 's_ma', 's_gp', 'lat_bnds', 'lon_bnds', 'depth_bnds', 'climatology_bounds'))\n",
    "        dsR = dsR.drop(('time','crs','I_mn','I_dd','I_sd','I_se','I_oa', 'I_ma', 'I_gp', 'lat_bnds', 'lon_bnds', 'depth_bnds', 'climatology_bounds'))\n",
    "    except:\n",
    "        dsT = xr.open_dataset(path_T, decode_times=False).isel(lat=slice(619, 720))\n",
    "        dsS = xr.open_dataset(path_S, decode_times=False).isel(lat=slice(619, 720))\n",
    "        dsR = xr.open_dataset(path_R, decode_times=False).isel(lat=slice(619, 720))\n",
    "\n",
    "        dsT = dsT.drop(('crs','t_mn','t_dd','t_sd','t_se','t_oa', 't_ma', 't_gp', 'lat_bnds', 'lon_bnds','depth_bnds', 'climatology_bounds'))\n",
    "        dsS = dsS.drop(('crs','s_mn','s_dd','s_sd','s_se','s_oa', 's_ma', 's_gp', 'lat_bnds', 'lon_bnds', 'depth_bnds', 'climatology_bounds'))\n",
    "        dsR = dsR.drop(('crs','I_mn','I_dd','I_sd','I_se','I_oa', 'I_ma', 'I_gp', 'lat_bnds', 'lon_bnds', 'depth_bnds', 'climatology_bounds'))\n",
    "\n",
    "    # Horizontal grid statics\n",
    "    lats = dsT.lat.values\n",
    "    lons = dsT.lon.values\n",
    "    lat_in = 0.5*(lats[1:]+lats[:-1])\n",
    "    lon_in = 0.5*(lons[1:]+lons[:-1])\n",
    "\n",
    "\n",
    "    e1i = np.zeros((len(lats), len(lon_in)))\n",
    "    e2i = np.zeros((len(lat_in), len(lons)))\n",
    "    for i in range(len(lats)):\n",
    "        for j in range(len(lon_in)):\n",
    "            e1i[i,j] = distance.distance((lats[i], lons[j]), (lats[i], lons[j+1]) ).m        \n",
    "    for i in range(len(lat_in)):\n",
    "        for j in range(len(lons)):\n",
    "            e2i[i,j] = distance.distance((lats[i], lons[j]), (lats[i+1], lons[j]) ).m        \n",
    "\n",
    "    DZ = dsT.depth.values[1:]-dsT.depth.values[:-1]\n",
    "    z_in = dsT.depth.values[:-1] +DZ/2\n",
    "    z = dsT.depth.values\n",
    "\n",
    "    dsT['z_in'] = ('z_in', z_in)\n",
    "    dsT['lat_in'] = (('lat_in'), lat_in)\n",
    "    dsT['lon_in'] = (('lon_in'), lon_in)\n",
    "\n",
    "    dsT['e3i'] = ('z_in', DZ)\n",
    "    dsT['e1i'] = (('lat', 'lon_in'), e1i)\n",
    "    dsT['e2i'] = (('lat_in', 'lon'), e2i)\n",
    "\n",
    "    dsT = dsT.set_coords(('lat_in', 'lon_in', 'z_in', 'e1i', 'e2i', 'e3i'))\n",
    "\n",
    "    metrics = {('X',): ['e1i'], ('Y',): ['e2i'], ('Z',): ['e3i']}\n",
    "    coords={\"X\": {\"center\": \"lon\", 'inner':'lon_in'}, 'Y':{'center':'lat', 'inner':'lat_in'},'Z':{'center':'depth', 'inner':'z_in'}}\n",
    "    grid = Grid(dsT, periodic = ['X'], coords = coords,  metrics = metrics, boundary = 'fill', fill_value = np.nan)\n",
    "\n",
    "    # eta on WOA\n",
    "    try: \n",
    "        dsT['eta'] = deta\n",
    "        dsT['Mask-eta'] = dsT.eta.where(np.isnan(dsT.eta), 1)\n",
    "        del deta\n",
    "    except:\n",
    "        try: \n",
    "            latA = deta.llat_cc.values.reshape((deta.llat_cc.shape[0]*deta.llat_cc.shape[1], ))\n",
    "            lonA = deta.llon_cc.values.reshape((deta.llon_cc.shape[0]*deta.llon_cc.shape[1], ))\n",
    "            values = deta[:,:].values.reshape((deta.llat_cc.shape[0]*deta.llat_cc.shape[1], ))\n",
    "            points = np.transpose(np.array((latA,lonA)))\n",
    "            xx, yy = np.meshgrid(dsT.lat.values, dsT.lon.values)\n",
    "            ETA_WOA = griddata(points, values, (xx, yy), method = 'linear')\n",
    "            dsT['eta'] = (('lon', 'lat'), ETA_WOA)\n",
    "            dsT['Mask-eta'] = dsT.eta.where(np.isnan(dsT.eta), 1)\n",
    "            del deta, ETA_WOA\n",
    "        except:\n",
    "            try:\n",
    "                latA = deta.lat.values.reshape((deta.lat.shape[0]*deta.lat.shape[1], ))\n",
    "                lonA = deta.lon.values.reshape((deta.lat.shape[0]*deta.lat.shape[1], ))\n",
    "                values = deta[:,:].values.reshape((deta.lat.shape[0]*deta.lat.shape[1], ))\n",
    "                points = np.transpose(np.array((latA,lonA)))\n",
    "                xx, yy = np.meshgrid(dsT.lat.values, dsT.lon.values)\n",
    "                ETA_WOA = griddata(points, values, (xx, yy), method = 'linear')\n",
    "                dsT['eta'] = (('lon', 'lat'), ETA_WOA)\n",
    "                dsT['Mask-eta'] = dsT.eta.where(np.isnan(dsT.eta), 1)\n",
    "                del deta, ETA_WOA\n",
    "            except:\n",
    "                latA = deta.lat.values\n",
    "                lonA = deta.lon.values\n",
    "                LonA, LatA = np.meshgrid(lonA, latA)\n",
    "                LonA = LonA.flatten()\n",
    "                LatA = LatA.flatten()\n",
    "                values = deta[:,:].values.flatten()\n",
    "                points = np.transpose(np.array((LatA,LonA)))\n",
    "                xx, yy = np.meshgrid(dsT.lat.values, dsT.lon.values)\n",
    "                ETA_WOA = griddata(points, values, (xx, yy), method = 'linear')\n",
    "                dsT['eta'] = (('lon', 'lat'), ETA_WOA)\n",
    "\n",
    "                dsT['Mask-eta'] = dsT.eta.where(np.isnan(dsT.eta), 1)\n",
    "                del deta, ETA_WOA\n",
    "    # Mask\n",
    "    MASK = cp.deepcopy(dsT.t_an.values)\n",
    "    MASK[~np.isnan(MASK)] = 1*np.ones(np.shape(MASK[~np.isnan(MASK)]))\n",
    "    MASK[np.isnan(MASK)] = np.nan*np.ones(np.shape(MASK[np.isnan(MASK)]))\n",
    "    dsT['MASK'] = (('depth','lat','lon'), MASK)\n",
    "\n",
    "    #grav\n",
    "    dsT['grav'] = g_0\n",
    "    #f\n",
    "    dsT['f'] = gsw.f(dsT.lat)\n",
    "    \n",
    "    dsT['S'] = dsS.s_an\n",
    "    dsT['T']= dsT.t_an\n",
    "    dsT['R0'] = gsw.density.rho_t_exact(dsS.s_an, dsT.t_an, dsT.depth)\n",
    "    A = (((dsT.R0)*dsT.grav).interp(depth = dsT.z_in)*dsT.e3i).cumsum(dim = 'z_in').values\n",
    "    P0 = np.concatenate((np.zeros((1, A.shape[1], A.shape[2])), A), axis = 0)\n",
    "    dsT['P0'] = (('depth', 'lat', 'lon'), P0) #en PASCALs\n",
    "    dsT['P0'] = dsT.P0*dsT.MASK\n",
    "    \n",
    "    dsT['AS1'] = gsw.SA_from_SP(dsS.s_an, dsT.P0,dsT.lon,dsT.lat)\n",
    "    dsT['CT1'] = gsw.CT_from_t(dsT.AS1, dsT.t_an, dsT.P0*1e-4)\n",
    "    dsT['R1'] = gsw.density.rho(dsT.AS1, dsT.CT1, dsT.P0*1e-4)\n",
    "    A = (((dsT.R1)*dsT.grav).interp(depth = dsT.z_in)*dsT.e3i).cumsum(dim = 'z_in').values\n",
    "    P1 = np.concatenate((np.zeros((1, A.shape[1], A.shape[2])), A), axis = 0)\n",
    "    dsT['P1'] = (('depth', 'lat', 'lon'), P1) #en PASCALs\n",
    "    dsT['P1'] = dsT.P1*dsT.MASK\n",
    "\n",
    "    dsT['AS'] = gsw.SA_from_SP(dsS.s_an, dsT.P1,dsT.lon,dsT.lat)\n",
    "    dsT['CT'] = gsw.CT_from_t(dsT.AS, dsT.t_an, dsT.P1*1e-4)\n",
    "    dsT['R2'] = gsw.density.rho(dsT.AS, dsT.CT, dsT.P1*1e-4)\n",
    "    A = (((dsT.R2)*dsT.grav).interp(depth = dsT.z_in)*dsT.e3i).cumsum(dim = 'z_in').values\n",
    "    P2 = np.concatenate((np.zeros((1, A.shape[1], A.shape[2])), A), axis = 0)\n",
    "    dsT['P'] = (('depth', 'lat', 'lon'), P2) #en PASCALs\n",
    "    dsT['P'] = dsT.P*dsT.MASK\n",
    "    \n",
    "    dsT['R'] = 1000+dsR.I_an\n",
    "    dsT['sigmat'] = sigma0(dsT.AS, dsT.CT)\n",
    "   \n",
    "    \n",
    "    A2 = (((dsT.sigmat)*dsT.grav).interp(depth = dsT.z_in)*dsT.e3i).cumsum(dim = 'z_in').values\n",
    "    P2 = np.concatenate((np.zeros((1, A2.shape[1], A2.shape[2])), A2), axis = 0)\n",
    "    dsT['P2'] = (('depth', 'lat', 'lon'), P2) #en PASCALs\n",
    "    dsT['P2'] = dsT.P2*dsT.MASK\n",
    "    \n",
    "\n",
    "    for rv in range(len(Rho_Vals)):\n",
    "        dsT['dsigma_'+str(rv)] = delta_sigma0(dsT.AS, dsT.CT, Rho_Vals[rv])\n",
    "        Arv = ((eval('dsT.'+'dsigma_'+str(rv))*dsT.grav).interp(depth = dsT.z_in)*dsT.e3i).cumsum(dim = 'z_in').values\n",
    "        Intrv = np.concatenate((np.zeros((1, Arv.shape[1], Arv.shape[2])), Arv), axis = 0)\n",
    "        dsT['Int_'+str(rv)] = (('depth', 'lat', 'lon'), Intrv)   \n",
    "        dsT['M_'+str(rv)] = dsT.grav*dsT.eta + eval('dsT.Int_'+str(rv))/Rho_Vals[rv]\n",
    "        dsT['M_'+str(rv)] = eval('dsT.M_'+str(rv))*dsT.MASK\n",
    "\n",
    "    dsT['z'] = dsT.eta-dsT.depth\n",
    "\n",
    "\n",
    "    dsT['Rho_coords'] = (('Rho_coords'), Rho_Vals)\n",
    "    for val in ['M_'+str(rv) for rv in range(len(Rho_Vals))]:\n",
    "        dsT['Mr'+val[1:]] = grid.transform(da = eval('dsT.'+val), axis = 'Z', target= dsT.Rho_coords, target_data=dsT.sigmat)\n",
    "    \n",
    "    dsT['ASr'] = grid.transform(da = dsT.AS, axis = 'Z', target= dsT.Rho_coords, target_data=dsT.sigmat)   \n",
    "    dsT['CTr'] = grid.transform(da = dsT.CT, axis = 'Z', target= dsT.Rho_coords, target_data=dsT.sigmat)   \n",
    "    dsT['profondeur'] = grid.transform(da = dsT.z, axis = 'Z', target= dsT.Rho_coords, target_data=dsT.sigmat)          \n",
    "    dsT['ASr'] = grid.transform(da = dsT.AS, axis = 'Z', target= dsT.Rho_coords, target_data=dsT.sigmat)   \n",
    "    dsT['CTr'] = grid.transform(da = dsT.CT, axis = 'Z', target= dsT.Rho_coords, target_data=dsT.sigmat)   \n",
    "    dsT['profondeur'] = grid.transform(da = dsT.z, axis = 'Z', target= dsT.Rho_coords, target_data=dsT.sigmat)   \n",
    "    dsT['rho_surf'] = dsT.sigmat.sel(depth = 0)#1000+ dsR.I_an.sel(depth = 0)\n",
    "    dsT['rho_25'] =  dsT.sigmat.sel(depth = 25)#1000+ dsR.I_an.sel(depth =25)\n",
    "    dsT['rho_15'] =  dsT.sigmat.sel(depth = 15)#1000+ dsR.I_an.sel(depth =15)\n",
    "    dsT['rho_35'] = dsT.sigmat.sel(depth = 35) #1000+ dsR.I_an.sel(depth =35)\n",
    "\n",
    "    A = np.zeros(dsT.Mr_0.shape)\n",
    "    for rv in range(len(Rho_Vals)):\n",
    "        A[:,:,rv] = dsT['Mr_'+str(rv)][:,:,rv]\n",
    "    dsT['Mr'] = (('lon', 'lat', 'Rho_coords'), A)\n",
    "    \n",
    "    A = dsT.sigmat-dsT.sigmat.isel(depth = 0)-0.05\n",
    "    A = A.where(~np.isnan(A), 10000).where(A>0, 10000).values\n",
    "    B = np.argmin(A, axis = 0)\n",
    "    MLD = np.zeros((dsT.lon.shape[0], dsT.lat.shape[0]))\n",
    "    Sig_MLD = np.zeros((dsT.lon.shape[0], dsT.lat.shape[0]))\n",
    "\n",
    "    for i in range(B.shape[0]):#lat\n",
    "        for j in range(B.shape[1]):#lon\n",
    "            if A[B[i,j], i,j]==10000:\n",
    "                MLD[j,i] = np.nan\n",
    "                Sig_MLD[j,i] = np.nan\n",
    "            else:\n",
    "                MLD[j,i] = dsT.z[j,i,B[i,j]]\n",
    "                Sig_MLD[j,i] = dsT.sigmat[B[i,j], i,j]\n",
    "    dsT['MLD'] = (('lon', 'lat'), MLD)\n",
    "    dsT['Sig_MLD'] = (('lon', 'lat'), Sig_MLD)\n",
    "    #ds_all = dsT\n",
    "    for rv in range(len(Rho_Vals)):\n",
    "        dsT = dsT.drop({'M_'+str(rv), 'Mr_'+str(rv), 'dsigma_'+str(rv), 'Int_'+str(rv)})\n",
    "    dsT = dsT.drop({'t_an', 'S', 'T', 'P0', 'R0', 'AS1', 'CT1', 'R1', 'P1', 'R2'})\n",
    "    return dsT"
   ]
  },
  {
   "cell_type": "markdown",
   "id": "548b4916",
   "metadata": {
    "heading_collapsed": true
   },
   "source": [
    "## MIMOC"
   ]
  },
  {
   "cell_type": "code",
   "execution_count": 9,
   "id": "230973c1",
   "metadata": {
    "ExecuteTime": {
     "end_time": "2024-06-12T07:12:32.490773Z",
     "start_time": "2024-06-12T07:12:32.467764Z"
    },
    "code_folding": [],
    "hidden": true
   },
   "outputs": [],
   "source": [
    "def MIMOC(path_data, deta, Rho_Vals,  g_0 = 9.83):\n",
    "    ds = xr.open_dataset(path_data)\n",
    "    ds = ds.rename({'LATITUDE':'LAT', 'LONGITUDE':'LONG', 'PRESSURE':'PRES'})\n",
    "    ds = ds.set_coords({'LAT', 'LONG', 'PRES'})\n",
    "    Lons_180 = cp.deepcopy(ds.LONG.values)\n",
    "    Lons_180[Lons_180>180] = Lons_180[Lons_180>180]-360\n",
    "    ds['LONG_180'] = (('LONG'), Lons_180)\n",
    "    ds = ds.isel(LAT = slice(290, 341))\n",
    "\n",
    "    # Horizontal grid statics\n",
    "    lats = ds.LAT.values\n",
    "    lons = ds.LONG.values\n",
    "    lat_in = 0.5*(lats[1:]+lats[:-1])\n",
    "    lon_in = 0.5*(lons[1:]+lons[:-1])\n",
    "\n",
    "\n",
    "    e1i = np.zeros((len(lats), len(lon_in)))\n",
    "    e2i = np.zeros((len(lat_in), len(lons)))\n",
    "    for i in range(len(lats)):\n",
    "        for j in range(len(lon_in)):\n",
    "            e1i[i,j] = distance.distance((lats[i], lons[j]), (lats[i], lons[j+1]) ).m        \n",
    "    for i in range(len(lat_in)):\n",
    "        for j in range(len(lons)):\n",
    "            e2i[i,j] = distance.distance((lats[i], lons[j]), (lats[i+1], lons[j]) ).m        \n",
    "\n",
    "    # grid\n",
    "    DP = ds.PRES.values[1:]-ds.PRES.values[:-1] \n",
    "    P_in = ds.PRES.values[:-1]+DP/2\n",
    "\n",
    "    ds['P_in'] = ('P_in', P_in)\n",
    "    ds['lat_in'] = (('lat_in'), lat_in)\n",
    "    ds['lon_in'] = (('lon_in'), lon_in)\n",
    "\n",
    "    ds['e3i'] = ('P_in', DP)\n",
    "    ds['e1i'] = (('LAT', 'lon_in'), e1i)\n",
    "    ds['e2i'] = (('lat_in', 'LONG'), e2i)\n",
    "\n",
    "    ds = ds.set_coords(('lat_in', 'lon_in', 'P_in', 'e1i', 'e2i', 'e3i'))\n",
    "\n",
    "    metrics = {('X',): ['e1i'], ('Y',): ['e2i'], ('Z',): ['e3i']}\n",
    "    coords={\"X\": {\"center\": \"LONG\", 'inner':'lon_in'}, 'Y':{'center':'LAT', 'inner':'lat_in'},'Z':{'center':'PRES', 'inner':'P_in'}}\n",
    "    grid = Grid(ds, periodic = ['X'], coords = coords,  metrics = metrics, boundary = 'fill', fill_value = np.nan)\n",
    "\n",
    "\n",
    "    # Grav\n",
    "    ds['grav'] = g_0\n",
    "    ds['f'] = gsw.f(ds.LAT)\n",
    "    ds['CT'] = ds.CONSERVATIVE_TEMPERATURE\n",
    "    ds['AS'] = ds.ABSOLUTE_SALINITY\n",
    "    # eta on MIMOC\n",
    "    try:\n",
    "        E_array = np.zeros((ds.LONG.shape[0], ds.LAT.shape[0]))\n",
    "\n",
    "        latA = deta.llat_cc.values.reshape((deta.llat_cc.shape[0]*deta.llat_cc.shape[1], ))\n",
    "        lonA = deta.llon_cc.values.reshape((deta.llon_cc.shape[0]*deta.llon_cc.shape[1], ))\n",
    "        values = deta.values.reshape((deta.llat_cc.shape[0]*deta.llat_cc.shape[1], ))\n",
    "        points = np.transpose(np.array((latA,lonA)))\n",
    "        xx, yy = np.meshgrid(ds.LAT.values, ds.LONG_180.values)\n",
    "        E_array[:,:] = griddata(points, values, (xx, yy), method = 'linear')\n",
    "        ds['eta'] = (('LONG', 'LAT'),E_array)\n",
    "        del deta, E_array\n",
    "    except:\n",
    "        E_array = np.zeros((ds.LONG.shape[0], ds.LAT.shape[0]))\n",
    "        latA = deta.lat.values\n",
    "        lonA = deta.lon.values\n",
    "        LonA, LatA = np.meshgrid(lonA, latA)\n",
    "        LonA = LonA.flatten()\n",
    "        LatA = LatA.flatten()\n",
    "        values = np.transpose(deta.values).flatten()\n",
    "        points = np.transpose(np.array((LatA,LonA)))\n",
    "\n",
    "        xx, yy = np.meshgrid(ds.LAT.values, np.linspace(-179.5, 180, 720))\n",
    "\n",
    "        ARR =  griddata(points, values, (xx, yy), method = 'linear')\n",
    "        E_array[:,:]  = np.concatenate([ARR[359:,:], ARR[:359,:]])\n",
    "        ds['eta'] = (('LONG', 'LAT'), E_array)\n",
    "        del deta, E_array\n",
    "    MASK = cp.deepcopy(ds.CONSERVATIVE_TEMPERATURE.values)\n",
    "    MASK[~np.isnan(MASK)] = 1*np.ones(np.shape(MASK[~np.isnan(MASK)]))\n",
    "    MASK[np.isnan(MASK)] = np.nan*np.ones(np.shape(MASK[np.isnan(MASK)]))\n",
    "    ds['MASK'] = (('PRES','LAT','LONG'), MASK)\n",
    "\n",
    "    for rv in range(len(Rho_Vals)):\n",
    "        ds['dsigma_'+str(rv)] = delta_sigma0(ds.AS, ds.CT, Rho_Vals[rv])\n",
    "        Arv = ((eval('ds.'+'dsigma_'+str(rv))*ds.grav).interp(PRES = ds.P_in)*ds.e3i).cumsum(dim = 'P_in').values\n",
    "        Intrv = np.concatenate((np.zeros((1, Arv.shape[1], Arv.shape[2])), Arv), axis = 0)\n",
    "        ds['Int_'+str(rv)] = (('PRES', 'LAT', 'LONG'), Intrv)   \n",
    "        ds['M_'+str(rv)] = ds.grav*ds.eta + eval('ds.Int_'+str(rv))/Rho_Vals[rv]\n",
    "        ds['M_'+str(rv)] = eval('ds.M_'+str(rv))*ds.MASK\n",
    "\n",
    "    \n",
    "    \n",
    "    ds['alpha'] = gsw.specvol(ds.ABSOLUTE_SALINITY,ds.CONSERVATIVE_TEMPERATURE,ds.PRES)\n",
    "    A = (ds.alpha.interp(PRES = ds.P_in)*1e4*ds.e3i).cumsum(dim = 'P_in').values\n",
    "    Zimt = np.concatenate((np.zeros((1, A.shape[1], A.shape[2])), A), axis = 0)\n",
    "    ds['zimt'] = (('PRES', 'LAT', 'LONG'), Zimt)\n",
    "\n",
    "    ds['z'] = ds.eta - ds.zimt/ds.grav#ds.eta - ds.zimt/9.82#ds.grav\n",
    "    ds['rho'] = gsw.rho(ds.AS,ds.CT,ds.PRES)\n",
    "    ds['sigmat'] = sigma0(ds.AS,ds.CT)\n",
    "\n",
    "    \n",
    "    \n",
    "    ds['Rho_coords'] = (('Rho_coords'), Rho_Vals)\n",
    "    for val in ['M_'+str(rv) for rv in range(len(Rho_Vals))]:\n",
    "        ds['Mr'+val[1:]] = grid.transform(da = eval('ds.'+val), axis = 'Z', target= ds.Rho_coords, target_data=ds.sigmat)\n",
    "    \n",
    "    ds['profondeur'] = grid.transform(da = ds.z, axis = 'Z', target= ds.Rho_coords, target_data=ds.sigmat)          \n",
    "    ds['ASr'] = grid.transform(da = ds.AS, axis = 'Z', target= ds.Rho_coords, target_data=ds.sigmat)   \n",
    "    ds['CTr'] = grid.transform(da = ds.CT, axis = 'Z', target= ds.Rho_coords, target_data=ds.sigmat)   \n",
    "    ds['profondeur'] = grid.transform(da = ds.z, axis = 'Z', target= ds.Rho_coords, target_data=ds.sigmat)   \n",
    "    ds['rho_surf'] = ds.rho.isel(PRES =  int(np.argmin(np.abs(ds.PRES.values - 0))))\n",
    "    ds['rho_15'] = ds.rho.isel(PRES = int(np.argmin(np.abs(ds.PRES.values - 15))))\n",
    "    ds['rho_25'] = ds.rho.isel(PRES = int(np.argmin(np.abs(ds.PRES.values - 25))))\n",
    "    ds['rho_35'] = ds.rho.isel(PRES = int(np.argmin(np.abs(ds.PRES.values - 35))))    \n",
    "    \n",
    "    A = np.zeros(ds.Mr_0.shape)\n",
    "    for rv in range(len(Rho_Vals)):\n",
    "        A[:,:,rv] = ds['Mr_'+str(rv)][:,:,rv]\n",
    "    ds['Mr'] = (('LONG', 'LAT', 'Rho_coords'), A)\n",
    "\n",
    "    A = ds.sigmat-ds.sigmat.isel(PRES = 0)-0.05\n",
    "    A = A.where(~np.isnan(A), 10000).where(A>0, 10000).values\n",
    "    B = np.argmin(A, axis = 0)\n",
    "    MLD = np.zeros((ds.LONG.shape[0], ds.LAT.shape[0]))\n",
    "    Sig_MLD = np.zeros((ds.LONG.shape[0], ds.LAT.shape[0]))\n",
    "\n",
    "    for i in range(B.shape[0]):#lat\n",
    "        for j in range(B.shape[1]):#lon\n",
    "            if A[B[i,j], i,j]==10000:\n",
    "                MLD[j,i] = np.nan\n",
    "                Sig_MLD[j,i] = np.nan\n",
    "            else:\n",
    "                MLD[j,i] = ds.z[j,i,B[i,j]]\n",
    "                Sig_MLD[j,i] = ds.sigmat[B[i,j], i,j]\n",
    "    ds['MLD'] = (('LONG', 'LAT'), MLD)\n",
    "    ds['Sig_MLD'] = (('LONG', 'LAT'), Sig_MLD)\n",
    "\n",
    "    dsR = ds.drop({'ABSOLUTE_SALINITY', 'CONSERVATIVE_TEMPERATURE', 'zimt'})\n",
    "    for rv in range(len(Rho_Vals)):\n",
    "        dsR = dsR.drop({'M_'+str(rv), 'Mr_'+str(rv), 'dsigma_'+str(rv), 'Int_'+str(rv)})\n",
    "    dsR = dsR.rename({'rho':'R'})\n",
    "    return ds_R\n"
   ]
  },
  {
   "cell_type": "code",
   "execution_count": 2,
   "id": "190832f7",
   "metadata": {
    "ExecuteTime": {
     "end_time": "2024-06-14T08:15:51.557183Z",
     "start_time": "2024-06-14T08:15:51.537958Z"
    },
    "code_folding": [
     0
    ],
    "hidden": true
   },
   "outputs": [],
   "source": [
    "def MIMOC_moy(Liste, deta, Rho_Vals,  g_0 = 9.83):\n",
    "    L_ds = []\n",
    "    for m in range(len(Liste)):\n",
    "        ds = xr.open_dataset(Liste[m])\n",
    "        ds = ds.rename({'LATITUDE':'LAT', 'LONGITUDE':'LONG', 'PRESSURE':'PRES'})\n",
    "        ds = ds.set_coords({'LAT', 'LONG', 'PRES'})\n",
    "        Lons_180 = cp.deepcopy(ds.LONG.values)\n",
    "        Lons_180[Lons_180>180] = Lons_180[Lons_180>180]-360\n",
    "        ds['LONG_180'] = (('LONG'), Lons_180)\n",
    "        ds = ds.isel(LAT = slice(290, 341))\n",
    "        L_ds.append(ds)\n",
    "    ds = xr.concat(L_ds, dim = 'int').mean('int')\n",
    "    # Horizontal grid statics\n",
    "    lats = ds.LAT.values\n",
    "    lons = ds.LONG.values\n",
    "    lat_in = 0.5*(lats[1:]+lats[:-1])\n",
    "    lon_in = 0.5*(lons[1:]+lons[:-1])\n",
    "\n",
    "\n",
    "    e1i = np.zeros((len(lats), len(lon_in)))\n",
    "    e2i = np.zeros((len(lat_in), len(lons)))\n",
    "    for i in range(len(lats)):\n",
    "        for j in range(len(lon_in)):\n",
    "            e1i[i,j] = distance.distance((lats[i], lons[j]), (lats[i], lons[j+1]) ).m        \n",
    "    for i in range(len(lat_in)):\n",
    "        for j in range(len(lons)):\n",
    "            e2i[i,j] = distance.distance((lats[i], lons[j]), (lats[i+1], lons[j]) ).m        \n",
    "\n",
    "    # grid\n",
    "    DP = ds.PRES.values[1:]-ds.PRES.values[:-1] \n",
    "    P_in = ds.PRES.values[:-1]+DP/2\n",
    "\n",
    "    ds['P_in'] = ('P_in', P_in)\n",
    "    ds['lat_in'] = (('lat_in'), lat_in)\n",
    "    ds['lon_in'] = (('lon_in'), lon_in)\n",
    "\n",
    "    ds['e3i'] = ('P_in', DP)\n",
    "    ds['e1i'] = (('LAT', 'lon_in'), e1i)\n",
    "    ds['e2i'] = (('lat_in', 'LONG'), e2i)\n",
    "\n",
    "    ds = ds.set_coords(('lat_in', 'lon_in', 'P_in', 'e1i', 'e2i', 'e3i'))\n",
    "\n",
    "    metrics = {('X',): ['e1i'], ('Y',): ['e2i'], ('Z',): ['e3i']}\n",
    "    coords={\"X\": {\"center\": \"LONG\", 'inner':'lon_in'}, 'Y':{'center':'LAT', 'inner':'lat_in'},'Z':{'center':'PRES', 'inner':'P_in'}}\n",
    "    grid = Grid(ds, periodic = ['X'], coords = coords,  metrics = metrics, boundary = 'fill', fill_value = np.nan)\n",
    "\n",
    "\n",
    "    # Grav\n",
    "    ds['grav'] = g_0\n",
    "    ds['f'] = gsw.f(ds.LAT)\n",
    "    ds['CT'] = ds.CONSERVATIVE_TEMPERATURE\n",
    "    ds['AS'] = ds.ABSOLUTE_SALINITY\n",
    "    # eta on MIMOC\n",
    "    try:\n",
    "        E_array = np.zeros((len(Liste), ds.LONG.shape[0], ds.LAT.shape[0]))\n",
    "        for m in range(len(Liste)):\n",
    "            latA = deta.llat_cc.values.reshape((deta.llat_cc.shape[0]*deta.llat_cc.shape[1], ))\n",
    "            lonA = deta.llon_cc.values.reshape((deta.llon_cc.shape[0]*deta.llon_cc.shape[1], ))\n",
    "            values = deta.isel(month = m)[:,:].values.reshape((deta.llat_cc.shape[0]*deta.llat_cc.shape[1], ))\n",
    "            points = np.transpose(np.array((latA,lonA)))\n",
    "            xx, yy = np.meshgrid(ds.LAT.values, ds.LONG_180.values)\n",
    "            E_array[m,:,:] = griddata(points, values, (xx, yy), method = 'linear')\n",
    "        ds['eta'] = (('LONG', 'LAT'), np.mean(E_array, axis = 0))\n",
    "        del deta, E_array\n",
    "    except:\n",
    "        E_array = np.zeros((len(Liste_MIMOC), ds.LONG.shape[0], ds.LAT.shape[0]))\n",
    "        for m in range(12):\n",
    "            print(m)\n",
    "            latA = deta.lat.values\n",
    "            lonA = deta.lon.values\n",
    "            LonA, LatA = np.meshgrid(lonA, latA)\n",
    "            LonA = LonA.flatten()\n",
    "            LatA = LatA.flatten()\n",
    "            values = np.transpose(deta.isel(month = m)[:,:].values).flatten()\n",
    "            points = np.transpose(np.array((LatA,LonA)))\n",
    "\n",
    "            xx, yy = np.meshgrid(ds.LAT.values, np.linspace(-179.5, 180, 720))\n",
    "\n",
    "            ARR =  griddata(points, values, (xx, yy), method = 'linear')\n",
    "            E_array[m,:,:]  = np.concatenate([ARR[359:,:], ARR[:359,:]])\n",
    "        ds['eta'] = (('LONG', 'LAT'), np.mean(E_array[:,:,:], axis = 0))\n",
    "        del deta, E_array\n",
    "    MASK = cp.deepcopy(ds.CONSERVATIVE_TEMPERATURE.values)\n",
    "    MASK[~np.isnan(MASK)] = 1*np.ones(np.shape(MASK[~np.isnan(MASK)]))\n",
    "    MASK[np.isnan(MASK)] = np.nan*np.ones(np.shape(MASK[np.isnan(MASK)]))\n",
    "    ds['MASK'] = (('PRES','LAT','LONG'), MASK)\n",
    "\n",
    "    for rv in range(len(Rho_Vals)):\n",
    "        ds['dsigma_'+str(rv)] = delta_sigma0(ds.AS, ds.CT, Rho_Vals[rv])\n",
    "        Arv = ((eval('ds.'+'dsigma_'+str(rv))*ds.grav).interp(PRES = ds.P_in)*ds.e3i).cumsum(dim = 'P_in').values\n",
    "        Intrv = np.concatenate((np.zeros((1, Arv.shape[1], Arv.shape[2])), Arv), axis = 0)\n",
    "        ds['Int_'+str(rv)] = (('PRES', 'LAT', 'LONG'), Intrv)   \n",
    "        ds['M_'+str(rv)] = ds.grav*ds.eta + eval('ds.Int_'+str(rv))/Rho_Vals[rv]\n",
    "        ds['M_'+str(rv)] = eval('ds.M_'+str(rv))*ds.MASK\n",
    "\n",
    "    \n",
    "    \n",
    "    ds['alpha'] = gsw.specvol(ds.ABSOLUTE_SALINITY,ds.CONSERVATIVE_TEMPERATURE,ds.PRES)\n",
    "    A = (ds.alpha.interp(PRES = ds.P_in)*1e4*ds.e3i).cumsum(dim = 'P_in').values\n",
    "    Zimt = np.concatenate((np.zeros((1, A.shape[1], A.shape[2])), A), axis = 0)\n",
    "    ds['zimt'] = (('PRES', 'LAT', 'LONG'), Zimt)\n",
    "\n",
    "    ds['z'] = ds.eta - ds.zimt/ds.grav#ds.eta - ds.zimt/9.82#ds.grav\n",
    "    ds['rho'] = gsw.rho(ds.AS,ds.CT,ds.PRES)\n",
    "    ds['sigmat'] = sigma0(ds.AS,ds.CT)\n",
    "\n",
    "    \n",
    "    \n",
    "    ds['Rho_coords'] = (('Rho_coords'), Rho_Vals)\n",
    "    for val in ['M_'+str(rv) for rv in range(len(Rho_Vals))]:\n",
    "        ds['Mr'+val[1:]] = grid.transform(da = eval('ds.'+val), axis = 'Z', target= ds.Rho_coords, target_data=ds.sigmat)\n",
    "    \n",
    "    ds['profondeur'] = grid.transform(da = ds.z, axis = 'Z', target= ds.Rho_coords, target_data=ds.sigmat)          \n",
    "    ds['ASr'] = grid.transform(da = ds.AS, axis = 'Z', target= ds.Rho_coords, target_data=ds.sigmat)   \n",
    "    ds['CTr'] = grid.transform(da = ds.CT, axis = 'Z', target= ds.Rho_coords, target_data=ds.sigmat)   \n",
    "    ds['profondeur'] = grid.transform(da = ds.z, axis = 'Z', target= ds.Rho_coords, target_data=ds.sigmat)   \n",
    "    ds['rho_surf'] = ds.rho.sel(PRES = 0)\n",
    "    ds['rho_15'] = ds.rho.sel(PRES = 15)\n",
    "    ds['rho_25'] = ds.rho.sel(PRES = 25)\n",
    "    ds['rho_35'] = ds.rho.sel(PRES = 35)    \n",
    "    \n",
    "    A = np.zeros(ds.Mr_0.shape)\n",
    "    for rv in range(len(Rho_Vals)):\n",
    "        A[:,:,rv] = ds['Mr_'+str(rv)][:,:,rv]\n",
    "    ds['Mr'] = (('LONG', 'LAT', 'Rho_coords'), A)\n",
    "\n",
    "    A = ds.sigmat-ds.sigmat.isel(PRES = 0)-0.05\n",
    "    A = A.where(~np.isnan(A), 10000).where(A>0, 10000).values\n",
    "    B = np.argmin(A, axis = 0)\n",
    "    MLD = np.zeros((ds.LONG.shape[0], ds.LAT.shape[0]))\n",
    "    Sig_MLD = np.zeros((ds.LONG.shape[0], ds.LAT.shape[0]))\n",
    "\n",
    "    for i in range(B.shape[0]):#lat\n",
    "        for j in range(B.shape[1]):#lon\n",
    "            if A[B[i,j], i,j]==10000:\n",
    "                MLD[j,i] = np.nan\n",
    "                Sig_MLD[j,i] = np.nan\n",
    "            else:\n",
    "                MLD[j,i] = ds.z[j,i,B[i,j]]\n",
    "                Sig_MLD[j,i] = ds.sigmat[B[i,j], i,j]\n",
    "    ds['MLD'] = (('LONG', 'LAT'), MLD)\n",
    "    ds['Sig_MLD'] = (('LONG', 'LAT'), Sig_MLD)\n",
    "\n",
    "    dsR = ds.drop({'ABSOLUTE_SALINITY', 'CONSERVATIVE_TEMPERATURE', 'zimt'})\n",
    "    for rv in range(len(Rho_Vals)):\n",
    "        dsR = dsR.drop({'M_'+str(rv), 'Mr_'+str(rv), 'dsigma_'+str(rv), 'Int_'+str(rv)})\n",
    "    dsR = dsR.rename({'rho':'R'})\n",
    "    return ds_R\n"
   ]
  },
  {
   "cell_type": "markdown",
   "id": "32ddd7c1",
   "metadata": {},
   "source": [
    "# Generate "
   ]
  },
  {
   "cell_type": "code",
   "execution_count": 11,
   "id": "dd95909f",
   "metadata": {
    "ExecuteTime": {
     "end_time": "2024-06-14T08:26:17.567700Z",
     "start_time": "2024-06-14T08:26:17.564602Z"
    }
   },
   "outputs": [],
   "source": [
    "ListeT = ['/storage/nplanat/DataWOA/woa18_A5B7_t'+'{0:02}'.format(k)+'_04.nc' for k in range(1, 13)]\n",
    "ListeS = ['/storage/nplanat/DataWOA/woa18_A5B7_s'+'{0:02}'.format(k)+'_04.nc' for k in range(1, 13)]\n",
    "ListeR = ['/storage/nplanat/DataWOA/woa18_A5B7_I'+'{0:02}'.format(k)+'_04.nc' for k in range(1, 13)]"
   ]
  },
  {
   "cell_type": "code",
   "execution_count": 12,
   "id": "d42de5c0",
   "metadata": {
    "ExecuteTime": {
     "end_time": "2024-06-14T08:26:21.671592Z",
     "start_time": "2024-06-14T08:26:17.569734Z"
    }
   },
   "outputs": [],
   "source": [
    "dsT = xr.open_mfdataset(ListeT, decode_times = False)#, compat='override')\n",
    "dsS = xr.open_mfdataset(ListeS, decode_times = False)#, compat='override')\n",
    "dsR = xr.open_mfdataset(ListeR, decode_times = False)#, compat='override')\n",
    "\n",
    "T = dsT.t_an.mean(dim = 'time').sel(lat = slice(72,82)).sel(lon = slice(-160, -130)).mean(dim = {'lat', 'lon'}).values\n",
    "S = dsS.s_an.mean(dim = 'time').sel(lat = slice(72,82)).sel(lon = slice(-160, -130)).mean(dim = {'lat', 'lon'}).values\n",
    "R = dsR.I_an.mean(dim = 'time').sel(lat = slice(72,82)).sel(lon = slice(-160, -130)).mean(dim = {'lat', 'lon'}).values\n",
    "\n",
    "AS = gsw.SA_from_SP(S, dsT.depth.values[:], -145, 75)\n",
    "CT = gsw.CT_from_t(S, T, dsT.depth.values[:])\n",
    "R0 = sigma0(AS, CT)\n",
    "R1 = sigma1(AS, CT)"
   ]
  },
  {
   "cell_type": "code",
   "execution_count": 13,
   "id": "53b1c9cc",
   "metadata": {
    "ExecuteTime": {
     "end_time": "2024-06-14T08:26:24.530622Z",
     "start_time": "2024-06-14T08:26:21.672860Z"
    }
   },
   "outputs": [],
   "source": [
    "Liste_MIMOC = ['/storage/nplanat/DataMIMOC/MIMOC_Z_GRID_v2.2_CT_SA_month'+'{0:02}'.format(k)+'.nc' for k in range(1, 13)]\n",
    "Liste_ds_MIMOC = [xr.open_dataset(Liste_MIMOC[i], decode_times = False) for i in range(12)]#, compat='override')\n",
    "L_modif_MIMOC = []\n",
    "for i in range(len(Liste_ds_MIMOC)): \n",
    "    ds = Liste_ds_MIMOC[i]\n",
    "    ds = ds.rename({'LATITUDE':'LAT', 'LONGITUDE':'LONG', 'PRESSURE':'PRES'})\n",
    "    ds = ds.set_coords({'LAT', 'LONG', 'PRES'})\n",
    "    L_modif_MIMOC.append(ds)\n",
    "dsT_MIMOC = xr.concat(L_modif_MIMOC, dim = 'int')\n",
    "\n",
    "T_MIMOC = dsT_MIMOC.CONSERVATIVE_TEMPERATURE.mean('int').sel(LAT = slice(72,82)).sel(LONG = slice(200, 230)).mean(dim = {'LAT', 'LONG'}).values\n",
    "S_MIMOC = dsT_MIMOC.ABSOLUTE_SALINITY.mean('int').sel(LAT = slice(72,82)).sel(LONG = slice(200, 230)).mean(dim = {'LAT', 'LONG'}).values\n",
    "R0_MIMOC = sigma0(S_MIMOC, T_MIMOC)\n",
    "\n",
    "i_sPW_MIMOC = np.argmax(T_MIMOC[5:20])+5\n",
    "i_wPW_MIMOC = np.argmin(T_MIMOC[16:35])+16\n",
    "i_AW_MIMOC = np.argmax(T_MIMOC[35:55])+35\n"
   ]
  },
  {
   "cell_type": "code",
   "execution_count": 25,
   "id": "6fc3698b",
   "metadata": {
    "ExecuteTime": {
     "end_time": "2024-06-14T08:30:52.304938Z",
     "start_time": "2024-06-14T08:30:51.984198Z"
    },
    "code_folding": []
   },
   "outputs": [
    {
     "data": {
      "text/plain": [
       "Text(0.5, 0, 'Temperature')"
      ]
     },
     "execution_count": 25,
     "metadata": {},
     "output_type": "execute_result"
    },
    {
     "data": {
      "image/png": "[encoded data removed]",
      "text/plain": [
       "<Figure size 640x480 with 2 Axes>"
      ]
     },
     "metadata": {},
     "output_type": "display_data"
    }
   ],
   "source": [
    "f = plt.figure()\n",
    "ax = plt.gca()\n",
    "i_sPW = np.argmax(T[5:20])+5\n",
    "i_wPW = np.argmin(T[16:24])+16\n",
    "i_AW = np.argmax(T[24:35])+24\n",
    "ax.plot(T, dsT.depth.values, label = 'WOA')\n",
    "ax.plot(T[i_sPW-3:i_sPW+3], dsT.depth.values[i_sPW-3:i_sPW+3], '*')\n",
    "ax.plot(T[i_wPW-3:i_wPW+3],dsT.depth.values[i_wPW-3:i_wPW+3],  '*')\n",
    "ax.plot(T[i_AW-3:i_AW+3],dsT.depth.values[i_AW-3:i_AW+3], '*')\n",
    "\n",
    "ax.plot(T_MIMOC, dsT_MIMOC.PRES.values, '--', label = 'MIMOC')\n",
    "ax.plot(T_MIMOC[i_sPW_MIMOC-3:i_sPW_MIMOC+3], dsT_MIMOC.PRES.values[i_sPW_MIMOC-3:i_sPW_MIMOC+3], '*')\n",
    "ax.plot(T_MIMOC[i_wPW_MIMOC-3:i_wPW_MIMOC+3],dsT_MIMOC.PRES.values[i_wPW_MIMOC-3:i_wPW_MIMOC+3],  '*')\n",
    "ax.plot(T_MIMOC[i_AW_MIMOC-3:i_AW_MIMOC+3],dsT_MIMOC.PRES.values[i_AW_MIMOC-3:i_AW_MIMOC+3], '*')\n",
    "\n",
    "ax.legend()\n",
    "\n",
    "\n",
    "ax2 = ax.twiny()\n",
    "ax2.plot(R0, dsT.depth.values, '.-')\n",
    "ax2.plot(R0[i_sPW-3:i_sPW+3], dsT.depth.values[i_sPW-3:i_sPW+3], '.')\n",
    "ax2.plot(R0[i_wPW-3:i_wPW+3],dsT.depth.values[i_wPW-3:i_wPW+3],  '.')\n",
    "ax2.plot(R0[i_AW-3:i_AW+3],dsT.depth.values[i_AW-3:i_AW+3], '.')\n",
    "\n",
    "ax2.plot(R0_MIMOC, dsT_MIMOC.PRES.values, ':')\n",
    "ax2.plot(R0_MIMOC[i_sPW_MIMOC-3:i_sPW_MIMOC+3], dsT_MIMOC.PRES.values[i_sPW_MIMOC-3:i_sPW_MIMOC+3], '.')\n",
    "ax2.plot(R0_MIMOC[i_wPW_MIMOC-3:i_wPW_MIMOC+3],dsT_MIMOC.PRES.values[i_wPW_MIMOC-3:i_wPW_MIMOC+3],  '.')\n",
    "ax2.plot(R0_MIMOC[i_AW_MIMOC-3:i_AW_MIMOC+3],dsT_MIMOC.PRES.values[i_AW_MIMOC-3:i_AW_MIMOC+3], '.')\n",
    "\n",
    "#ax.set_xticklabels([''])\n",
    "\n",
    "\n",
    "ax = plt.gca()\n",
    "ax.invert_yaxis()\n",
    "ax.set_ylim([600, 0])\n",
    "ax.set_ylabel('Depth [m]')\n",
    "ax2.set_xlabel('Potential density')\n",
    "ax.set_xlabel('Temperature')\n",
    "\n"
   ]
  },
  {
   "cell_type": "code",
   "execution_count": 27,
   "id": "16f1ea73",
   "metadata": {
    "ExecuteTime": {
     "end_time": "2024-06-14T09:39:47.478401Z",
     "start_time": "2024-06-14T09:39:47.455236Z"
    }
   },
   "outputs": [],
   "source": [
    "dssh = xr.open_dataset('/mnt/shackleton/storage3/nplanat/Data_SSH/Final_SSH_ORAS_2.nc')\n",
    "dsshA = xr.open_dataset('/mnt/shackleton/storage3/nplanat/Data_SSH/Final_SSH_Armi_tot.nc')\n",
    "dsshM = xr.open_dataset('/mnt/shackleton/storage3/nplanat/Data_SSH/Final2_SSH_mix.nc')"
   ]
  },
  {
   "cell_type": "code",
   "execution_count": 16,
   "id": "d996f015",
   "metadata": {
    "ExecuteTime": {
     "end_time": "2024-06-12T07:12:48.181281Z",
     "start_time": "2024-06-12T07:12:46.365629Z"
    }
   },
   "outputs": [],
   "source": [
    "ds_era5 = xr.open_dataset('/mnt/shackleton/storage3/nplanat/'+'Data_ERA5/ERA5sea_level_pressire.nc')\n",
    "ERA5 = ds_era5.sel(time = slice('2005-01-01', '2017-12-31')).groupby('time.month').mean('time')\n",
    "MSL = np.flip(ERA5.msl, axis = 0)"
   ]
  },
  {
   "cell_type": "markdown",
   "id": "a28725b7",
   "metadata": {},
   "source": [
    "## WOA "
   ]
  },
  {
   "cell_type": "code",
   "execution_count": null,
   "id": "ca806cd9",
   "metadata": {},
   "outputs": [],
   "source": [
    "Rho_Vals =np.array([R0[i_sPW], R0[i_wPW], R0[i_AW]])\n",
    "eps = 3\n",
    "mid_lat = 78.375\n",
    "for i in range(12):\n",
    "    print(i)\n",
    "    dsT = WOA_M_Q_sigma(ListeT[i], ListeS[i], ListeR[i],  eval('dsshM.ssh_mixed_'+str(int(eps))+'_'+str(int(mid_lat))).isel(month = i), Rho_Vals, g_0 = 9.83)\n",
    "    dsT.to_netcdf('/storage/nplanat/DataWOA/WOA_mix2_'+str(int(eps))+'_'+str(int(mid_lat))+'{0:02}'.format(i)+'.nc')\n",
    "dsT = WOA_M_Q_moy_sigma(ListeT, ListeS, ListeR,  eval('dsshM.ssh_mixed_'+str(int(eps))+'_'+str(int(mid_lat))), Rho_Vals,MSL.mean('month'), g_0 = 9.83)\n",
    "dsT.to_netcdf('/storage/nplanat/DataWOA/WOA_mix2_'+str(int(eps))+'_'+str(int(mid_lat))+'_moy.nc')\n",
    "   "
   ]
  },
  {
   "cell_type": "markdown",
   "id": "8fd9fa9b",
   "metadata": {},
   "source": [
    "## MIMOC"
   ]
  },
  {
   "cell_type": "code",
   "execution_count": 91,
   "id": "4d9a2001",
   "metadata": {
    "ExecuteTime": {
     "end_time": "2024-05-21T10:25:31.084036Z",
     "start_time": "2024-05-21T10:22:02.047191Z"
    },
    "collapsed": true
   },
   "outputs": [
    {
     "name": "stdout",
     "output_type": "stream",
     "text": [
      "[1024.98998165 1026.57526886 1027.920515  ]\n",
      "0\n",
      "1\n",
      "2\n",
      "3\n",
      "4\n",
      "5\n",
      "6\n",
      "7\n",
      "8\n",
      "9\n",
      "10\n",
      "11\n"
     ]
    },
    {
     "name": "stderr",
     "output_type": "stream",
     "text": [
      "/aos/home/nplanat/miniconda3/envs/Analysis2/lib/python3.10/site-packages/xgcm/grid.py:989: FutureWarning: From version 0.8.0 the Axis computation methods will be removed, in favour of using the Grid computation methods instead. i.e. use `Grid.transform` instead of `Axis.transform`\n",
      "  warnings.warn(\n",
      "/aos/home/nplanat/miniconda3/envs/Analysis2/lib/python3.10/site-packages/numba/np/ufunc/gufunc.py:171: RuntimeWarning: invalid value encountered in _interp_1d_linear\n",
      "  return self.ufunc(*args, **kwargs)\n"
     ]
    }
   ],
   "source": [
    "eps = 3; mid_lat = 78.375\n",
    "\n",
    "Rho_Vals_MIMOC =np.array([R0_MIMOC[i_sPW_MIMOC], R0_MIMOC[i_wPW_MIMOC], R0_MIMOC[i_AW_MIMOC]])\n",
    "print(Rho_Vals_MIMOC)\n",
    "dsT = MIMOC_moy(Liste_MIMOC, eval('dsshM.ssh_mixed_'+str(int(eps))+'_'+str(int(mid_lat))), Rho_Vals_MIMOC,  g_0 = 9.83)\n",
    "dsT.to_netcdf('/storage/nplanat/DataWOA/MIMOC_mix2_'+str(int(eps))+'_'+str(int(mid_lat))+'_moy.nc')\n",
    "\n",
    "\n",
    "for i in range(12):\n",
    "    print(i)\n",
    "    dsT = MIMOC(Liste_MIMOC[i], eval('dsshM.ssh_mixed_'+str(int(eps))+'_'+str(int(mid_lat))).isel(month = i), Rho_Vals_MIMOC, g_0 = 9.83)\n",
    "    dsT.to_netcdf('/storage/nplanat/DataWOA/MIMOC_mix2_'+str(int(eps))+'_'+str(int(mid_lat))+'{0:02}'.format(i)+'.nc')"
   ]
  },
  {
   "cell_type": "markdown",
   "id": "12f2901a",
   "metadata": {},
   "source": [
    "## SSH"
   ]
  },
  {
   "cell_type": "code",
   "execution_count": null,
   "id": "4b43be8d",
   "metadata": {},
   "outputs": [],
   "source": [
    "Rho_Vals =np.array([R0[i_sPW], R0[i_wPW], R0[i_AW]])\n",
    "eps = 3\n",
    "mid_lat = 78.375\n",
    "for i in range(12):\n",
    "    print(i)\n",
    "    dsT = WOA_M_Q_sigma(ListeT[i], ListeS[i], ListeR[i],  dssh.ssh_A5B7_m.isel(month = i), Rho_Vals, g_0 = 9.83)\n",
    "    dsT.to_netcdf('/storage/nplanat/DataWOA/WOA_mix2_O_SSH'+'{0:02}'.format(i)+'.nc')\n",
    "dsT = WOA_M_Q_moy_sigma(ListeT, ListeS, ListeR,  dssh.ssh_A5B7_m, Rho_Vals,MSL.mean('month'), g_0 = 9.83)\n",
    "dsT.to_netcdf('/storage/nplanat/DataWOA/WOA_mix2_O_SSH'+'_moy.nc')\n",
    "   "
   ]
  },
  {
   "cell_type": "markdown",
   "id": "dae0e93d",
   "metadata": {},
   "source": [
    "## WOA sPW sensibility"
   ]
  },
  {
   "cell_type": "code",
   "execution_count": 98,
   "id": "81c511c5",
   "metadata": {
    "ExecuteTime": {
     "end_time": "2024-05-21T12:35:07.449796Z",
     "start_time": "2024-05-21T12:16:19.181987Z"
    },
    "collapsed": true
   },
   "outputs": [
    {
     "name": "stdout",
     "output_type": "stream",
     "text": [
      "[1023.04499861 1023.15757632 1023.27015402 1023.38273173 1023.49530943\n",
      " 1023.60788714 1023.72046485 1023.83304255 1023.94562026 1024.05819796\n",
      " 1024.17077567 1024.28335337 1024.39593108 1024.50850879 1024.62108649\n",
      " 1024.7336642  1024.8462419  1024.95881961 1025.07139731 1025.18397502\n",
      " 1025.29655273 1025.40913043 1025.52170814 1025.63428584 1025.74686355]\n"
     ]
    },
    {
     "name": "stderr",
     "output_type": "stream",
     "text": [
      "/aos/home/nplanat/miniconda3/envs/Analysis2/lib/python3.10/site-packages/xgcm/grid.py:989: FutureWarning: From version 0.8.0 the Axis computation methods will be removed, in favour of using the Grid computation methods instead. i.e. use `Grid.transform` instead of `Axis.transform`\n",
      "  warnings.warn(\n",
      "/aos/home/nplanat/miniconda3/envs/Analysis2/lib/python3.10/site-packages/numba/np/ufunc/gufunc.py:171: RuntimeWarning: invalid value encountered in _interp_1d_linear\n",
      "  return self.ufunc(*args, **kwargs)\n"
     ]
    },
    {
     "name": "stdout",
     "output_type": "stream",
     "text": [
      "0\n"
     ]
    },
    {
     "name": "stderr",
     "output_type": "stream",
     "text": [
      "/aos/home/nplanat/miniconda3/envs/Analysis2/lib/python3.10/site-packages/xgcm/grid.py:989: FutureWarning: From version 0.8.0 the Axis computation methods will be removed, in favour of using the Grid computation methods instead. i.e. use `Grid.transform` instead of `Axis.transform`\n",
      "  warnings.warn(\n",
      "/aos/home/nplanat/miniconda3/envs/Analysis2/lib/python3.10/site-packages/numba/np/ufunc/gufunc.py:171: RuntimeWarning: invalid value encountered in _interp_1d_linear\n",
      "  return self.ufunc(*args, **kwargs)\n"
     ]
    },
    {
     "name": "stdout",
     "output_type": "stream",
     "text": [
      "1\n"
     ]
    },
    {
     "name": "stderr",
     "output_type": "stream",
     "text": [
      "/aos/home/nplanat/miniconda3/envs/Analysis2/lib/python3.10/site-packages/xgcm/grid.py:989: FutureWarning: From version 0.8.0 the Axis computation methods will be removed, in favour of using the Grid computation methods instead. i.e. use `Grid.transform` instead of `Axis.transform`\n",
      "  warnings.warn(\n",
      "/aos/home/nplanat/miniconda3/envs/Analysis2/lib/python3.10/site-packages/numba/np/ufunc/gufunc.py:171: RuntimeWarning: invalid value encountered in _interp_1d_linear\n",
      "  return self.ufunc(*args, **kwargs)\n"
     ]
    },
    {
     "name": "stdout",
     "output_type": "stream",
     "text": [
      "2\n"
     ]
    },
    {
     "name": "stderr",
     "output_type": "stream",
     "text": [
      "/aos/home/nplanat/miniconda3/envs/Analysis2/lib/python3.10/site-packages/xgcm/grid.py:989: FutureWarning: From version 0.8.0 the Axis computation methods will be removed, in favour of using the Grid computation methods instead. i.e. use `Grid.transform` instead of `Axis.transform`\n",
      "  warnings.warn(\n",
      "/aos/home/nplanat/miniconda3/envs/Analysis2/lib/python3.10/site-packages/numba/np/ufunc/gufunc.py:171: RuntimeWarning: invalid value encountered in _interp_1d_linear\n",
      "  return self.ufunc(*args, **kwargs)\n"
     ]
    },
    {
     "name": "stdout",
     "output_type": "stream",
     "text": [
      "3\n"
     ]
    },
    {
     "name": "stderr",
     "output_type": "stream",
     "text": [
      "/aos/home/nplanat/miniconda3/envs/Analysis2/lib/python3.10/site-packages/xgcm/grid.py:989: FutureWarning: From version 0.8.0 the Axis computation methods will be removed, in favour of using the Grid computation methods instead. i.e. use `Grid.transform` instead of `Axis.transform`\n",
      "  warnings.warn(\n",
      "/aos/home/nplanat/miniconda3/envs/Analysis2/lib/python3.10/site-packages/numba/np/ufunc/gufunc.py:171: RuntimeWarning: invalid value encountered in _interp_1d_linear\n",
      "  return self.ufunc(*args, **kwargs)\n"
     ]
    },
    {
     "name": "stdout",
     "output_type": "stream",
     "text": [
      "4\n"
     ]
    },
    {
     "name": "stderr",
     "output_type": "stream",
     "text": [
      "/aos/home/nplanat/miniconda3/envs/Analysis2/lib/python3.10/site-packages/xgcm/grid.py:989: FutureWarning: From version 0.8.0 the Axis computation methods will be removed, in favour of using the Grid computation methods instead. i.e. use `Grid.transform` instead of `Axis.transform`\n",
      "  warnings.warn(\n",
      "/aos/home/nplanat/miniconda3/envs/Analysis2/lib/python3.10/site-packages/numba/np/ufunc/gufunc.py:171: RuntimeWarning: invalid value encountered in _interp_1d_linear\n",
      "  return self.ufunc(*args, **kwargs)\n"
     ]
    },
    {
     "name": "stdout",
     "output_type": "stream",
     "text": [
      "5\n"
     ]
    },
    {
     "name": "stderr",
     "output_type": "stream",
     "text": [
      "/aos/home/nplanat/miniconda3/envs/Analysis2/lib/python3.10/site-packages/xgcm/grid.py:989: FutureWarning: From version 0.8.0 the Axis computation methods will be removed, in favour of using the Grid computation methods instead. i.e. use `Grid.transform` instead of `Axis.transform`\n",
      "  warnings.warn(\n",
      "/aos/home/nplanat/miniconda3/envs/Analysis2/lib/python3.10/site-packages/numba/np/ufunc/gufunc.py:171: RuntimeWarning: invalid value encountered in _interp_1d_linear\n",
      "  return self.ufunc(*args, **kwargs)\n"
     ]
    },
    {
     "name": "stdout",
     "output_type": "stream",
     "text": [
      "6\n"
     ]
    },
    {
     "name": "stderr",
     "output_type": "stream",
     "text": [
      "/aos/home/nplanat/miniconda3/envs/Analysis2/lib/python3.10/site-packages/xgcm/grid.py:989: FutureWarning: From version 0.8.0 the Axis computation methods will be removed, in favour of using the Grid computation methods instead. i.e. use `Grid.transform` instead of `Axis.transform`\n",
      "  warnings.warn(\n",
      "/aos/home/nplanat/miniconda3/envs/Analysis2/lib/python3.10/site-packages/numba/np/ufunc/gufunc.py:171: RuntimeWarning: invalid value encountered in _interp_1d_linear\n",
      "  return self.ufunc(*args, **kwargs)\n"
     ]
    },
    {
     "name": "stdout",
     "output_type": "stream",
     "text": [
      "7\n"
     ]
    },
    {
     "name": "stderr",
     "output_type": "stream",
     "text": [
      "/aos/home/nplanat/miniconda3/envs/Analysis2/lib/python3.10/site-packages/xgcm/grid.py:989: FutureWarning: From version 0.8.0 the Axis computation methods will be removed, in favour of using the Grid computation methods instead. i.e. use `Grid.transform` instead of `Axis.transform`\n",
      "  warnings.warn(\n",
      "/aos/home/nplanat/miniconda3/envs/Analysis2/lib/python3.10/site-packages/numba/np/ufunc/gufunc.py:171: RuntimeWarning: invalid value encountered in _interp_1d_linear\n",
      "  return self.ufunc(*args, **kwargs)\n"
     ]
    },
    {
     "name": "stdout",
     "output_type": "stream",
     "text": [
      "8\n"
     ]
    },
    {
     "name": "stderr",
     "output_type": "stream",
     "text": [
      "/aos/home/nplanat/miniconda3/envs/Analysis2/lib/python3.10/site-packages/xgcm/grid.py:989: FutureWarning: From version 0.8.0 the Axis computation methods will be removed, in favour of using the Grid computation methods instead. i.e. use `Grid.transform` instead of `Axis.transform`\n",
      "  warnings.warn(\n",
      "/aos/home/nplanat/miniconda3/envs/Analysis2/lib/python3.10/site-packages/numba/np/ufunc/gufunc.py:171: RuntimeWarning: invalid value encountered in _interp_1d_linear\n",
      "  return self.ufunc(*args, **kwargs)\n"
     ]
    },
    {
     "name": "stdout",
     "output_type": "stream",
     "text": [
      "9\n"
     ]
    },
    {
     "name": "stderr",
     "output_type": "stream",
     "text": [
      "/aos/home/nplanat/miniconda3/envs/Analysis2/lib/python3.10/site-packages/xgcm/grid.py:989: FutureWarning: From version 0.8.0 the Axis computation methods will be removed, in favour of using the Grid computation methods instead. i.e. use `Grid.transform` instead of `Axis.transform`\n",
      "  warnings.warn(\n",
      "/aos/home/nplanat/miniconda3/envs/Analysis2/lib/python3.10/site-packages/numba/np/ufunc/gufunc.py:171: RuntimeWarning: invalid value encountered in _interp_1d_linear\n",
      "  return self.ufunc(*args, **kwargs)\n"
     ]
    },
    {
     "name": "stdout",
     "output_type": "stream",
     "text": [
      "10\n"
     ]
    },
    {
     "name": "stderr",
     "output_type": "stream",
     "text": [
      "/aos/home/nplanat/miniconda3/envs/Analysis2/lib/python3.10/site-packages/xgcm/grid.py:989: FutureWarning: From version 0.8.0 the Axis computation methods will be removed, in favour of using the Grid computation methods instead. i.e. use `Grid.transform` instead of `Axis.transform`\n",
      "  warnings.warn(\n",
      "/aos/home/nplanat/miniconda3/envs/Analysis2/lib/python3.10/site-packages/numba/np/ufunc/gufunc.py:171: RuntimeWarning: invalid value encountered in _interp_1d_linear\n",
      "  return self.ufunc(*args, **kwargs)\n"
     ]
    },
    {
     "name": "stdout",
     "output_type": "stream",
     "text": [
      "11\n"
     ]
    },
    {
     "name": "stderr",
     "output_type": "stream",
     "text": [
      "/aos/home/nplanat/miniconda3/envs/Analysis2/lib/python3.10/site-packages/xgcm/grid.py:989: FutureWarning: From version 0.8.0 the Axis computation methods will be removed, in favour of using the Grid computation methods instead. i.e. use `Grid.transform` instead of `Axis.transform`\n",
      "  warnings.warn(\n",
      "/aos/home/nplanat/miniconda3/envs/Analysis2/lib/python3.10/site-packages/numba/np/ufunc/gufunc.py:171: RuntimeWarning: invalid value encountered in _interp_1d_linear\n",
      "  return self.ufunc(*args, **kwargs)\n"
     ]
    }
   ],
   "source": [
    "Rho_Vals = (np.linspace(R0[i_sPW-6], R0[i_sPW+6], 25))\n",
    "eps = 3\n",
    "mid_lat = 78.375\n",
    "\n",
    "print(Rho_Vals)\n",
    "dsT = WOA_M_Q_moy_sigma(ListeT, ListeS, ListeR,  eval('dsshM.ssh_mixed_'+str(int(eps))+'_'+str(int(mid_lat))), Rho_Vals, g_0 = 9.83)\n",
    "dsT.to_netcdf('/storage/nplanat/DataWOA/WOA_mix2_sPW_'+str(int(eps))+'_'+str(int(mid_lat))+'_moy.nc')\n",
    "\n",
    "\n",
    "for i in range(12):\n",
    "    print(i)\n",
    "    dsT = WOA_M_Q_sigma(ListeT[i], ListeS[i], ListeR[i],  eval('dsshM.ssh_mixed_'+str(int(eps))+'_'+str(int(mid_lat))).isel(month = i), Rho_Vals, g_0 = 9.83)\n",
    "    dsT.to_netcdf('/storage/nplanat/DataWOA/WOA_mix2_sPW_'+str(int(eps))+'_'+str(int(mid_lat))+'{0:02}'.format(i)+'.nc')\n",
    "    "
   ]
  },
  {
   "cell_type": "markdown",
   "id": "5407949b",
   "metadata": {},
   "source": [
    "## WOA wPW sensitivity"
   ]
  },
  {
   "cell_type": "code",
   "execution_count": 18,
   "id": "fb3cc8a7",
   "metadata": {
    "ExecuteTime": {
     "end_time": "2024-06-11T12:45:08.111174Z",
     "start_time": "2024-06-11T12:26:15.785669Z"
    },
    "collapsed": true
   },
   "outputs": [
    {
     "name": "stdout",
     "output_type": "stream",
     "text": [
      "[1025.74686355 1025.82314961 1025.89943567 1025.97572172 1026.05200778\n",
      " 1026.12829384 1026.2045799  1026.28086596 1026.35715201 1026.43343807\n",
      " 1026.50972413 1026.58601019 1026.66229625 1026.7385823  1026.81486836\n",
      " 1026.89115442 1026.96744048 1027.04372654 1027.12001259 1027.19629865\n",
      " 1027.27258471 1027.34887077 1027.42515683 1027.50144289 1027.57772894]\n"
     ]
    },
    {
     "name": "stderr",
     "output_type": "stream",
     "text": [
      "/aos/home/nplanat/miniconda3/envs/Analysis2/lib/python3.10/site-packages/xgcm/grid.py:989: FutureWarning: From version 0.8.0 the Axis computation methods will be removed, in favour of using the Grid computation methods instead. i.e. use `Grid.transform` instead of `Axis.transform`\n",
      "  warnings.warn(\n",
      "/aos/home/nplanat/miniconda3/envs/Analysis2/lib/python3.10/site-packages/numba/np/ufunc/gufunc.py:171: RuntimeWarning: invalid value encountered in _interp_1d_linear\n",
      "  return self.ufunc(*args, **kwargs)\n",
      "/aos/home/nplanat/miniconda3/envs/Analysis2/lib/python3.10/site-packages/xgcm/grid.py:989: FutureWarning: From version 0.8.0 the Axis computation methods will be removed, in favour of using the Grid computation methods instead. i.e. use `Grid.transform` instead of `Axis.transform`\n",
      "  warnings.warn(\n",
      "/aos/home/nplanat/miniconda3/envs/Analysis2/lib/python3.10/site-packages/numba/np/ufunc/gufunc.py:171: RuntimeWarning: invalid value encountered in _interp_1d_linear\n",
      "  return self.ufunc(*args, **kwargs)\n"
     ]
    },
    {
     "name": "stdout",
     "output_type": "stream",
     "text": [
      "0\n"
     ]
    },
    {
     "name": "stderr",
     "output_type": "stream",
     "text": [
      "/aos/home/nplanat/miniconda3/envs/Analysis2/lib/python3.10/site-packages/xgcm/grid.py:989: FutureWarning: From version 0.8.0 the Axis computation methods will be removed, in favour of using the Grid computation methods instead. i.e. use `Grid.transform` instead of `Axis.transform`\n",
      "  warnings.warn(\n",
      "/aos/home/nplanat/miniconda3/envs/Analysis2/lib/python3.10/site-packages/numba/np/ufunc/gufunc.py:171: RuntimeWarning: invalid value encountered in _interp_1d_linear\n",
      "  return self.ufunc(*args, **kwargs)\n",
      "/aos/home/nplanat/miniconda3/envs/Analysis2/lib/python3.10/site-packages/xgcm/grid.py:989: FutureWarning: From version 0.8.0 the Axis computation methods will be removed, in favour of using the Grid computation methods instead. i.e. use `Grid.transform` instead of `Axis.transform`\n",
      "  warnings.warn(\n",
      "/aos/home/nplanat/miniconda3/envs/Analysis2/lib/python3.10/site-packages/numba/np/ufunc/gufunc.py:171: RuntimeWarning: invalid value encountered in _interp_1d_linear\n",
      "  return self.ufunc(*args, **kwargs)\n"
     ]
    },
    {
     "name": "stdout",
     "output_type": "stream",
     "text": [
      "1\n"
     ]
    },
    {
     "name": "stderr",
     "output_type": "stream",
     "text": [
      "/aos/home/nplanat/miniconda3/envs/Analysis2/lib/python3.10/site-packages/xgcm/grid.py:989: FutureWarning: From version 0.8.0 the Axis computation methods will be removed, in favour of using the Grid computation methods instead. i.e. use `Grid.transform` instead of `Axis.transform`\n",
      "  warnings.warn(\n",
      "/aos/home/nplanat/miniconda3/envs/Analysis2/lib/python3.10/site-packages/numba/np/ufunc/gufunc.py:171: RuntimeWarning: invalid value encountered in _interp_1d_linear\n",
      "  return self.ufunc(*args, **kwargs)\n",
      "/aos/home/nplanat/miniconda3/envs/Analysis2/lib/python3.10/site-packages/xgcm/grid.py:989: FutureWarning: From version 0.8.0 the Axis computation methods will be removed, in favour of using the Grid computation methods instead. i.e. use `Grid.transform` instead of `Axis.transform`\n",
      "  warnings.warn(\n",
      "/aos/home/nplanat/miniconda3/envs/Analysis2/lib/python3.10/site-packages/numba/np/ufunc/gufunc.py:171: RuntimeWarning: invalid value encountered in _interp_1d_linear\n",
      "  return self.ufunc(*args, **kwargs)\n"
     ]
    },
    {
     "name": "stdout",
     "output_type": "stream",
     "text": [
      "2\n"
     ]
    },
    {
     "name": "stderr",
     "output_type": "stream",
     "text": [
      "/aos/home/nplanat/miniconda3/envs/Analysis2/lib/python3.10/site-packages/xgcm/grid.py:989: FutureWarning: From version 0.8.0 the Axis computation methods will be removed, in favour of using the Grid computation methods instead. i.e. use `Grid.transform` instead of `Axis.transform`\n",
      "  warnings.warn(\n",
      "/aos/home/nplanat/miniconda3/envs/Analysis2/lib/python3.10/site-packages/numba/np/ufunc/gufunc.py:171: RuntimeWarning: invalid value encountered in _interp_1d_linear\n",
      "  return self.ufunc(*args, **kwargs)\n",
      "/aos/home/nplanat/miniconda3/envs/Analysis2/lib/python3.10/site-packages/xgcm/grid.py:989: FutureWarning: From version 0.8.0 the Axis computation methods will be removed, in favour of using the Grid computation methods instead. i.e. use `Grid.transform` instead of `Axis.transform`\n",
      "  warnings.warn(\n",
      "/aos/home/nplanat/miniconda3/envs/Analysis2/lib/python3.10/site-packages/numba/np/ufunc/gufunc.py:171: RuntimeWarning: invalid value encountered in _interp_1d_linear\n",
      "  return self.ufunc(*args, **kwargs)\n"
     ]
    },
    {
     "name": "stdout",
     "output_type": "stream",
     "text": [
      "3\n"
     ]
    },
    {
     "name": "stderr",
     "output_type": "stream",
     "text": [
      "/aos/home/nplanat/miniconda3/envs/Analysis2/lib/python3.10/site-packages/xgcm/grid.py:989: FutureWarning: From version 0.8.0 the Axis computation methods will be removed, in favour of using the Grid computation methods instead. i.e. use `Grid.transform` instead of `Axis.transform`\n",
      "  warnings.warn(\n",
      "/aos/home/nplanat/miniconda3/envs/Analysis2/lib/python3.10/site-packages/numba/np/ufunc/gufunc.py:171: RuntimeWarning: invalid value encountered in _interp_1d_linear\n",
      "  return self.ufunc(*args, **kwargs)\n",
      "/aos/home/nplanat/miniconda3/envs/Analysis2/lib/python3.10/site-packages/xgcm/grid.py:989: FutureWarning: From version 0.8.0 the Axis computation methods will be removed, in favour of using the Grid computation methods instead. i.e. use `Grid.transform` instead of `Axis.transform`\n",
      "  warnings.warn(\n",
      "/aos/home/nplanat/miniconda3/envs/Analysis2/lib/python3.10/site-packages/numba/np/ufunc/gufunc.py:171: RuntimeWarning: invalid value encountered in _interp_1d_linear\n",
      "  return self.ufunc(*args, **kwargs)\n"
     ]
    },
    {
     "name": "stdout",
     "output_type": "stream",
     "text": [
      "4\n"
     ]
    },
    {
     "name": "stderr",
     "output_type": "stream",
     "text": [
      "/aos/home/nplanat/miniconda3/envs/Analysis2/lib/python3.10/site-packages/xgcm/grid.py:989: FutureWarning: From version 0.8.0 the Axis computation methods will be removed, in favour of using the Grid computation methods instead. i.e. use `Grid.transform` instead of `Axis.transform`\n",
      "  warnings.warn(\n",
      "/aos/home/nplanat/miniconda3/envs/Analysis2/lib/python3.10/site-packages/numba/np/ufunc/gufunc.py:171: RuntimeWarning: invalid value encountered in _interp_1d_linear\n",
      "  return self.ufunc(*args, **kwargs)\n",
      "/aos/home/nplanat/miniconda3/envs/Analysis2/lib/python3.10/site-packages/xgcm/grid.py:989: FutureWarning: From version 0.8.0 the Axis computation methods will be removed, in favour of using the Grid computation methods instead. i.e. use `Grid.transform` instead of `Axis.transform`\n",
      "  warnings.warn(\n",
      "/aos/home/nplanat/miniconda3/envs/Analysis2/lib/python3.10/site-packages/numba/np/ufunc/gufunc.py:171: RuntimeWarning: invalid value encountered in _interp_1d_linear\n",
      "  return self.ufunc(*args, **kwargs)\n"
     ]
    },
    {
     "name": "stdout",
     "output_type": "stream",
     "text": [
      "5\n"
     ]
    },
    {
     "name": "stderr",
     "output_type": "stream",
     "text": [
      "/aos/home/nplanat/miniconda3/envs/Analysis2/lib/python3.10/site-packages/xgcm/grid.py:989: FutureWarning: From version 0.8.0 the Axis computation methods will be removed, in favour of using the Grid computation methods instead. i.e. use `Grid.transform` instead of `Axis.transform`\n",
      "  warnings.warn(\n",
      "/aos/home/nplanat/miniconda3/envs/Analysis2/lib/python3.10/site-packages/numba/np/ufunc/gufunc.py:171: RuntimeWarning: invalid value encountered in _interp_1d_linear\n",
      "  return self.ufunc(*args, **kwargs)\n",
      "/aos/home/nplanat/miniconda3/envs/Analysis2/lib/python3.10/site-packages/xgcm/grid.py:989: FutureWarning: From version 0.8.0 the Axis computation methods will be removed, in favour of using the Grid computation methods instead. i.e. use `Grid.transform` instead of `Axis.transform`\n",
      "  warnings.warn(\n",
      "/aos/home/nplanat/miniconda3/envs/Analysis2/lib/python3.10/site-packages/numba/np/ufunc/gufunc.py:171: RuntimeWarning: invalid value encountered in _interp_1d_linear\n",
      "  return self.ufunc(*args, **kwargs)\n"
     ]
    },
    {
     "name": "stdout",
     "output_type": "stream",
     "text": [
      "6\n"
     ]
    },
    {
     "name": "stderr",
     "output_type": "stream",
     "text": [
      "/aos/home/nplanat/miniconda3/envs/Analysis2/lib/python3.10/site-packages/xgcm/grid.py:989: FutureWarning: From version 0.8.0 the Axis computation methods will be removed, in favour of using the Grid computation methods instead. i.e. use `Grid.transform` instead of `Axis.transform`\n",
      "  warnings.warn(\n",
      "/aos/home/nplanat/miniconda3/envs/Analysis2/lib/python3.10/site-packages/numba/np/ufunc/gufunc.py:171: RuntimeWarning: invalid value encountered in _interp_1d_linear\n",
      "  return self.ufunc(*args, **kwargs)\n",
      "/aos/home/nplanat/miniconda3/envs/Analysis2/lib/python3.10/site-packages/xgcm/grid.py:989: FutureWarning: From version 0.8.0 the Axis computation methods will be removed, in favour of using the Grid computation methods instead. i.e. use `Grid.transform` instead of `Axis.transform`\n",
      "  warnings.warn(\n",
      "/aos/home/nplanat/miniconda3/envs/Analysis2/lib/python3.10/site-packages/numba/np/ufunc/gufunc.py:171: RuntimeWarning: invalid value encountered in _interp_1d_linear\n",
      "  return self.ufunc(*args, **kwargs)\n"
     ]
    },
    {
     "name": "stdout",
     "output_type": "stream",
     "text": [
      "7\n"
     ]
    },
    {
     "name": "stderr",
     "output_type": "stream",
     "text": [
      "/aos/home/nplanat/miniconda3/envs/Analysis2/lib/python3.10/site-packages/xgcm/grid.py:989: FutureWarning: From version 0.8.0 the Axis computation methods will be removed, in favour of using the Grid computation methods instead. i.e. use `Grid.transform` instead of `Axis.transform`\n",
      "  warnings.warn(\n",
      "/aos/home/nplanat/miniconda3/envs/Analysis2/lib/python3.10/site-packages/numba/np/ufunc/gufunc.py:171: RuntimeWarning: invalid value encountered in _interp_1d_linear\n",
      "  return self.ufunc(*args, **kwargs)\n",
      "/aos/home/nplanat/miniconda3/envs/Analysis2/lib/python3.10/site-packages/xgcm/grid.py:989: FutureWarning: From version 0.8.0 the Axis computation methods will be removed, in favour of using the Grid computation methods instead. i.e. use `Grid.transform` instead of `Axis.transform`\n",
      "  warnings.warn(\n",
      "/aos/home/nplanat/miniconda3/envs/Analysis2/lib/python3.10/site-packages/numba/np/ufunc/gufunc.py:171: RuntimeWarning: invalid value encountered in _interp_1d_linear\n",
      "  return self.ufunc(*args, **kwargs)\n"
     ]
    },
    {
     "name": "stdout",
     "output_type": "stream",
     "text": [
      "8\n"
     ]
    },
    {
     "name": "stderr",
     "output_type": "stream",
     "text": [
      "/aos/home/nplanat/miniconda3/envs/Analysis2/lib/python3.10/site-packages/xgcm/grid.py:989: FutureWarning: From version 0.8.0 the Axis computation methods will be removed, in favour of using the Grid computation methods instead. i.e. use `Grid.transform` instead of `Axis.transform`\n",
      "  warnings.warn(\n",
      "/aos/home/nplanat/miniconda3/envs/Analysis2/lib/python3.10/site-packages/numba/np/ufunc/gufunc.py:171: RuntimeWarning: invalid value encountered in _interp_1d_linear\n",
      "  return self.ufunc(*args, **kwargs)\n",
      "/aos/home/nplanat/miniconda3/envs/Analysis2/lib/python3.10/site-packages/xgcm/grid.py:989: FutureWarning: From version 0.8.0 the Axis computation methods will be removed, in favour of using the Grid computation methods instead. i.e. use `Grid.transform` instead of `Axis.transform`\n",
      "  warnings.warn(\n",
      "/aos/home/nplanat/miniconda3/envs/Analysis2/lib/python3.10/site-packages/numba/np/ufunc/gufunc.py:171: RuntimeWarning: invalid value encountered in _interp_1d_linear\n",
      "  return self.ufunc(*args, **kwargs)\n"
     ]
    },
    {
     "name": "stdout",
     "output_type": "stream",
     "text": [
      "9\n"
     ]
    },
    {
     "name": "stderr",
     "output_type": "stream",
     "text": [
      "/aos/home/nplanat/miniconda3/envs/Analysis2/lib/python3.10/site-packages/xgcm/grid.py:989: FutureWarning: From version 0.8.0 the Axis computation methods will be removed, in favour of using the Grid computation methods instead. i.e. use `Grid.transform` instead of `Axis.transform`\n",
      "  warnings.warn(\n",
      "/aos/home/nplanat/miniconda3/envs/Analysis2/lib/python3.10/site-packages/numba/np/ufunc/gufunc.py:171: RuntimeWarning: invalid value encountered in _interp_1d_linear\n",
      "  return self.ufunc(*args, **kwargs)\n",
      "/aos/home/nplanat/miniconda3/envs/Analysis2/lib/python3.10/site-packages/xgcm/grid.py:989: FutureWarning: From version 0.8.0 the Axis computation methods will be removed, in favour of using the Grid computation methods instead. i.e. use `Grid.transform` instead of `Axis.transform`\n",
      "  warnings.warn(\n",
      "/aos/home/nplanat/miniconda3/envs/Analysis2/lib/python3.10/site-packages/numba/np/ufunc/gufunc.py:171: RuntimeWarning: invalid value encountered in _interp_1d_linear\n",
      "  return self.ufunc(*args, **kwargs)\n"
     ]
    },
    {
     "name": "stdout",
     "output_type": "stream",
     "text": [
      "10\n"
     ]
    },
    {
     "name": "stderr",
     "output_type": "stream",
     "text": [
      "/aos/home/nplanat/miniconda3/envs/Analysis2/lib/python3.10/site-packages/xgcm/grid.py:989: FutureWarning: From version 0.8.0 the Axis computation methods will be removed, in favour of using the Grid computation methods instead. i.e. use `Grid.transform` instead of `Axis.transform`\n",
      "  warnings.warn(\n",
      "/aos/home/nplanat/miniconda3/envs/Analysis2/lib/python3.10/site-packages/numba/np/ufunc/gufunc.py:171: RuntimeWarning: invalid value encountered in _interp_1d_linear\n",
      "  return self.ufunc(*args, **kwargs)\n",
      "/aos/home/nplanat/miniconda3/envs/Analysis2/lib/python3.10/site-packages/xgcm/grid.py:989: FutureWarning: From version 0.8.0 the Axis computation methods will be removed, in favour of using the Grid computation methods instead. i.e. use `Grid.transform` instead of `Axis.transform`\n",
      "  warnings.warn(\n",
      "/aos/home/nplanat/miniconda3/envs/Analysis2/lib/python3.10/site-packages/numba/np/ufunc/gufunc.py:171: RuntimeWarning: invalid value encountered in _interp_1d_linear\n",
      "  return self.ufunc(*args, **kwargs)\n"
     ]
    },
    {
     "name": "stdout",
     "output_type": "stream",
     "text": [
      "11\n"
     ]
    },
    {
     "name": "stderr",
     "output_type": "stream",
     "text": [
      "/aos/home/nplanat/miniconda3/envs/Analysis2/lib/python3.10/site-packages/xgcm/grid.py:989: FutureWarning: From version 0.8.0 the Axis computation methods will be removed, in favour of using the Grid computation methods instead. i.e. use `Grid.transform` instead of `Axis.transform`\n",
      "  warnings.warn(\n",
      "/aos/home/nplanat/miniconda3/envs/Analysis2/lib/python3.10/site-packages/numba/np/ufunc/gufunc.py:171: RuntimeWarning: invalid value encountered in _interp_1d_linear\n",
      "  return self.ufunc(*args, **kwargs)\n",
      "/aos/home/nplanat/miniconda3/envs/Analysis2/lib/python3.10/site-packages/xgcm/grid.py:989: FutureWarning: From version 0.8.0 the Axis computation methods will be removed, in favour of using the Grid computation methods instead. i.e. use `Grid.transform` instead of `Axis.transform`\n",
      "  warnings.warn(\n",
      "/aos/home/nplanat/miniconda3/envs/Analysis2/lib/python3.10/site-packages/numba/np/ufunc/gufunc.py:171: RuntimeWarning: invalid value encountered in _interp_1d_linear\n",
      "  return self.ufunc(*args, **kwargs)\n"
     ]
    }
   ],
   "source": [
    "Rho_Vals = (np.linspace(R0[i_wPW-4], R0[i_wPW+4], 25))\n",
    "eps = 3\n",
    "mid_lat = 78.375\n",
    "\n",
    "print(Rho_Vals)\n",
    "dsT = WOA_M_Q_moy_sigma(ListeT, ListeS, ListeR,  eval('dsshM.ssh_mixed_'+str(int(eps))+'_'+str(int(mid_lat))), Rho_Vals, MSL.mean('month'), g_0 = 9.83)\n",
    "dsT.to_netcdf('/storage/nplanat/DataWOA/WOA_mix2_wPW_'+str(int(eps))+'_'+str(int(mid_lat))+'_moy.nc')\n",
    "\n",
    "\n",
    "for i in range(12):\n",
    "    print(i)\n",
    "    dsT = WOA_M_Q_sigma(ListeT[i], ListeS[i], ListeR[i],  eval('dsshM.ssh_mixed_'+str(int(eps))+'_'+str(int(mid_lat))).isel(month = i), Rho_Vals, g_0 = 9.83)\n",
    "    dsT.to_netcdf('/storage/nplanat/DataWOA/WOA_mix2_wPW_'+str(int(eps))+'_'+str(int(mid_lat))+'{0:02}'.format(i)+'.nc')\n",
    "    "
   ]
  },
  {
   "cell_type": "markdown",
   "id": "bf1d3ef8",
   "metadata": {},
   "source": [
    "## WOA AW sensibility"
   ]
  },
  {
   "cell_type": "code",
   "execution_count": 17,
   "id": "b9ab3c13",
   "metadata": {
    "ExecuteTime": {
     "end_time": "2024-06-12T07:32:19.016651Z",
     "start_time": "2024-06-12T07:13:06.964385Z"
    }
   },
   "outputs": [
    {
     "name": "stdout",
     "output_type": "stream",
     "text": [
      "[1027.84409838 1027.84854876 1027.85299914 1027.85744953 1027.86189991\n",
      " 1027.8663503  1027.87080068 1027.87525106 1027.87970145 1027.88415183\n",
      " 1027.88860222 1027.8930526  1027.89750299 1027.90195337 1027.90640375\n",
      " 1027.91085414 1027.91530452 1027.91975491 1027.92420529 1027.92865568\n",
      " 1027.93310606 1027.93755644 1027.94200683 1027.94645721 1027.9509076 ]\n"
     ]
    },
    {
     "name": "stderr",
     "output_type": "stream",
     "text": [
      "/aos/home/nplanat/miniconda3/envs/Analysis2/lib/python3.10/site-packages/xgcm/grid.py:989: FutureWarning: From version 0.8.0 the Axis computation methods will be removed, in favour of using the Grid computation methods instead. i.e. use `Grid.transform` instead of `Axis.transform`\n",
      "  warnings.warn(\n",
      "/aos/home/nplanat/miniconda3/envs/Analysis2/lib/python3.10/site-packages/numba/np/ufunc/gufunc.py:171: RuntimeWarning: invalid value encountered in _interp_1d_linear\n",
      "  return self.ufunc(*args, **kwargs)\n",
      "/aos/home/nplanat/miniconda3/envs/Analysis2/lib/python3.10/site-packages/xgcm/grid.py:989: FutureWarning: From version 0.8.0 the Axis computation methods will be removed, in favour of using the Grid computation methods instead. i.e. use `Grid.transform` instead of `Axis.transform`\n",
      "  warnings.warn(\n",
      "/aos/home/nplanat/miniconda3/envs/Analysis2/lib/python3.10/site-packages/numba/np/ufunc/gufunc.py:171: RuntimeWarning: invalid value encountered in _interp_1d_linear\n",
      "  return self.ufunc(*args, **kwargs)\n"
     ]
    },
    {
     "name": "stdout",
     "output_type": "stream",
     "text": [
      "0\n"
     ]
    },
    {
     "name": "stderr",
     "output_type": "stream",
     "text": [
      "/aos/home/nplanat/miniconda3/envs/Analysis2/lib/python3.10/site-packages/xgcm/grid.py:989: FutureWarning: From version 0.8.0 the Axis computation methods will be removed, in favour of using the Grid computation methods instead. i.e. use `Grid.transform` instead of `Axis.transform`\n",
      "  warnings.warn(\n",
      "/aos/home/nplanat/miniconda3/envs/Analysis2/lib/python3.10/site-packages/numba/np/ufunc/gufunc.py:171: RuntimeWarning: invalid value encountered in _interp_1d_linear\n",
      "  return self.ufunc(*args, **kwargs)\n",
      "/aos/home/nplanat/miniconda3/envs/Analysis2/lib/python3.10/site-packages/xgcm/grid.py:989: FutureWarning: From version 0.8.0 the Axis computation methods will be removed, in favour of using the Grid computation methods instead. i.e. use `Grid.transform` instead of `Axis.transform`\n",
      "  warnings.warn(\n",
      "/aos/home/nplanat/miniconda3/envs/Analysis2/lib/python3.10/site-packages/numba/np/ufunc/gufunc.py:171: RuntimeWarning: invalid value encountered in _interp_1d_linear\n",
      "  return self.ufunc(*args, **kwargs)\n"
     ]
    },
    {
     "name": "stdout",
     "output_type": "stream",
     "text": [
      "1\n"
     ]
    },
    {
     "name": "stderr",
     "output_type": "stream",
     "text": [
      "/aos/home/nplanat/miniconda3/envs/Analysis2/lib/python3.10/site-packages/xgcm/grid.py:989: FutureWarning: From version 0.8.0 the Axis computation methods will be removed, in favour of using the Grid computation methods instead. i.e. use `Grid.transform` instead of `Axis.transform`\n",
      "  warnings.warn(\n",
      "/aos/home/nplanat/miniconda3/envs/Analysis2/lib/python3.10/site-packages/numba/np/ufunc/gufunc.py:171: RuntimeWarning: invalid value encountered in _interp_1d_linear\n",
      "  return self.ufunc(*args, **kwargs)\n",
      "/aos/home/nplanat/miniconda3/envs/Analysis2/lib/python3.10/site-packages/xgcm/grid.py:989: FutureWarning: From version 0.8.0 the Axis computation methods will be removed, in favour of using the Grid computation methods instead. i.e. use `Grid.transform` instead of `Axis.transform`\n",
      "  warnings.warn(\n",
      "/aos/home/nplanat/miniconda3/envs/Analysis2/lib/python3.10/site-packages/numba/np/ufunc/gufunc.py:171: RuntimeWarning: invalid value encountered in _interp_1d_linear\n",
      "  return self.ufunc(*args, **kwargs)\n"
     ]
    },
    {
     "name": "stdout",
     "output_type": "stream",
     "text": [
      "2\n"
     ]
    },
    {
     "name": "stderr",
     "output_type": "stream",
     "text": [
      "/aos/home/nplanat/miniconda3/envs/Analysis2/lib/python3.10/site-packages/xgcm/grid.py:989: FutureWarning: From version 0.8.0 the Axis computation methods will be removed, in favour of using the Grid computation methods instead. i.e. use `Grid.transform` instead of `Axis.transform`\n",
      "  warnings.warn(\n",
      "/aos/home/nplanat/miniconda3/envs/Analysis2/lib/python3.10/site-packages/numba/np/ufunc/gufunc.py:171: RuntimeWarning: invalid value encountered in _interp_1d_linear\n",
      "  return self.ufunc(*args, **kwargs)\n",
      "/aos/home/nplanat/miniconda3/envs/Analysis2/lib/python3.10/site-packages/xgcm/grid.py:989: FutureWarning: From version 0.8.0 the Axis computation methods will be removed, in favour of using the Grid computation methods instead. i.e. use `Grid.transform` instead of `Axis.transform`\n",
      "  warnings.warn(\n",
      "/aos/home/nplanat/miniconda3/envs/Analysis2/lib/python3.10/site-packages/numba/np/ufunc/gufunc.py:171: RuntimeWarning: invalid value encountered in _interp_1d_linear\n",
      "  return self.ufunc(*args, **kwargs)\n"
     ]
    },
    {
     "name": "stdout",
     "output_type": "stream",
     "text": [
      "3\n"
     ]
    },
    {
     "name": "stderr",
     "output_type": "stream",
     "text": [
      "/aos/home/nplanat/miniconda3/envs/Analysis2/lib/python3.10/site-packages/xgcm/grid.py:989: FutureWarning: From version 0.8.0 the Axis computation methods will be removed, in favour of using the Grid computation methods instead. i.e. use `Grid.transform` instead of `Axis.transform`\n",
      "  warnings.warn(\n",
      "/aos/home/nplanat/miniconda3/envs/Analysis2/lib/python3.10/site-packages/numba/np/ufunc/gufunc.py:171: RuntimeWarning: invalid value encountered in _interp_1d_linear\n",
      "  return self.ufunc(*args, **kwargs)\n",
      "/aos/home/nplanat/miniconda3/envs/Analysis2/lib/python3.10/site-packages/xgcm/grid.py:989: FutureWarning: From version 0.8.0 the Axis computation methods will be removed, in favour of using the Grid computation methods instead. i.e. use `Grid.transform` instead of `Axis.transform`\n",
      "  warnings.warn(\n",
      "/aos/home/nplanat/miniconda3/envs/Analysis2/lib/python3.10/site-packages/numba/np/ufunc/gufunc.py:171: RuntimeWarning: invalid value encountered in _interp_1d_linear\n",
      "  return self.ufunc(*args, **kwargs)\n"
     ]
    },
    {
     "name": "stdout",
     "output_type": "stream",
     "text": [
      "4\n"
     ]
    },
    {
     "name": "stderr",
     "output_type": "stream",
     "text": [
      "/aos/home/nplanat/miniconda3/envs/Analysis2/lib/python3.10/site-packages/xgcm/grid.py:989: FutureWarning: From version 0.8.0 the Axis computation methods will be removed, in favour of using the Grid computation methods instead. i.e. use `Grid.transform` instead of `Axis.transform`\n",
      "  warnings.warn(\n",
      "/aos/home/nplanat/miniconda3/envs/Analysis2/lib/python3.10/site-packages/numba/np/ufunc/gufunc.py:171: RuntimeWarning: invalid value encountered in _interp_1d_linear\n",
      "  return self.ufunc(*args, **kwargs)\n",
      "/aos/home/nplanat/miniconda3/envs/Analysis2/lib/python3.10/site-packages/xgcm/grid.py:989: FutureWarning: From version 0.8.0 the Axis computation methods will be removed, in favour of using the Grid computation methods instead. i.e. use `Grid.transform` instead of `Axis.transform`\n",
      "  warnings.warn(\n",
      "/aos/home/nplanat/miniconda3/envs/Analysis2/lib/python3.10/site-packages/numba/np/ufunc/gufunc.py:171: RuntimeWarning: invalid value encountered in _interp_1d_linear\n",
      "  return self.ufunc(*args, **kwargs)\n"
     ]
    },
    {
     "name": "stdout",
     "output_type": "stream",
     "text": [
      "5\n"
     ]
    },
    {
     "name": "stderr",
     "output_type": "stream",
     "text": [
      "/aos/home/nplanat/miniconda3/envs/Analysis2/lib/python3.10/site-packages/xgcm/grid.py:989: FutureWarning: From version 0.8.0 the Axis computation methods will be removed, in favour of using the Grid computation methods instead. i.e. use `Grid.transform` instead of `Axis.transform`\n",
      "  warnings.warn(\n",
      "/aos/home/nplanat/miniconda3/envs/Analysis2/lib/python3.10/site-packages/numba/np/ufunc/gufunc.py:171: RuntimeWarning: invalid value encountered in _interp_1d_linear\n",
      "  return self.ufunc(*args, **kwargs)\n",
      "/aos/home/nplanat/miniconda3/envs/Analysis2/lib/python3.10/site-packages/xgcm/grid.py:989: FutureWarning: From version 0.8.0 the Axis computation methods will be removed, in favour of using the Grid computation methods instead. i.e. use `Grid.transform` instead of `Axis.transform`\n",
      "  warnings.warn(\n",
      "/aos/home/nplanat/miniconda3/envs/Analysis2/lib/python3.10/site-packages/numba/np/ufunc/gufunc.py:171: RuntimeWarning: invalid value encountered in _interp_1d_linear\n",
      "  return self.ufunc(*args, **kwargs)\n"
     ]
    },
    {
     "name": "stdout",
     "output_type": "stream",
     "text": [
      "6\n"
     ]
    },
    {
     "name": "stderr",
     "output_type": "stream",
     "text": [
      "/aos/home/nplanat/miniconda3/envs/Analysis2/lib/python3.10/site-packages/xgcm/grid.py:989: FutureWarning: From version 0.8.0 the Axis computation methods will be removed, in favour of using the Grid computation methods instead. i.e. use `Grid.transform` instead of `Axis.transform`\n",
      "  warnings.warn(\n",
      "/aos/home/nplanat/miniconda3/envs/Analysis2/lib/python3.10/site-packages/numba/np/ufunc/gufunc.py:171: RuntimeWarning: invalid value encountered in _interp_1d_linear\n",
      "  return self.ufunc(*args, **kwargs)\n",
      "/aos/home/nplanat/miniconda3/envs/Analysis2/lib/python3.10/site-packages/xgcm/grid.py:989: FutureWarning: From version 0.8.0 the Axis computation methods will be removed, in favour of using the Grid computation methods instead. i.e. use `Grid.transform` instead of `Axis.transform`\n",
      "  warnings.warn(\n",
      "/aos/home/nplanat/miniconda3/envs/Analysis2/lib/python3.10/site-packages/numba/np/ufunc/gufunc.py:171: RuntimeWarning: invalid value encountered in _interp_1d_linear\n",
      "  return self.ufunc(*args, **kwargs)\n"
     ]
    },
    {
     "name": "stdout",
     "output_type": "stream",
     "text": [
      "7\n"
     ]
    },
    {
     "name": "stderr",
     "output_type": "stream",
     "text": [
      "/aos/home/nplanat/miniconda3/envs/Analysis2/lib/python3.10/site-packages/xgcm/grid.py:989: FutureWarning: From version 0.8.0 the Axis computation methods will be removed, in favour of using the Grid computation methods instead. i.e. use `Grid.transform` instead of `Axis.transform`\n",
      "  warnings.warn(\n",
      "/aos/home/nplanat/miniconda3/envs/Analysis2/lib/python3.10/site-packages/numba/np/ufunc/gufunc.py:171: RuntimeWarning: invalid value encountered in _interp_1d_linear\n",
      "  return self.ufunc(*args, **kwargs)\n",
      "/aos/home/nplanat/miniconda3/envs/Analysis2/lib/python3.10/site-packages/xgcm/grid.py:989: FutureWarning: From version 0.8.0 the Axis computation methods will be removed, in favour of using the Grid computation methods instead. i.e. use `Grid.transform` instead of `Axis.transform`\n",
      "  warnings.warn(\n",
      "/aos/home/nplanat/miniconda3/envs/Analysis2/lib/python3.10/site-packages/numba/np/ufunc/gufunc.py:171: RuntimeWarning: invalid value encountered in _interp_1d_linear\n",
      "  return self.ufunc(*args, **kwargs)\n"
     ]
    },
    {
     "name": "stdout",
     "output_type": "stream",
     "text": [
      "8\n"
     ]
    },
    {
     "name": "stderr",
     "output_type": "stream",
     "text": [
      "/aos/home/nplanat/miniconda3/envs/Analysis2/lib/python3.10/site-packages/xgcm/grid.py:989: FutureWarning: From version 0.8.0 the Axis computation methods will be removed, in favour of using the Grid computation methods instead. i.e. use `Grid.transform` instead of `Axis.transform`\n",
      "  warnings.warn(\n",
      "/aos/home/nplanat/miniconda3/envs/Analysis2/lib/python3.10/site-packages/numba/np/ufunc/gufunc.py:171: RuntimeWarning: invalid value encountered in _interp_1d_linear\n",
      "  return self.ufunc(*args, **kwargs)\n",
      "/aos/home/nplanat/miniconda3/envs/Analysis2/lib/python3.10/site-packages/xgcm/grid.py:989: FutureWarning: From version 0.8.0 the Axis computation methods will be removed, in favour of using the Grid computation methods instead. i.e. use `Grid.transform` instead of `Axis.transform`\n",
      "  warnings.warn(\n",
      "/aos/home/nplanat/miniconda3/envs/Analysis2/lib/python3.10/site-packages/numba/np/ufunc/gufunc.py:171: RuntimeWarning: invalid value encountered in _interp_1d_linear\n",
      "  return self.ufunc(*args, **kwargs)\n"
     ]
    },
    {
     "name": "stdout",
     "output_type": "stream",
     "text": [
      "9\n"
     ]
    },
    {
     "name": "stderr",
     "output_type": "stream",
     "text": [
      "/aos/home/nplanat/miniconda3/envs/Analysis2/lib/python3.10/site-packages/xgcm/grid.py:989: FutureWarning: From version 0.8.0 the Axis computation methods will be removed, in favour of using the Grid computation methods instead. i.e. use `Grid.transform` instead of `Axis.transform`\n",
      "  warnings.warn(\n",
      "/aos/home/nplanat/miniconda3/envs/Analysis2/lib/python3.10/site-packages/numba/np/ufunc/gufunc.py:171: RuntimeWarning: invalid value encountered in _interp_1d_linear\n",
      "  return self.ufunc(*args, **kwargs)\n",
      "/aos/home/nplanat/miniconda3/envs/Analysis2/lib/python3.10/site-packages/xgcm/grid.py:989: FutureWarning: From version 0.8.0 the Axis computation methods will be removed, in favour of using the Grid computation methods instead. i.e. use `Grid.transform` instead of `Axis.transform`\n",
      "  warnings.warn(\n",
      "/aos/home/nplanat/miniconda3/envs/Analysis2/lib/python3.10/site-packages/numba/np/ufunc/gufunc.py:171: RuntimeWarning: invalid value encountered in _interp_1d_linear\n",
      "  return self.ufunc(*args, **kwargs)\n"
     ]
    },
    {
     "name": "stdout",
     "output_type": "stream",
     "text": [
      "10\n"
     ]
    },
    {
     "name": "stderr",
     "output_type": "stream",
     "text": [
      "/aos/home/nplanat/miniconda3/envs/Analysis2/lib/python3.10/site-packages/xgcm/grid.py:989: FutureWarning: From version 0.8.0 the Axis computation methods will be removed, in favour of using the Grid computation methods instead. i.e. use `Grid.transform` instead of `Axis.transform`\n",
      "  warnings.warn(\n",
      "/aos/home/nplanat/miniconda3/envs/Analysis2/lib/python3.10/site-packages/numba/np/ufunc/gufunc.py:171: RuntimeWarning: invalid value encountered in _interp_1d_linear\n",
      "  return self.ufunc(*args, **kwargs)\n",
      "/aos/home/nplanat/miniconda3/envs/Analysis2/lib/python3.10/site-packages/xgcm/grid.py:989: FutureWarning: From version 0.8.0 the Axis computation methods will be removed, in favour of using the Grid computation methods instead. i.e. use `Grid.transform` instead of `Axis.transform`\n",
      "  warnings.warn(\n",
      "/aos/home/nplanat/miniconda3/envs/Analysis2/lib/python3.10/site-packages/numba/np/ufunc/gufunc.py:171: RuntimeWarning: invalid value encountered in _interp_1d_linear\n",
      "  return self.ufunc(*args, **kwargs)\n"
     ]
    },
    {
     "name": "stdout",
     "output_type": "stream",
     "text": [
      "11\n"
     ]
    },
    {
     "name": "stderr",
     "output_type": "stream",
     "text": [
      "/aos/home/nplanat/miniconda3/envs/Analysis2/lib/python3.10/site-packages/xgcm/grid.py:989: FutureWarning: From version 0.8.0 the Axis computation methods will be removed, in favour of using the Grid computation methods instead. i.e. use `Grid.transform` instead of `Axis.transform`\n",
      "  warnings.warn(\n",
      "/aos/home/nplanat/miniconda3/envs/Analysis2/lib/python3.10/site-packages/numba/np/ufunc/gufunc.py:171: RuntimeWarning: invalid value encountered in _interp_1d_linear\n",
      "  return self.ufunc(*args, **kwargs)\n",
      "/aos/home/nplanat/miniconda3/envs/Analysis2/lib/python3.10/site-packages/xgcm/grid.py:989: FutureWarning: From version 0.8.0 the Axis computation methods will be removed, in favour of using the Grid computation methods instead. i.e. use `Grid.transform` instead of `Axis.transform`\n",
      "  warnings.warn(\n",
      "/aos/home/nplanat/miniconda3/envs/Analysis2/lib/python3.10/site-packages/numba/np/ufunc/gufunc.py:171: RuntimeWarning: invalid value encountered in _interp_1d_linear\n",
      "  return self.ufunc(*args, **kwargs)\n"
     ]
    }
   ],
   "source": [
    "Rho_Vals = (np.linspace(R0[i_AW-4], R0[i_AW+4], 25))\n",
    "eps = 3\n",
    "mid_lat = 78.375\n",
    "\n",
    "print(Rho_Vals)\n",
    "dsT = WOA_M_Q_moy_sigma(ListeT, ListeS, ListeR,  eval('dsshM.ssh_mixed_'+str(int(eps))+'_'+str(int(mid_lat))), Rho_Vals, MSL.mean('month'), g_0 = 9.83)\n",
    "dsT.to_netcdf('/storage/nplanat/DataWOA/WOA_mix2_AW_'+str(int(eps))+'_'+str(int(mid_lat))+'_moy.nc')\n",
    "\n",
    "\n",
    "for i in range(12):\n",
    "    print(i)\n",
    "    dsT = WOA_M_Q_sigma(ListeT[i], ListeS[i], ListeR[i],  eval('dsshM.ssh_mixed_'+str(int(eps))+'_'+str(int(mid_lat))).isel(month = i), Rho_Vals, g_0 = 9.83)\n",
    "    dsT.to_netcdf('/storage/nplanat/DataWOA/WOA_mix2_AW_'+str(int(eps))+'_'+str(int(mid_lat))+'{0:02}'.format(i)+'.nc')\n",
    "    "
   ]
  },
  {
   "cell_type": "markdown",
   "id": "5cc6252b",
   "metadata": {},
   "source": [
    "## WOA - Armitage"
   ]
  },
  {
   "cell_type": "code",
   "execution_count": 29,
   "id": "3aef56ff",
   "metadata": {
    "ExecuteTime": {
     "end_time": "2024-05-15T12:43:04.821862Z",
     "start_time": "2024-05-15T12:19:48.280267Z"
    },
    "collapsed": true
   },
   "outputs": [
    {
     "name": "stdout",
     "output_type": "stream",
     "text": [
      "[1024.89873677 1026.50399557 1027.91942559]\n"
     ]
    },
    {
     "name": "stderr",
     "output_type": "stream",
     "text": [
      "/aos/home/nplanat/miniconda3/envs/Analysis2/lib/python3.10/site-packages/xgcm/grid.py:989: FutureWarning: From version 0.8.0 the Axis computation methods will be removed, in favour of using the Grid computation methods instead. i.e. use `Grid.transform` instead of `Axis.transform`\n",
      "  warnings.warn(\n",
      "/aos/home/nplanat/miniconda3/envs/Analysis2/lib/python3.10/site-packages/numba/np/ufunc/gufunc.py:171: RuntimeWarning: invalid value encountered in _interp_1d_linear\n",
      "  return self.ufunc(*args, **kwargs)\n"
     ]
    },
    {
     "name": "stdout",
     "output_type": "stream",
     "text": [
      "0\n"
     ]
    },
    {
     "name": "stderr",
     "output_type": "stream",
     "text": [
      "/aos/home/nplanat/miniconda3/envs/Analysis2/lib/python3.10/site-packages/xgcm/grid.py:989: FutureWarning: From version 0.8.0 the Axis computation methods will be removed, in favour of using the Grid computation methods instead. i.e. use `Grid.transform` instead of `Axis.transform`\n",
      "  warnings.warn(\n",
      "/aos/home/nplanat/miniconda3/envs/Analysis2/lib/python3.10/site-packages/numba/np/ufunc/gufunc.py:171: RuntimeWarning: invalid value encountered in _interp_1d_linear\n",
      "  return self.ufunc(*args, **kwargs)\n"
     ]
    },
    {
     "name": "stdout",
     "output_type": "stream",
     "text": [
      "1\n"
     ]
    },
    {
     "name": "stderr",
     "output_type": "stream",
     "text": [
      "/aos/home/nplanat/miniconda3/envs/Analysis2/lib/python3.10/site-packages/xgcm/grid.py:989: FutureWarning: From version 0.8.0 the Axis computation methods will be removed, in favour of using the Grid computation methods instead. i.e. use `Grid.transform` instead of `Axis.transform`\n",
      "  warnings.warn(\n",
      "/aos/home/nplanat/miniconda3/envs/Analysis2/lib/python3.10/site-packages/numba/np/ufunc/gufunc.py:171: RuntimeWarning: invalid value encountered in _interp_1d_linear\n",
      "  return self.ufunc(*args, **kwargs)\n"
     ]
    },
    {
     "name": "stdout",
     "output_type": "stream",
     "text": [
      "2\n"
     ]
    },
    {
     "name": "stderr",
     "output_type": "stream",
     "text": [
      "/aos/home/nplanat/miniconda3/envs/Analysis2/lib/python3.10/site-packages/xgcm/grid.py:989: FutureWarning: From version 0.8.0 the Axis computation methods will be removed, in favour of using the Grid computation methods instead. i.e. use `Grid.transform` instead of `Axis.transform`\n",
      "  warnings.warn(\n",
      "/aos/home/nplanat/miniconda3/envs/Analysis2/lib/python3.10/site-packages/numba/np/ufunc/gufunc.py:171: RuntimeWarning: invalid value encountered in _interp_1d_linear\n",
      "  return self.ufunc(*args, **kwargs)\n"
     ]
    },
    {
     "name": "stdout",
     "output_type": "stream",
     "text": [
      "3\n"
     ]
    },
    {
     "name": "stderr",
     "output_type": "stream",
     "text": [
      "/aos/home/nplanat/miniconda3/envs/Analysis2/lib/python3.10/site-packages/xgcm/grid.py:989: FutureWarning: From version 0.8.0 the Axis computation methods will be removed, in favour of using the Grid computation methods instead. i.e. use `Grid.transform` instead of `Axis.transform`\n",
      "  warnings.warn(\n",
      "/aos/home/nplanat/miniconda3/envs/Analysis2/lib/python3.10/site-packages/numba/np/ufunc/gufunc.py:171: RuntimeWarning: invalid value encountered in _interp_1d_linear\n",
      "  return self.ufunc(*args, **kwargs)\n"
     ]
    },
    {
     "name": "stdout",
     "output_type": "stream",
     "text": [
      "4\n"
     ]
    },
    {
     "name": "stderr",
     "output_type": "stream",
     "text": [
      "/aos/home/nplanat/miniconda3/envs/Analysis2/lib/python3.10/site-packages/xgcm/grid.py:989: FutureWarning: From version 0.8.0 the Axis computation methods will be removed, in favour of using the Grid computation methods instead. i.e. use `Grid.transform` instead of `Axis.transform`\n",
      "  warnings.warn(\n",
      "/aos/home/nplanat/miniconda3/envs/Analysis2/lib/python3.10/site-packages/numba/np/ufunc/gufunc.py:171: RuntimeWarning: invalid value encountered in _interp_1d_linear\n",
      "  return self.ufunc(*args, **kwargs)\n"
     ]
    },
    {
     "name": "stdout",
     "output_type": "stream",
     "text": [
      "5\n"
     ]
    },
    {
     "name": "stderr",
     "output_type": "stream",
     "text": [
      "/aos/home/nplanat/miniconda3/envs/Analysis2/lib/python3.10/site-packages/xgcm/grid.py:989: FutureWarning: From version 0.8.0 the Axis computation methods will be removed, in favour of using the Grid computation methods instead. i.e. use `Grid.transform` instead of `Axis.transform`\n",
      "  warnings.warn(\n",
      "/aos/home/nplanat/miniconda3/envs/Analysis2/lib/python3.10/site-packages/numba/np/ufunc/gufunc.py:171: RuntimeWarning: invalid value encountered in _interp_1d_linear\n",
      "  return self.ufunc(*args, **kwargs)\n"
     ]
    },
    {
     "name": "stdout",
     "output_type": "stream",
     "text": [
      "6\n"
     ]
    },
    {
     "name": "stderr",
     "output_type": "stream",
     "text": [
      "/aos/home/nplanat/miniconda3/envs/Analysis2/lib/python3.10/site-packages/xgcm/grid.py:989: FutureWarning: From version 0.8.0 the Axis computation methods will be removed, in favour of using the Grid computation methods instead. i.e. use `Grid.transform` instead of `Axis.transform`\n",
      "  warnings.warn(\n",
      "/aos/home/nplanat/miniconda3/envs/Analysis2/lib/python3.10/site-packages/numba/np/ufunc/gufunc.py:171: RuntimeWarning: invalid value encountered in _interp_1d_linear\n",
      "  return self.ufunc(*args, **kwargs)\n"
     ]
    },
    {
     "name": "stdout",
     "output_type": "stream",
     "text": [
      "7\n"
     ]
    },
    {
     "name": "stderr",
     "output_type": "stream",
     "text": [
      "/aos/home/nplanat/miniconda3/envs/Analysis2/lib/python3.10/site-packages/xgcm/grid.py:989: FutureWarning: From version 0.8.0 the Axis computation methods will be removed, in favour of using the Grid computation methods instead. i.e. use `Grid.transform` instead of `Axis.transform`\n",
      "  warnings.warn(\n",
      "/aos/home/nplanat/miniconda3/envs/Analysis2/lib/python3.10/site-packages/numba/np/ufunc/gufunc.py:171: RuntimeWarning: invalid value encountered in _interp_1d_linear\n",
      "  return self.ufunc(*args, **kwargs)\n"
     ]
    },
    {
     "name": "stdout",
     "output_type": "stream",
     "text": [
      "8\n"
     ]
    },
    {
     "name": "stderr",
     "output_type": "stream",
     "text": [
      "/aos/home/nplanat/miniconda3/envs/Analysis2/lib/python3.10/site-packages/xgcm/grid.py:989: FutureWarning: From version 0.8.0 the Axis computation methods will be removed, in favour of using the Grid computation methods instead. i.e. use `Grid.transform` instead of `Axis.transform`\n",
      "  warnings.warn(\n",
      "/aos/home/nplanat/miniconda3/envs/Analysis2/lib/python3.10/site-packages/numba/np/ufunc/gufunc.py:171: RuntimeWarning: invalid value encountered in _interp_1d_linear\n",
      "  return self.ufunc(*args, **kwargs)\n"
     ]
    },
    {
     "name": "stdout",
     "output_type": "stream",
     "text": [
      "9\n"
     ]
    },
    {
     "name": "stderr",
     "output_type": "stream",
     "text": [
      "/aos/home/nplanat/miniconda3/envs/Analysis2/lib/python3.10/site-packages/xgcm/grid.py:989: FutureWarning: From version 0.8.0 the Axis computation methods will be removed, in favour of using the Grid computation methods instead. i.e. use `Grid.transform` instead of `Axis.transform`\n",
      "  warnings.warn(\n",
      "/aos/home/nplanat/miniconda3/envs/Analysis2/lib/python3.10/site-packages/numba/np/ufunc/gufunc.py:171: RuntimeWarning: invalid value encountered in _interp_1d_linear\n",
      "  return self.ufunc(*args, **kwargs)\n"
     ]
    },
    {
     "name": "stdout",
     "output_type": "stream",
     "text": [
      "10\n"
     ]
    },
    {
     "name": "stderr",
     "output_type": "stream",
     "text": [
      "/aos/home/nplanat/miniconda3/envs/Analysis2/lib/python3.10/site-packages/xgcm/grid.py:989: FutureWarning: From version 0.8.0 the Axis computation methods will be removed, in favour of using the Grid computation methods instead. i.e. use `Grid.transform` instead of `Axis.transform`\n",
      "  warnings.warn(\n",
      "/aos/home/nplanat/miniconda3/envs/Analysis2/lib/python3.10/site-packages/numba/np/ufunc/gufunc.py:171: RuntimeWarning: invalid value encountered in _interp_1d_linear\n",
      "  return self.ufunc(*args, **kwargs)\n"
     ]
    },
    {
     "name": "stdout",
     "output_type": "stream",
     "text": [
      "11\n"
     ]
    },
    {
     "name": "stderr",
     "output_type": "stream",
     "text": [
      "/aos/home/nplanat/miniconda3/envs/Analysis2/lib/python3.10/site-packages/xgcm/grid.py:989: FutureWarning: From version 0.8.0 the Axis computation methods will be removed, in favour of using the Grid computation methods instead. i.e. use `Grid.transform` instead of `Axis.transform`\n",
      "  warnings.warn(\n",
      "/aos/home/nplanat/miniconda3/envs/Analysis2/lib/python3.10/site-packages/numba/np/ufunc/gufunc.py:171: RuntimeWarning: invalid value encountered in _interp_1d_linear\n",
      "  return self.ufunc(*args, **kwargs)\n"
     ]
    }
   ],
   "source": [
    "Rho_Vals =np.array([R0[i_sPW], R0[i_wPW], R0[i_AW]])\n",
    "print(Rho_Vals)\n",
    "dsT = WOA_M_Q_moy_sigma(ListeT, ListeS, ListeR,  dsshA.ssh_A5B7_m, Rho_Vals, g_0 = 9.83)\n",
    "dsT.to_netcdf('/storage/nplanat/DataWOA/WOA_sigma_Armitage_moy.nc')\n",
    "\n",
    "for i in range(12):\n",
    "    print(i)\n",
    "    dsT = WOA_M_Q_sigma(ListeT[i], ListeS[i], ListeR[i],  dsshA.ssh_A5B7_m.isel(month = i), Rho_Vals, g_0 = 9.83)\n",
    "    dsT.to_netcdf('/storage/nplanat/DataWOA/WOA_sigma_Armitage_'+'{0:02}'.format(i)+'.nc')"
   ]
  }
 ],
 "metadata": {
  "hide_input": false,
  "kernelspec": {
   "display_name": "Python [conda env:Analysis2]",
   "language": "python",
   "name": "conda-env-Analysis2-py"
  },
  "language_info": {
   "codemirror_mode": {
    "name": "ipython",
    "version": 3
   },
   "file_extension": ".py",
   "mimetype": "text/x-python",
   "name": "python",
   "nbconvert_exporter": "python",
   "pygments_lexer": "ipython3",
   "version": "3.10.10"
  },
  "latex_envs": {
   "LaTeX_envs_menu_present": true,
   "autoclose": false,
   "autocomplete": true,
   "bibliofile": "biblio.bib",
   "cite_by": "apalike",
   "current_citInitial": 1,
   "eqLabelWithNumbers": true,
   "eqNumInitial": 1,
   "hotkeys": {
    "equation": "Ctrl-E",
    "itemize": "Ctrl-I"
   },
   "labels_anchors": false,
   "latex_user_defs": false,
   "report_style_numbering": false,
   "user_envs_cfg": false
  },
  "toc": {
   "base_numbering": 1,
   "nav_menu": {},
   "number_sections": true,
   "sideBar": true,
   "skip_h1_title": false,
   "title_cell": "Table of Contents",
   "title_sidebar": "Contents",
   "toc_cell": false,
   "toc_position": {
    "height": "calc(100% - 180px)",
    "left": "10px",
    "top": "150px",
    "width": "165px"
   },
   "toc_section_display": true,
   "toc_window_display": true
  },
  "varInspector": {
   "cols": {
    "lenName": 16,
    "lenType": 16,
    "lenVar": 40
   },
   "kernels_config": {
    "python": {
     "delete_cmd_postfix": "",
     "delete_cmd_prefix": "del ",
     "library": "var_list.py",
     "varRefreshCmd": "print(var_dic_list())"
    },
    "r": {
     "delete_cmd_postfix": ") ",
     "delete_cmd_prefix": "rm(",
     "library": "var_list.r",
     "varRefreshCmd": "cat(var_dic_list()) "
    }
   },
   "types_to_exclude": [
    "module",
    "function",
    "builtin_function_or_method",
    "instance",
    "_Feature"
   ],
   "window_display": false
  }
 },
 "nbformat": 4,
 "nbformat_minor": 5
}
