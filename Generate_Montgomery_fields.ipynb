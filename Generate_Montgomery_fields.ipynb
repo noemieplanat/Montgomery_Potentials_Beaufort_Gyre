{
 "cells": [
  {
   "cell_type": "code",
   "execution_count": 1,
   "id": "0986c9e6",
   "metadata": {
    "ExecuteTime": {
     "end_time": "2024-11-07T14:34:38.295713Z",
     "start_time": "2024-11-07T14:34:28.591012Z"
    }
   },
   "outputs": [],
   "source": [
    "import xarray as xr\n",
    "from scipy.interpolate import griddata\n",
    "import numpy as np\n",
    "from xgcm import Grid\n",
    "import time\n",
    "import gsw\n",
    "from geopy import distance\n",
    "import glob\n",
    "import copy as cp\n",
    "import matplotlib.pyplot as plt\n",
    "import cartopy.crs as ccrs"
   ]
  },
  {
   "cell_type": "code",
   "execution_count": 2,
   "id": "2e7dac15",
   "metadata": {
    "ExecuteTime": {
     "end_time": "2024-11-07T14:34:38.299133Z",
     "start_time": "2024-11-07T14:34:38.297109Z"
    }
   },
   "outputs": [],
   "source": [
    "# Cst\n",
    "f0 = 2*7.2921e-5*np.sin(80*np.pi/180)\n",
    "R = 6356800 #m\n",
    "Seas = ['W', 'S', 'E', 'A']"
   ]
  },
  {
   "cell_type": "code",
   "execution_count": 3,
   "id": "b6096201",
   "metadata": {
    "ExecuteTime": {
     "end_time": "2024-11-07T14:34:38.318556Z",
     "start_time": "2024-11-07T14:34:38.300250Z"
    }
   },
   "outputs": [],
   "source": [
    "def sigma0(As, ct):\n",
    "    return gsw.density.sigma0(As, ct)+1000\n",
    "\n",
    "def delta_sigma0(As, ct, sigma_0):\n",
    "    return gsw.density.sigma0(As, ct)+1000 - sigma_0\n",
    "\n",
    "def sigma1(As, ct):\n",
    "    return gsw.density.sigma1(As, ct)+1000\n",
    "\n",
    "def delta_sigma1(As, ct, sigma_1):\n",
    "    return gsw.density.sigma1(As, ct)+1000 - sigma_1\n"
   ]
  },
  {
   "cell_type": "markdown",
   "id": "dff837cf",
   "metadata": {},
   "source": [
    "# Functions"
   ]
  },
  {
   "cell_type": "markdown",
   "id": "4d8398f9",
   "metadata": {},
   "source": [
    "## WOA "
   ]
  },
  {
   "cell_type": "code",
   "execution_count": 48,
   "id": "3cba09d0",
   "metadata": {
    "ExecuteTime": {
     "end_time": "2024-11-07T15:57:10.505276Z",
     "start_time": "2024-11-07T15:57:10.477521Z"
    },
    "code_folding": [
     0,
     35,
     38
    ]
   },
   "outputs": [],
   "source": [
    "def WOA_M_Q_moy_sigma(ListeT, ListeS, deta, Rho_Vals, g_0 = 9.83, sigma_0 = 1025):\n",
    "    try:  \n",
    "        L_dsT = []\n",
    "        L_dsS = []\n",
    "        for m in range(len(ListeT)):\n",
    "            dsT = xr.open_dataset(ListeT[m], decode_times=False).isel(time=0).isel(lat=slice(619, 720))\n",
    "            dsS = xr.open_dataset(ListeS[m], decode_times=False).isel(time=0).isel(lat=slice(619, 720))\n",
    "\n",
    "            dsT = dsT.drop(('time','crs','t_mn','t_dd','t_sd','t_se','t_oa', 't_ma', 't_gp', 'lat_bnds', 'lon_bnds','depth_bnds', 'climatology_bounds'))\n",
    "            dsS = dsS.drop(('time','crs','s_mn','s_dd','s_sd','s_se','s_oa', 's_ma', 's_gp', 'lat_bnds', 'lon_bnds', 'depth_bnds', 'climatology_bounds'))\n",
    "            L_dsT.append(dsT)\n",
    "            L_dsS.append(dsS)\n",
    "    except:\n",
    "        L_dsT = []\n",
    "        L_dsS = []\n",
    "        for m in range(len(ListeT)):\n",
    "            dsT = xr.open_dataset(ListeT[m], decode_times=False).isel(lat=slice(619, 720))\n",
    "            dsS = xr.open_dataset(ListeS[m], decode_times=False).isel(lat=slice(619, 720))\n",
    "\n",
    "            dsT = dsT.drop(('crs','t_mn','t_dd','t_sd','t_se','t_oa', 't_ma', 't_gp', 'lat_bnds', 'lon_bnds','depth_bnds', 'climatology_bounds'))\n",
    "            dsS = dsS.drop(('crs','s_mn','s_dd','s_sd','s_se','s_oa', 's_ma', 's_gp', 'lat_bnds', 'lon_bnds', 'depth_bnds', 'climatology_bounds'))\n",
    "            L_dsT.append(dsT)\n",
    "            L_dsS.append(dsS)\n",
    "\n",
    "    dsT = xr.concat(L_dsT, dim = 'int').mean('int')\n",
    "    dsS = xr.concat(L_dsS, dim = 'int').mean('int')\n",
    "    # Horizontal grid statics\n",
    "    lats = dsT.lat.values\n",
    "    lons = dsT.lon.values\n",
    "    lat_in = 0.5*(lats[1:]+lats[:-1])\n",
    "    lon_in = 0.5*(lons[1:]+lons[:-1])\n",
    "\n",
    "\n",
    "    e1i = np.zeros((len(lats), len(lon_in)))\n",
    "    e2i = np.zeros((len(lat_in), len(lons)))\n",
    "    for i in range(len(lats)):\n",
    "        for j in range(len(lon_in)):\n",
    "            e1i[i,j] = distance.distance((lats[i], lons[j]), (lats[i], lons[j+1]) ).m        \n",
    "    for i in range(len(lat_in)):\n",
    "        for j in range(len(lons)):\n",
    "            e2i[i,j] = distance.distance((lats[i], lons[j]), (lats[i+1], lons[j]) ).m        \n",
    "\n",
    "    DZ = dsT.depth.values[1:]-dsT.depth.values[:-1]\n",
    "    z_in = dsT.depth.values[:-1] +DZ/2\n",
    "    z = dsT.depth.values\n",
    "\n",
    "    dsT['z_in'] = ('z_in', z_in)\n",
    "    dsT['lat_in'] = (('lat_in'), lat_in)\n",
    "    dsT['lon_in'] = (('lon_in'), lon_in)\n",
    "\n",
    "    dsT['e3i'] = ('z_in', DZ)\n",
    "    dsT['e1i'] = (('lat', 'lon_in'), e1i)\n",
    "    dsT['e2i'] = (('lat_in', 'lon'), e2i)\n",
    "\n",
    "    dsT = dsT.set_coords(('lat_in', 'lon_in', 'z_in', 'e1i', 'e2i', 'e3i'))\n",
    "\n",
    "    metrics = {('X',): ['e1i'], ('Y',): ['e2i'], ('Z',): ['e3i']}\n",
    "    coords={\"X\": {\"center\": \"lon\", 'inner':'lon_in'}, 'Y':{'center':'lat', 'inner':'lat_in'},'Z':{'center':'depth', 'inner':'z_in'}}\n",
    "    grid = Grid(dsT, periodic = ['X'], coords = coords,  metrics = metrics, boundary = 'fill', fill_value = np.nan)\n",
    "\n",
    "    # eta on WOA\n",
    "    if (deta.shape == (12, lats.shape[0], lons.shape[0])) or (deta.shape == (12, lons.shape[0], lats.shape[0])):\n",
    "        print('case1')\n",
    "        dsT['eta'] = deta.mean('month')\n",
    "        dsT['Mask-eta'] = dsT.eta.where(np.isnan(dsT.eta), 1)\n",
    "        del deta\n",
    "    else:\n",
    "        print('I need to interpolate')\n",
    "        try:\n",
    "            E_array = np.zeros((len(ListeT), dsT.lon.shape[0], dsT.lat.shape[0]))\n",
    "            for m in range(len(ListeT)):\n",
    "                latA = deta.llat_cc.values.reshape((deta.llat_cc.shape[0]*deta.llat_cc.shape[1], ))\n",
    "                lonA = deta.llon_cc.values.reshape((deta.llon_cc.shape[0]*deta.llon_cc.shape[1], ))\n",
    "                values = deta.isel(month = m)[:,:].values.reshape((deta.llat_cc.shape[0]*deta.llat_cc.shape[1], ))\n",
    "                points = np.transpose(np.array((latA,lonA)))\n",
    "                xx, yy = np.meshgrid(dsT.lat.values, dsT.lon.values)\n",
    "                E_array[m,:,:] = griddata(points, values, (xx, yy), method = 'linear')\n",
    "\n",
    "            dsT['eta'] = (('lon', 'lat'), np.mean(E_array, axis = 0))\n",
    "            dsT['Mask-eta'] = dsT.eta.where(np.isnan(dsT.eta), 1)\n",
    "            del deta, E_array\n",
    "        except:\n",
    "            try:\n",
    "                E_array = np.zeros((len(ListeT), dsT.lon.shape[0], dsT.lat.shape[0]))\n",
    "                for m in range(len(ListeT)):\n",
    "                    latA = deta.lat.values.reshape((deta.lat.shape[0]*deta.lat.shape[1], ))\n",
    "                    lonA = deta.lon.values.reshape((deta.lat.shape[0]*deta.lat.shape[1], ))\n",
    "                    values = deta.isel(month = m)[:,:].values.reshape((deta.lat.shape[0]*deta.lat.shape[1], ))\n",
    "                    points = np.transpose(np.array((latA,lonA)))\n",
    "                    xx, yy = np.meshgrid(dsT.lat.values, dsT.lon.values)\n",
    "                    E_array[m,:,:]  = griddata(points, values, (xx, yy), method = 'linear')\n",
    "                dsT['eta'] = (('lon', 'lat'), np.mean(E_array, axis = 0))\n",
    "                dsT['Mask-eta'] = dsT.eta.where(np.isnan(dsT.eta), 1)\n",
    "                del deta, E_array\n",
    "            except:\n",
    "                E_array = np.zeros((len(ListeT), dsT.lon.shape[0], dsT.lat.shape[0]))\n",
    "                for m in range(len(ListeT)):\n",
    "\n",
    "                    latA = deta.lat.values\n",
    "                    lonA = deta.lon.values\n",
    "                    LonA, LatA = np.meshgrid(lonA, latA)\n",
    "                    LonA = LonA.flatten()\n",
    "                    LatA = LatA.flatten()\n",
    "                    values = deta.isel(month = m)[:,:].values.flatten()\n",
    "                    points = np.transpose(np.array((LatA,LonA)))\n",
    "                    xx, yy = np.meshgrid(dsT.lat.values, dsT.lon.values)\n",
    "                    E_array[m,:,:]  = griddata(points, values, (xx, yy), method = 'linear')\n",
    "                dsT['eta'] = (('lon', 'lat'),  np.mean(E_array, axis = 0))\n",
    "\n",
    "                dsT['Mask-eta'] = dsT.eta.where(np.isnan(dsT.eta), 1)\n",
    "                del deta, E_array\n",
    "    # Mask\n",
    "    MASK = cp.deepcopy(dsT.t_an.values)\n",
    "    MASK[~np.isnan(MASK)] = 1*np.ones(np.shape(MASK[~np.isnan(MASK)]))\n",
    "    MASK[np.isnan(MASK)] = np.nan*np.ones(np.shape(MASK[np.isnan(MASK)]))\n",
    "    dsT['MASK'] = (('depth','lat','lon'), MASK)\n",
    "    \n",
    "    #grav\n",
    "    dsT['grav'] = g_0\n",
    "    #f\n",
    "    dsT['f'] = gsw.f(dsT.lat)\n",
    "    \n",
    "    # Get T, S, rho in an iterative way\n",
    "    dsT['S'] = dsS.s_an\n",
    "    dsT['T']= dsT.t_an\n",
    "    dsT['R0'] = gsw.density.rho_t_exact(dsS.s_an, dsT.t_an, dsT.depth)\n",
    "    A = (((dsT.R0)*dsT.grav).interp(depth = dsT.z_in)*dsT.e3i).cumsum(dim = 'z_in').values\n",
    "    P0 = np.concatenate((np.zeros((1, A.shape[1], A.shape[2])), A), axis = 0)\n",
    "    dsT['P0'] = (('depth', 'lat', 'lon'), P0) #en PASCALs\n",
    "    dsT['P0'] = dsT.P0*dsT.MASK\n",
    "    \n",
    "    dsT['AS1'] = gsw.SA_from_SP(dsS.s_an, dsT.P0,dsT.lon,dsT.lat)\n",
    "    dsT['CT1'] = gsw.CT_from_t(dsT.AS1, dsT.t_an, dsT.P0*1e-4)\n",
    "    dsT['R1'] = gsw.density.rho(dsT.AS1, dsT.CT1, dsT.P0*1e-4)\n",
    "    A = (((dsT.R1)*dsT.grav).interp(depth = dsT.z_in)*dsT.e3i).cumsum(dim = 'z_in').values\n",
    "    P1 = np.concatenate((np.zeros((1, A.shape[1], A.shape[2])), A), axis = 0)\n",
    "    dsT['P1'] = (('depth', 'lat', 'lon'), P1) #en PASCALs\n",
    "    dsT['P1'] = dsT.P1*dsT.MASK\n",
    "\n",
    "    dsT['AS'] = gsw.SA_from_SP(dsS.s_an, dsT.P1,dsT.lon,dsT.lat)\n",
    "    dsT['CT'] = gsw.CT_from_t(dsT.AS, dsT.t_an, dsT.P1*1e-4)\n",
    "    dsT['R2'] = gsw.density.rho(dsT.AS, dsT.CT, dsT.P1*1e-4)\n",
    "    A = (((dsT.R2)*dsT.grav).interp(depth = dsT.z_in)*dsT.e3i).cumsum(dim = 'z_in').values\n",
    "    P2 = np.concatenate((np.zeros((1, A.shape[1], A.shape[2])), A), axis = 0)\n",
    "    dsT['P'] = (('depth', 'lat', 'lon'), P2) #en PASCALs\n",
    "    dsT['P'] = dsT.P*dsT.MASK\n",
    "    \n",
    "    \n",
    "    dsT['sigmat'] = sigma0(dsT.AS, dsT.CT)\n",
    "   \n",
    "    \n",
    "    A2 = (((dsT.sigmat)*dsT.grav).interp(depth = dsT.z_in)*dsT.e3i).cumsum(dim = 'z_in').values\n",
    "    P2 = np.concatenate((np.zeros((1, A2.shape[1], A2.shape[2])), A2), axis = 0)\n",
    "    dsT['P2'] = (('depth', 'lat', 'lon'), P2) #en PASCALs\n",
    "    dsT['P2'] = dsT.P2*dsT.MASK\n",
    "    #dsT['P_A'] = dsT.P2+grid.interp(dsT.msl, axis = ('X', 'Y'))\n",
    "\n",
    "    for rv in range(len(Rho_Vals)):\n",
    "        dsT['dsigma_'+str(rv)] = delta_sigma0(dsT.AS, dsT.CT, Rho_Vals[rv])\n",
    "        Arv = ((eval('dsT.'+'dsigma_'+str(rv))*dsT.grav).interp(depth = dsT.z_in)*dsT.e3i).cumsum(dim = 'z_in').values\n",
    "        Intrv = np.concatenate((np.zeros((1, Arv.shape[1], Arv.shape[2])), Arv), axis = 0)\n",
    "        dsT['Int_'+str(rv)] = (('depth', 'lat', 'lon'), Intrv)   \n",
    "        dsT['M_'+str(rv)] = dsT.grav*dsT.eta + eval('dsT.Int_'+str(rv))/Rho_Vals[rv]\n",
    "        dsT['M_'+str(rv)] = eval('dsT.M_'+str(rv))*dsT.MASK\n",
    "\n",
    "    dsT['z'] = dsT.eta-dsT.depth # - grid.interp(dsT.msl, axis = ('X', 'Y'))/(sigma_0*dsT.grav)\n",
    "\n",
    "\n",
    "    dsT['Rho_coords'] = (('Rho_coords'), Rho_Vals)\n",
    "    for val in ['M_'+str(rv) for rv in range(len(Rho_Vals))]:\n",
    "        dsT['Mr'+val[1:]] = grid.transform(da = eval('dsT.'+val), axis = 'Z', target= dsT.Rho_coords, target_data=dsT.sigmat)\n",
    "    \n",
    "    dsT['ASr'] = grid.transform(da = dsT.AS, axis = 'Z', target= dsT.Rho_coords, target_data=dsT.sigmat)   \n",
    "    dsT['CTr'] = grid.transform(da = dsT.CT, axis = 'Z', target= dsT.Rho_coords, target_data=dsT.sigmat)   \n",
    "    dsT['profondeur'] = grid.transform(da = dsT.z, axis = 'Z', target= dsT.Rho_coords, target_data=dsT.sigmat)          \n",
    "    dsT['ASr'] = grid.transform(da = dsT.AS, axis = 'Z', target= dsT.Rho_coords, target_data=dsT.sigmat)   \n",
    "    dsT['CTr'] = grid.transform(da = dsT.CT, axis = 'Z', target= dsT.Rho_coords, target_data=dsT.sigmat)   \n",
    "    dsT['rho_surf'] = dsT.sigmat.sel(depth = 0)#1000+ dsR.I_an.sel(depth = 0)\n",
    "    dsT['rho_25'] =  dsT.sigmat.sel(depth = 25)#1000+ dsR.I_an.sel(depth =25)\n",
    "    dsT['rho_15'] =  dsT.sigmat.sel(depth = 15)#1000+ dsR.I_an.sel(depth =15)\n",
    "    dsT['rho_35'] = dsT.sigmat.sel(depth = 35) #1000+ dsR.I_an.sel(depth =35)\n",
    "   \n",
    "    dsT['Q'] = -(dsT.f)*grid.interp(grid.derivative(dsT.sigmat, axis = 'Z'), 'Z')\n",
    "    dsT['Qr'] = grid.transform(da = dsT.Q, axis = 'Z', target= dsT.Rho_coords, target_data=dsT.sigmat) \n",
    "   \n",
    "    A = np.zeros(dsT.Mr_0.shape)\n",
    "    for rv in range(len(Rho_Vals)):\n",
    "        A[:,:,rv] = dsT['Mr_'+str(rv)][:,:,rv]\n",
    "    dsT['Mr'] = (('lon', 'lat', 'Rho_coords'), A)\n",
    "    \n",
    "    A = dsT.sigmat-dsT.sigmat.isel(depth = 0)-0.05\n",
    "    A = A.where(~np.isnan(A), 10000).where(A>0, 10000).values\n",
    "    B = np.argmin(A, axis = 0)\n",
    "    MLD = np.zeros((dsT.lon.shape[0], dsT.lat.shape[0]))\n",
    "    Sig_MLD = np.zeros((dsT.lon.shape[0], dsT.lat.shape[0]))\n",
    "\n",
    "    for i in range(B.shape[0]):#lat\n",
    "        for j in range(B.shape[1]):#lon\n",
    "            if A[B[i,j], i,j]==10000:\n",
    "                MLD[j,i] = np.nan\n",
    "                Sig_MLD[j,i] = np.nan\n",
    "            else:\n",
    "                MLD[j,i] = dsT.z[j,i,B[i,j]]\n",
    "                Sig_MLD[j,i] = dsT.sigmat[B[i,j], i,j]\n",
    "    dsT['MLD'] = (('lon', 'lat'), MLD)\n",
    "    dsT['Sig_MLD'] = (('lon', 'lat'), Sig_MLD)\n",
    "    for rv in range(len(Rho_Vals)):\n",
    "        dsT = dsT.drop({'M_'+str(rv), 'Mr_'+str(rv), 'dsigma_'+str(rv), 'Int_'+str(rv)})\n",
    "    dsT = dsT.drop({'t_an', 'S', 'T', 'P0', 'R0', 'AS1', 'CT1', 'R1', 'P1', 'R2'})\n",
    "    return dsT"
   ]
  },
  {
   "cell_type": "code",
   "execution_count": 5,
   "id": "c062920b",
   "metadata": {
    "ExecuteTime": {
     "end_time": "2024-11-07T14:34:38.380364Z",
     "start_time": "2024-11-07T14:34:38.347356Z"
    },
    "code_folding": [
     0
    ]
   },
   "outputs": [],
   "source": [
    "def WOA_M_Q_sigma(path_T, path_S,  deta, Rho_Vals, g_0 = 9.83):\n",
    "    try:  \n",
    "        dsT = xr.open_dataset(path_T, decode_times=False).isel(time=0).isel(lat=slice(619, 720))\n",
    "        dsS = xr.open_dataset(path_S, decode_times=False).isel(time=0).isel(lat=slice(619, 720))\n",
    "\n",
    "        dsT = dsT.drop(('time','crs','t_mn','t_dd','t_sd','t_se','t_oa', 't_ma', 't_gp', 'lat_bnds', 'lon_bnds','depth_bnds', 'climatology_bounds'))\n",
    "        dsS = dsS.drop(('time','crs','s_mn','s_dd','s_sd','s_se','s_oa', 's_ma', 's_gp', 'lat_bnds', 'lon_bnds', 'depth_bnds', 'climatology_bounds'))\n",
    "    except:\n",
    "        dsT = xr.open_dataset(path_T, decode_times=False).isel(lat=slice(619, 720))\n",
    "        dsS = xr.open_dataset(path_S, decode_times=False).isel(lat=slice(619, 720))\n",
    "\n",
    "        dsT = dsT.drop(('crs','t_mn','t_dd','t_sd','t_se','t_oa', 't_ma', 't_gp', 'lat_bnds', 'lon_bnds','depth_bnds', 'climatology_bounds'))\n",
    "        dsS = dsS.drop(('crs','s_mn','s_dd','s_sd','s_se','s_oa', 's_ma', 's_gp', 'lat_bnds', 'lon_bnds', 'depth_bnds', 'climatology_bounds'))\n",
    "\n",
    "    # Horizontal grid statics\n",
    "    lats = dsT.lat.values\n",
    "    lons = dsT.lon.values\n",
    "    lat_in = 0.5*(lats[1:]+lats[:-1])\n",
    "    lon_in = 0.5*(lons[1:]+lons[:-1])\n",
    "\n",
    "\n",
    "    e1i = np.zeros((len(lats), len(lon_in)))\n",
    "    e2i = np.zeros((len(lat_in), len(lons)))\n",
    "    for i in range(len(lats)):\n",
    "        for j in range(len(lon_in)):\n",
    "            e1i[i,j] = distance.distance((lats[i], lons[j]), (lats[i], lons[j+1]) ).m        \n",
    "    for i in range(len(lat_in)):\n",
    "        for j in range(len(lons)):\n",
    "            e2i[i,j] = distance.distance((lats[i], lons[j]), (lats[i+1], lons[j]) ).m        \n",
    "\n",
    "    DZ = dsT.depth.values[1:]-dsT.depth.values[:-1]\n",
    "    z_in = dsT.depth.values[:-1] +DZ/2\n",
    "    z = dsT.depth.values\n",
    "\n",
    "    dsT['z_in'] = ('z_in', z_in)\n",
    "    dsT['lat_in'] = (('lat_in'), lat_in)\n",
    "    dsT['lon_in'] = (('lon_in'), lon_in)\n",
    "\n",
    "    dsT['e3i'] = ('z_in', DZ)\n",
    "    dsT['e1i'] = (('lat', 'lon_in'), e1i)\n",
    "    dsT['e2i'] = (('lat_in', 'lon'), e2i)\n",
    "\n",
    "    dsT = dsT.set_coords(('lat_in', 'lon_in', 'z_in', 'e1i', 'e2i', 'e3i'))\n",
    "\n",
    "    metrics = {('X',): ['e1i'], ('Y',): ['e2i'], ('Z',): ['e3i']}\n",
    "    coords={\"X\": {\"center\": \"lon\", 'inner':'lon_in'}, 'Y':{'center':'lat', 'inner':'lat_in'},'Z':{'center':'depth', 'inner':'z_in'}}\n",
    "    grid = Grid(dsT, periodic = ['X'], coords = coords,  metrics = metrics, boundary = 'fill', fill_value = np.nan)\n",
    "\n",
    "    # eta on WOA\n",
    "    if (deta.shape == (lats.shape[0], lons.shape[0])) or (deta.shape == (lons.shape[0], lats.shape[0])):\n",
    "        print('case1')\n",
    "        dsT['eta'] = deta\n",
    "        dsT['Mask-eta'] = dsT.eta.where(np.isnan(dsT.eta), 1)\n",
    "        del deta\n",
    "    else:\n",
    "        try: \n",
    "            print('case2')\n",
    "            latA = deta.llat_cc.values.reshape((deta.llat_cc.shape[0]*deta.llat_cc.shape[1], ))\n",
    "            lonA = deta.llon_cc.values.reshape((deta.llon_cc.shape[0]*deta.llon_cc.shape[1], ))\n",
    "            values = deta[:,:].values.reshape((deta.llat_cc.shape[0]*deta.llat_cc.shape[1], ))\n",
    "            points = np.transpose(np.array((latA,lonA)))\n",
    "            xx, yy = np.meshgrid(dsT.lat.values, dsT.lon.values)\n",
    "            ETA_WOA = griddata(points, values, (xx, yy), method = 'linear')\n",
    "            dsT['eta'] = (('lon', 'lat'), ETA_WOA)\n",
    "            dsT['Mask-eta'] = dsT.eta.where(np.isnan(dsT.eta), 1)\n",
    "            del deta, ETA_WOA\n",
    "        except:\n",
    "            try:\n",
    "                print('case2')\n",
    "                latA = deta.lat.values.reshape((deta.lat.shape[0]*deta.lat.shape[1], ))\n",
    "                lonA = deta.lon.values.reshape((deta.lat.shape[0]*deta.lat.shape[1], ))\n",
    "                values = deta[:,:].values.reshape((deta.lat.shape[0]*deta.lat.shape[1], ))\n",
    "                points = np.transpose(np.array((latA,lonA)))\n",
    "                xx, yy = np.meshgrid(dsT.lat.values, dsT.lon.values)\n",
    "                ETA_WOA = griddata(points, values, (xx, yy), method = 'linear')\n",
    "                dsT['eta'] = (('lon', 'lat'), ETA_WOA)\n",
    "                dsT['Mask-eta'] = dsT.eta.where(np.isnan(dsT.eta), 1)\n",
    "                del deta, ETA_WOA\n",
    "            except:\n",
    "                print('case3')\n",
    "                latA = deta.lat.values\n",
    "                lonA = deta.lon.values\n",
    "                LonA, LatA = np.meshgrid(lonA, latA)\n",
    "                LonA = LonA.flatten()\n",
    "                LatA = LatA.flatten()\n",
    "                values = deta[:,:].values.flatten()\n",
    "                points = np.transpose(np.array((LatA,LonA)))\n",
    "                xx, yy = np.meshgrid(dsT.lat.values, dsT.lon.values)\n",
    "                ETA_WOA = griddata(points, values, (xx, yy), method = 'linear')\n",
    "                dsT['eta'] = (('lon', 'lat'), ETA_WOA)\n",
    "\n",
    "                dsT['Mask-eta'] = dsT.eta.where(np.isnan(dsT.eta), 1)\n",
    "                del deta, ETA_WOA\n",
    "    # Mask\n",
    "    MASK = cp.deepcopy(dsT.t_an.values)\n",
    "    MASK[~np.isnan(MASK)] = 1*np.ones(np.shape(MASK[~np.isnan(MASK)]))\n",
    "    MASK[np.isnan(MASK)] = np.nan*np.ones(np.shape(MASK[np.isnan(MASK)]))\n",
    "    dsT['MASK'] = (('depth','lat','lon'), MASK)\n",
    "\n",
    "    #grav\n",
    "    dsT['grav'] = g_0\n",
    "    #f\n",
    "    dsT['f'] = gsw.f(dsT.lat)\n",
    "    \n",
    "    dsT['S'] = dsS.s_an\n",
    "    dsT['T']= dsT.t_an\n",
    "    dsT['R0'] = gsw.density.rho_t_exact(dsS.s_an, dsT.t_an, dsT.depth)\n",
    "    A = (((dsT.R0)*dsT.grav).interp(depth = dsT.z_in)*dsT.e3i).cumsum(dim = 'z_in').values\n",
    "    P0 = np.concatenate((np.zeros((1, A.shape[1], A.shape[2])), A), axis = 0)\n",
    "    dsT['P0'] = (('depth', 'lat', 'lon'), P0) #en PASCALs\n",
    "    dsT['P0'] = dsT.P0*dsT.MASK\n",
    "    \n",
    "    dsT['AS1'] = gsw.SA_from_SP(dsS.s_an, dsT.P0,dsT.lon,dsT.lat)\n",
    "    dsT['CT1'] = gsw.CT_from_t(dsT.AS1, dsT.t_an, dsT.P0*1e-4)\n",
    "    dsT['R1'] = gsw.density.rho(dsT.AS1, dsT.CT1, dsT.P0*1e-4)\n",
    "    A = (((dsT.R1)*dsT.grav).interp(depth = dsT.z_in)*dsT.e3i).cumsum(dim = 'z_in').values\n",
    "    P1 = np.concatenate((np.zeros((1, A.shape[1], A.shape[2])), A), axis = 0)\n",
    "    dsT['P1'] = (('depth', 'lat', 'lon'), P1) #en PASCALs\n",
    "    dsT['P1'] = dsT.P1*dsT.MASK\n",
    "\n",
    "    dsT['AS'] = gsw.SA_from_SP(dsS.s_an, dsT.P1,dsT.lon,dsT.lat)\n",
    "    dsT['CT'] = gsw.CT_from_t(dsT.AS, dsT.t_an, dsT.P1*1e-4)\n",
    "    dsT['R2'] = gsw.density.rho(dsT.AS, dsT.CT, dsT.P1*1e-4)\n",
    "    A = (((dsT.R2)*dsT.grav).interp(depth = dsT.z_in)*dsT.e3i).cumsum(dim = 'z_in').values\n",
    "    P2 = np.concatenate((np.zeros((1, A.shape[1], A.shape[2])), A), axis = 0)\n",
    "    dsT['P'] = (('depth', 'lat', 'lon'), P2) #en PASCALs\n",
    "    dsT['P'] = dsT.P*dsT.MASK\n",
    "    \n",
    "    dsT['sigmat'] = sigma0(dsT.AS, dsT.CT)\n",
    "   \n",
    "    \n",
    "    A2 = (((dsT.sigmat)*dsT.grav).interp(depth = dsT.z_in)*dsT.e3i).cumsum(dim = 'z_in').values\n",
    "    P2 = np.concatenate((np.zeros((1, A2.shape[1], A2.shape[2])), A2), axis = 0)\n",
    "    dsT['P2'] = (('depth', 'lat', 'lon'), P2) #en PASCALs\n",
    "    dsT['P2'] = dsT.P2*dsT.MASK\n",
    "    \n",
    "\n",
    "    for rv in range(len(Rho_Vals)):\n",
    "        dsT['dsigma_'+str(rv)] = delta_sigma0(dsT.AS, dsT.CT, Rho_Vals[rv])\n",
    "        Arv = ((eval('dsT.'+'dsigma_'+str(rv))*dsT.grav).interp(depth = dsT.z_in)*dsT.e3i).cumsum(dim = 'z_in').values\n",
    "        Intrv = np.concatenate((np.zeros((1, Arv.shape[1], Arv.shape[2])), Arv), axis = 0)\n",
    "        dsT['Int_'+str(rv)] = (('depth', 'lat', 'lon'), Intrv)   \n",
    "        dsT['M_'+str(rv)] = dsT.grav*dsT.eta + eval('dsT.Int_'+str(rv))/Rho_Vals[rv]\n",
    "        dsT['M_'+str(rv)] = eval('dsT.M_'+str(rv))*dsT.MASK\n",
    "\n",
    "    dsT['z'] = dsT.eta-dsT.depth\n",
    "\n",
    "\n",
    "    dsT['Rho_coords'] = (('Rho_coords'), Rho_Vals)\n",
    "    for val in ['M_'+str(rv) for rv in range(len(Rho_Vals))]:\n",
    "        dsT['Mr'+val[1:]] = grid.transform(da = eval('dsT.'+val), axis = 'Z', target= dsT.Rho_coords, target_data=dsT.sigmat)\n",
    "    \n",
    "    dsT['ASr'] = grid.transform(da = dsT.AS, axis = 'Z', target= dsT.Rho_coords, target_data=dsT.sigmat)   \n",
    "    dsT['CTr'] = grid.transform(da = dsT.CT, axis = 'Z', target= dsT.Rho_coords, target_data=dsT.sigmat)   \n",
    "    dsT['profondeur'] = grid.transform(da = dsT.z, axis = 'Z', target= dsT.Rho_coords, target_data=dsT.sigmat)          \n",
    "    dsT['ASr'] = grid.transform(da = dsT.AS, axis = 'Z', target= dsT.Rho_coords, target_data=dsT.sigmat)   \n",
    "    dsT['CTr'] = grid.transform(da = dsT.CT, axis = 'Z', target= dsT.Rho_coords, target_data=dsT.sigmat)   \n",
    "    dsT['profondeur'] = grid.transform(da = dsT.z, axis = 'Z', target= dsT.Rho_coords, target_data=dsT.sigmat)   \n",
    "    dsT['rho_surf'] = dsT.sigmat.sel(depth = 0)#1000+ dsR.I_an.sel(depth = 0)\n",
    "    dsT['rho_25'] =  dsT.sigmat.sel(depth = 25)#1000+ dsR.I_an.sel(depth =25)\n",
    "    dsT['rho_15'] =  dsT.sigmat.sel(depth = 15)#1000+ dsR.I_an.sel(depth =15)\n",
    "    dsT['rho_35'] = dsT.sigmat.sel(depth = 35) #1000+ dsR.I_an.sel(depth =35)\n",
    "\n",
    "    A = np.zeros(dsT.Mr_0.shape)\n",
    "    for rv in range(len(Rho_Vals)):\n",
    "        A[:,:,rv] = dsT['Mr_'+str(rv)][:,:,rv]\n",
    "    dsT['Mr'] = (('lon', 'lat', 'Rho_coords'), A)\n",
    "    \n",
    "    A = dsT.sigmat-dsT.sigmat.isel(depth = 0)-0.05\n",
    "    A = A.where(~np.isnan(A), 10000).where(A>0, 10000).values\n",
    "    B = np.argmin(A, axis = 0)\n",
    "    MLD = np.zeros((dsT.lon.shape[0], dsT.lat.shape[0]))\n",
    "    Sig_MLD = np.zeros((dsT.lon.shape[0], dsT.lat.shape[0]))\n",
    "\n",
    "    for i in range(B.shape[0]):#lat\n",
    "        for j in range(B.shape[1]):#lon\n",
    "            if A[B[i,j], i,j]==10000:\n",
    "                MLD[j,i] = np.nan\n",
    "                Sig_MLD[j,i] = np.nan\n",
    "            else:\n",
    "                MLD[j,i] = dsT.z[j,i,B[i,j]]\n",
    "                Sig_MLD[j,i] = dsT.sigmat[B[i,j], i,j]\n",
    "    dsT['MLD'] = (('lon', 'lat'), MLD)\n",
    "    dsT['Sig_MLD'] = (('lon', 'lat'), Sig_MLD)\n",
    "    #ds_all = dsT\n",
    "    #for rv in range(len(Rho_Vals)):\n",
    "    #    dsT = dsT.drop({'M_'+str(rv), 'Mr_'+str(rv), 'dsigma_'+str(rv), 'Int_'+str(rv)})\n",
    "    #dsT = dsT.drop({'t_an', 'S', 'T', 'P0', 'R0', 'AS1', 'CT1', 'R1', 'P1', 'R2'})\n",
    "    return dsT"
   ]
  },
  {
   "cell_type": "markdown",
   "id": "548b4916",
   "metadata": {},
   "source": [
    "## MIMOC"
   ]
  },
  {
   "cell_type": "code",
   "execution_count": 6,
   "id": "230973c1",
   "metadata": {
    "ExecuteTime": {
     "end_time": "2024-11-07T14:34:38.407818Z",
     "start_time": "2024-11-07T14:34:38.381385Z"
    },
    "code_folding": [
     0
    ]
   },
   "outputs": [],
   "source": [
    "def MIMOC(path_data, deta, Rho_Vals,  g_0 = 9.83):\n",
    "    ds = xr.open_dataset(path_data)\n",
    "    ds = ds.rename({'LATITUDE':'LAT', 'LONGITUDE':'LONG', 'PRESSURE':'PRES'})\n",
    "    ds = ds.set_coords({'LAT', 'LONG', 'PRES'})\n",
    "    Lons_180 = cp.deepcopy(ds.LONG.values)\n",
    "    Lons_180[Lons_180>180] = Lons_180[Lons_180>180]-360\n",
    "    ds['LONG_180'] = (('LONG'), Lons_180)\n",
    "    ds = ds.isel(LAT = slice(290, 341))\n",
    "\n",
    "    # Horizontal grid statics\n",
    "    lats = ds.LAT.values\n",
    "    lons = ds.LONG.values\n",
    "    lat_in = 0.5*(lats[1:]+lats[:-1])\n",
    "    lon_in = 0.5*(lons[1:]+lons[:-1])\n",
    "\n",
    "\n",
    "    e1i = np.zeros((len(lats), len(lon_in)))\n",
    "    e2i = np.zeros((len(lat_in), len(lons)))\n",
    "    for i in range(len(lats)):\n",
    "        for j in range(len(lon_in)):\n",
    "            e1i[i,j] = distance.distance((lats[i], lons[j]), (lats[i], lons[j+1]) ).m        \n",
    "    for i in range(len(lat_in)):\n",
    "        for j in range(len(lons)):\n",
    "            e2i[i,j] = distance.distance((lats[i], lons[j]), (lats[i+1], lons[j]) ).m        \n",
    "\n",
    "    # grid\n",
    "    DP = ds.PRES.values[1:]-ds.PRES.values[:-1] \n",
    "    P_in = ds.PRES.values[:-1]+DP/2\n",
    "\n",
    "    ds['P_in'] = ('P_in', P_in)\n",
    "    ds['lat_in'] = (('lat_in'), lat_in)\n",
    "    ds['lon_in'] = (('lon_in'), lon_in)\n",
    "\n",
    "    ds['e3i'] = ('P_in', DP)\n",
    "    ds['e1i'] = (('LAT', 'lon_in'), e1i)\n",
    "    ds['e2i'] = (('lat_in', 'LONG'), e2i)\n",
    "\n",
    "    ds = ds.set_coords(('lat_in', 'lon_in', 'P_in', 'e1i', 'e2i', 'e3i'))\n",
    "\n",
    "    metrics = {('X',): ['e1i'], ('Y',): ['e2i'], ('Z',): ['e3i']}\n",
    "    coords={\"X\": {\"center\": \"LONG\", 'inner':'lon_in'}, 'Y':{'center':'LAT', 'inner':'lat_in'},'Z':{'center':'PRES', 'inner':'P_in'}}\n",
    "    grid = Grid(ds, periodic = ['X'], coords = coords,  metrics = metrics, boundary = 'fill', fill_value = np.nan)\n",
    "\n",
    "\n",
    "    # Grav\n",
    "    ds['grav'] = g_0\n",
    "    ds['f'] = gsw.f(ds.LAT)\n",
    "    ds['CT'] = ds.CONSERVATIVE_TEMPERATURE\n",
    "    ds['AS'] = ds.ABSOLUTE_SALINITY\n",
    "    # eta on MIMOC\n",
    "    try:\n",
    "        E_array = np.zeros((ds.LONG.shape[0], ds.LAT.shape[0]))\n",
    "\n",
    "        latA = deta.llat_cc.values.reshape((deta.llat_cc.shape[0]*deta.llat_cc.shape[1], ))\n",
    "        lonA = deta.llon_cc.values.reshape((deta.llon_cc.shape[0]*deta.llon_cc.shape[1], ))\n",
    "        values = deta.values.reshape((deta.llat_cc.shape[0]*deta.llat_cc.shape[1], ))\n",
    "        points = np.transpose(np.array((latA,lonA)))\n",
    "        xx, yy = np.meshgrid(ds.LAT.values, ds.LONG_180.values)\n",
    "        E_array[:,:] = griddata(points, values, (xx, yy), method = 'linear')\n",
    "        ds['eta'] = (('LONG', 'LAT'),E_array)\n",
    "        del deta, E_array\n",
    "    except:\n",
    "        E_array = np.zeros((ds.LONG.shape[0], ds.LAT.shape[0]))\n",
    "        latA = deta.lat.values\n",
    "        lonA = deta.lon.values\n",
    "        LonA, LatA = np.meshgrid(lonA, latA)\n",
    "        LonA = LonA.flatten()\n",
    "        LatA = LatA.flatten()\n",
    "        values = np.transpose(deta.values).flatten()\n",
    "        points = np.transpose(np.array((LatA,LonA)))\n",
    "\n",
    "        xx, yy = np.meshgrid(ds.LAT.values, np.linspace(-179.5, 180, 720))\n",
    "\n",
    "        ARR =  griddata(points, values, (xx, yy), method = 'linear')\n",
    "        E_array[:,:]  = np.concatenate([ARR[359:,:], ARR[:359,:]])\n",
    "        ds['eta'] = (('LONG', 'LAT'), E_array)\n",
    "        del deta, E_array\n",
    "    MASK = cp.deepcopy(ds.CONSERVATIVE_TEMPERATURE.values)\n",
    "    MASK[~np.isnan(MASK)] = 1*np.ones(np.shape(MASK[~np.isnan(MASK)]))\n",
    "    MASK[np.isnan(MASK)] = np.nan*np.ones(np.shape(MASK[np.isnan(MASK)]))\n",
    "    ds['MASK'] = (('PRES','LAT','LONG'), MASK)\n",
    "\n",
    "    for rv in range(len(Rho_Vals)):\n",
    "        ds['dsigma_'+str(rv)] = delta_sigma0(ds.AS, ds.CT, Rho_Vals[rv])\n",
    "        Arv = ((eval('ds.'+'dsigma_'+str(rv))*ds.grav).interp(PRES = ds.P_in)*ds.e3i).cumsum(dim = 'P_in').values\n",
    "        Intrv = np.concatenate((np.zeros((1, Arv.shape[1], Arv.shape[2])), Arv), axis = 0)\n",
    "        ds['Int_'+str(rv)] = (('PRES', 'LAT', 'LONG'), Intrv)   \n",
    "        ds['M_'+str(rv)] = ds.grav*ds.eta + eval('ds.Int_'+str(rv))/Rho_Vals[rv]\n",
    "        ds['M_'+str(rv)] = eval('ds.M_'+str(rv))*ds.MASK\n",
    "\n",
    "    \n",
    "    \n",
    "    ds['alpha'] = gsw.specvol(ds.ABSOLUTE_SALINITY,ds.CONSERVATIVE_TEMPERATURE,ds.PRES)\n",
    "    A = (ds.alpha.interp(PRES = ds.P_in)*1e4*ds.e3i).cumsum(dim = 'P_in').values\n",
    "    Zimt = np.concatenate((np.zeros((1, A.shape[1], A.shape[2])), A), axis = 0)\n",
    "    ds['zimt'] = (('PRES', 'LAT', 'LONG'), Zimt)\n",
    "\n",
    "    ds['z'] = ds.eta - ds.zimt/ds.grav#ds.eta - ds.zimt/9.82#ds.grav\n",
    "    ds['R'] = gsw.rho(ds.AS,ds.CT,ds.PRES)\n",
    "    ds['sigmat'] = sigma0(ds.AS,ds.CT)\n",
    "\n",
    "    \n",
    "    \n",
    "    ds['Rho_coords'] = (('Rho_coords'), Rho_Vals)\n",
    "    for val in ['M_'+str(rv) for rv in range(len(Rho_Vals))]:\n",
    "        ds['Mr'+val[1:]] = grid.transform(da = eval('ds.'+val), axis = 'Z', target= ds.Rho_coords, target_data=ds.sigmat)\n",
    "    \n",
    "    ds['profondeur'] = grid.transform(da = ds.z, axis = 'Z', target= ds.Rho_coords, target_data=ds.sigmat)          \n",
    "    ds['ASr'] = grid.transform(da = ds.AS, axis = 'Z', target= ds.Rho_coords, target_data=ds.sigmat)   \n",
    "    ds['CTr'] = grid.transform(da = ds.CT, axis = 'Z', target= ds.Rho_coords, target_data=ds.sigmat)   \n",
    "    ds['profondeur'] = grid.transform(da = ds.z, axis = 'Z', target= ds.Rho_coords, target_data=ds.sigmat)   \n",
    "    ds['rho_surf'] = ds.R.isel(PRES =  int(np.argmin(np.abs(ds.PRES.values - 0))))\n",
    "    ds['rho_15'] = ds.R.isel(PRES = int(np.argmin(np.abs(ds.PRES.values - 15))))\n",
    "    ds['rho_25'] = ds.R.isel(PRES = int(np.argmin(np.abs(ds.PRES.values - 25))))\n",
    "    ds['rho_35'] = ds.R.isel(PRES = int(np.argmin(np.abs(ds.PRES.values - 35))))    \n",
    "    \n",
    "    A = np.zeros(ds.Mr_0.shape)\n",
    "    for rv in range(len(Rho_Vals)):\n",
    "        A[:,:,rv] = ds['Mr_'+str(rv)][:,:,rv]\n",
    "    ds['Mr'] = (('LONG', 'LAT', 'Rho_coords'), A)\n",
    "\n",
    "    A = ds.sigmat-ds.sigmat.isel(PRES = 0)-0.05\n",
    "    A = A.where(~np.isnan(A), 10000).where(A>0, 10000).values\n",
    "    B = np.argmin(A, axis = 0)\n",
    "    MLD = np.zeros((ds.LONG.shape[0], ds.LAT.shape[0]))\n",
    "    Sig_MLD = np.zeros((ds.LONG.shape[0], ds.LAT.shape[0]))\n",
    "\n",
    "    for i in range(B.shape[0]):#lat\n",
    "        for j in range(B.shape[1]):#lon\n",
    "            if A[B[i,j], i,j]==10000:\n",
    "                MLD[j,i] = np.nan\n",
    "                Sig_MLD[j,i] = np.nan\n",
    "            else:\n",
    "                MLD[j,i] = ds.z[j,i,B[i,j]]\n",
    "                Sig_MLD[j,i] = ds.sigmat[B[i,j], i,j]\n",
    "    ds['MLD'] = (('LONG', 'LAT'), MLD)\n",
    "    ds['Sig_MLD'] = (('LONG', 'LAT'), Sig_MLD)\n",
    "\n",
    "    dsR = ds.drop({'ABSOLUTE_SALINITY', 'CONSERVATIVE_TEMPERATURE', 'zimt'})\n",
    "    for rv in range(len(Rho_Vals)):\n",
    "        dsR = dsR.drop({'M_'+str(rv), 'Mr_'+str(rv), 'dsigma_'+str(rv), 'Int_'+str(rv)})\n",
    "    return dsR\n"
   ]
  },
  {
   "cell_type": "code",
   "execution_count": 7,
   "id": "190832f7",
   "metadata": {
    "ExecuteTime": {
     "end_time": "2024-11-07T14:34:38.430325Z",
     "start_time": "2024-11-07T14:34:38.408808Z"
    },
    "code_folding": [
     0
    ]
   },
   "outputs": [],
   "source": [
    "def MIMOC_moy(Liste, deta, Rho_Vals,  g_0 = 9.83):\n",
    "    L_ds = []\n",
    "    for m in range(len(Liste)):\n",
    "        ds = xr.open_dataset(Liste[m])\n",
    "        ds = ds.rename({'LATITUDE':'LAT', 'LONGITUDE':'LONG', 'PRESSURE':'PRES'})\n",
    "        ds = ds.set_coords({'LAT', 'LONG', 'PRES'})\n",
    "        Lons_180 = cp.deepcopy(ds.LONG.values)\n",
    "        Lons_180[Lons_180>180] = Lons_180[Lons_180>180]-360\n",
    "        ds['LONG_180'] = (('LONG'), Lons_180)\n",
    "        ds = ds.isel(LAT = slice(290, 341))\n",
    "        L_ds.append(ds)\n",
    "    ds = xr.concat(L_ds, dim = 'int').mean('int')\n",
    "    # Horizontal grid statics\n",
    "    lats = ds.LAT.values\n",
    "    lons = ds.LONG.values\n",
    "    lat_in = 0.5*(lats[1:]+lats[:-1])\n",
    "    lon_in = 0.5*(lons[1:]+lons[:-1])\n",
    "\n",
    "\n",
    "    e1i = np.zeros((len(lats), len(lon_in)))\n",
    "    e2i = np.zeros((len(lat_in), len(lons)))\n",
    "    for i in range(len(lats)):\n",
    "        for j in range(len(lon_in)):\n",
    "            e1i[i,j] = distance.distance((lats[i], lons[j]), (lats[i], lons[j+1]) ).m        \n",
    "    for i in range(len(lat_in)):\n",
    "        for j in range(len(lons)):\n",
    "            e2i[i,j] = distance.distance((lats[i], lons[j]), (lats[i+1], lons[j]) ).m        \n",
    "\n",
    "    # grid\n",
    "    DP = ds.PRES.values[1:]-ds.PRES.values[:-1] \n",
    "    P_in = ds.PRES.values[:-1]+DP/2\n",
    "\n",
    "    ds['P_in'] = ('P_in', P_in)\n",
    "    ds['lat_in'] = (('lat_in'), lat_in)\n",
    "    ds['lon_in'] = (('lon_in'), lon_in)\n",
    "\n",
    "    ds['e3i'] = ('P_in', DP)\n",
    "    ds['e1i'] = (('LAT', 'lon_in'), e1i)\n",
    "    ds['e2i'] = (('lat_in', 'LONG'), e2i)\n",
    "\n",
    "    ds = ds.set_coords(('lat_in', 'lon_in', 'P_in', 'e1i', 'e2i', 'e3i'))\n",
    "\n",
    "    metrics = {('X',): ['e1i'], ('Y',): ['e2i'], ('Z',): ['e3i']}\n",
    "    coords={\"X\": {\"center\": \"LONG\", 'inner':'lon_in'}, 'Y':{'center':'LAT', 'inner':'lat_in'},'Z':{'center':'PRES', 'inner':'P_in'}}\n",
    "    grid = Grid(ds, periodic = ['X'], coords = coords,  metrics = metrics, boundary = 'fill', fill_value = np.nan)\n",
    "\n",
    "\n",
    "    # Grav\n",
    "    ds['grav'] = g_0\n",
    "    ds['f'] = gsw.f(ds.LAT)\n",
    "    ds['CT'] = ds.CONSERVATIVE_TEMPERATURE\n",
    "    ds['AS'] = ds.ABSOLUTE_SALINITY\n",
    "    # eta on MIMOC\n",
    "    try:\n",
    "        E_array = np.zeros((len(Liste), ds.LONG.shape[0], ds.LAT.shape[0]))\n",
    "        for m in range(len(Liste)):\n",
    "            latA = deta.llat_cc.values.reshape((deta.llat_cc.shape[0]*deta.llat_cc.shape[1], ))\n",
    "            lonA = deta.llon_cc.values.reshape((deta.llon_cc.shape[0]*deta.llon_cc.shape[1], ))\n",
    "            values = deta.isel(month = m)[:,:].values.reshape((deta.llat_cc.shape[0]*deta.llat_cc.shape[1], ))\n",
    "            points = np.transpose(np.array((latA,lonA)))\n",
    "            xx, yy = np.meshgrid(ds.LAT.values, ds.LONG_180.values)\n",
    "            E_array[m,:,:] = griddata(points, values, (xx, yy), method = 'linear')\n",
    "        ds['eta'] = (('LONG', 'LAT'), np.mean(E_array, axis = 0))\n",
    "        del deta, E_array\n",
    "    except:\n",
    "        E_array = np.zeros((len(Liste_MIMOC), ds.LONG.shape[0], ds.LAT.shape[0]))\n",
    "        for m in range(12):\n",
    "            print(m)\n",
    "            latA = deta.lat.values\n",
    "            lonA = deta.lon.values\n",
    "            LonA, LatA = np.meshgrid(lonA, latA)\n",
    "            LonA = LonA.flatten()\n",
    "            LatA = LatA.flatten()\n",
    "            values = np.transpose(deta.isel(month = m)[:,:].values).flatten()\n",
    "            points = np.transpose(np.array((LatA,LonA)))\n",
    "\n",
    "            xx, yy = np.meshgrid(ds.LAT.values, np.linspace(-179.5, 180, 720))\n",
    "\n",
    "            ARR =  griddata(points, values, (xx, yy), method = 'linear')\n",
    "            E_array[m,:,:]  = np.concatenate([ARR[359:,:], ARR[:359,:]])\n",
    "        ds['eta'] = (('LONG', 'LAT'), np.mean(E_array[:,:,:], axis = 0))\n",
    "        del deta, E_array\n",
    "    MASK = cp.deepcopy(ds.CONSERVATIVE_TEMPERATURE.values)\n",
    "    MASK[~np.isnan(MASK)] = 1*np.ones(np.shape(MASK[~np.isnan(MASK)]))\n",
    "    MASK[np.isnan(MASK)] = np.nan*np.ones(np.shape(MASK[np.isnan(MASK)]))\n",
    "    ds['MASK'] = (('PRES','LAT','LONG'), MASK)\n",
    "\n",
    "    for rv in range(len(Rho_Vals)):\n",
    "        ds['dsigma_'+str(rv)] = delta_sigma0(ds.AS, ds.CT, Rho_Vals[rv])\n",
    "        Arv = ((eval('ds.'+'dsigma_'+str(rv))*ds.grav).interp(PRES = ds.P_in)*ds.e3i).cumsum(dim = 'P_in').values\n",
    "        Intrv = np.concatenate((np.zeros((1, Arv.shape[1], Arv.shape[2])), Arv), axis = 0)\n",
    "        ds['Int_'+str(rv)] = (('PRES', 'LAT', 'LONG'), Intrv)   \n",
    "        ds['M_'+str(rv)] = ds.grav*ds.eta + eval('ds.Int_'+str(rv))/Rho_Vals[rv]\n",
    "        ds['M_'+str(rv)] = eval('ds.M_'+str(rv))*ds.MASK\n",
    "\n",
    "    \n",
    "    \n",
    "    ds['alpha'] = gsw.specvol(ds.ABSOLUTE_SALINITY,ds.CONSERVATIVE_TEMPERATURE,ds.PRES)\n",
    "    A = (ds.alpha.interp(PRES = ds.P_in)*1e4*ds.e3i).cumsum(dim = 'P_in').values\n",
    "    Zimt = np.concatenate((np.zeros((1, A.shape[1], A.shape[2])), A), axis = 0)\n",
    "    ds['zimt'] = (('PRES', 'LAT', 'LONG'), Zimt)\n",
    "\n",
    "    ds['z'] = ds.eta - ds.zimt/ds.grav#ds.eta - ds.zimt/9.82#ds.grav\n",
    "    ds['R'] = gsw.rho(ds.AS,ds.CT,ds.PRES)\n",
    "    ds['sigmat'] = sigma0(ds.AS,ds.CT)\n",
    "\n",
    "    \n",
    "    \n",
    "    ds['Rho_coords'] = (('Rho_coords'), Rho_Vals)\n",
    "    for val in ['M_'+str(rv) for rv in range(len(Rho_Vals))]:\n",
    "        ds['Mr'+val[1:]] = grid.transform(da = eval('ds.'+val), axis = 'Z', target= ds.Rho_coords, target_data=ds.sigmat)\n",
    "    \n",
    "    ds['profondeur'] = grid.transform(da = ds.z, axis = 'Z', target= ds.Rho_coords, target_data=ds.sigmat)          \n",
    "    ds['ASr'] = grid.transform(da = ds.AS, axis = 'Z', target= ds.Rho_coords, target_data=ds.sigmat)   \n",
    "    ds['CTr'] = grid.transform(da = ds.CT, axis = 'Z', target= ds.Rho_coords, target_data=ds.sigmat)   \n",
    "    ds['profondeur'] = grid.transform(da = ds.z, axis = 'Z', target= ds.Rho_coords, target_data=ds.sigmat)   \n",
    "    ds['rho_surf'] = ds.R.sel(PRES = 0)\n",
    "    ds['rho_15'] = ds.R.sel(PRES = 15)\n",
    "    ds['rho_25'] = ds.R.sel(PRES = 25)\n",
    "    ds['rho_35'] = ds.R.sel(PRES = 35)    \n",
    "    \n",
    "    A = np.zeros(ds.Mr_0.shape)\n",
    "    for rv in range(len(Rho_Vals)):\n",
    "        A[:,:,rv] = ds['Mr_'+str(rv)][:,:,rv]\n",
    "    ds['Mr'] = (('LONG', 'LAT', 'Rho_coords'), A)\n",
    "\n",
    "    A = ds.sigmat-ds.sigmat.isel(PRES = 0)-0.05\n",
    "    A = A.where(~np.isnan(A), 10000).where(A>0, 10000).values\n",
    "    B = np.argmin(A, axis = 0)\n",
    "    MLD = np.zeros((ds.LONG.shape[0], ds.LAT.shape[0]))\n",
    "    Sig_MLD = np.zeros((ds.LONG.shape[0], ds.LAT.shape[0]))\n",
    "\n",
    "    for i in range(B.shape[0]):#lat\n",
    "        for j in range(B.shape[1]):#lon\n",
    "            if A[B[i,j], i,j]==10000:\n",
    "                MLD[j,i] = np.nan\n",
    "                Sig_MLD[j,i] = np.nan\n",
    "            else:\n",
    "                MLD[j,i] = ds.z[j,i,B[i,j]]\n",
    "                Sig_MLD[j,i] = ds.sigmat[B[i,j], i,j]\n",
    "    ds['MLD'] = (('LONG', 'LAT'), MLD)\n",
    "    ds['Sig_MLD'] = (('LONG', 'LAT'), Sig_MLD)\n",
    "\n",
    "    dsR = ds.drop({'ABSOLUTE_SALINITY', 'CONSERVATIVE_TEMPERATURE', 'zimt'})\n",
    "    for rv in range(len(Rho_Vals)):\n",
    "        dsR = dsR.drop({'M_'+str(rv), 'Mr_'+str(rv), 'dsigma_'+str(rv), 'Int_'+str(rv)})\n",
    "    return dsR\n"
   ]
  },
  {
   "cell_type": "markdown",
   "id": "32ddd7c1",
   "metadata": {},
   "source": [
    "# Generate "
   ]
  },
  {
   "cell_type": "code",
   "execution_count": 8,
   "id": "d42de5c0",
   "metadata": {
    "ExecuteTime": {
     "end_time": "2024-11-07T14:34:47.491412Z",
     "start_time": "2024-11-07T14:34:38.431265Z"
    },
    "code_folding": []
   },
   "outputs": [],
   "source": [
    "#WOA 2005-2017\n",
    "ListeT = ['/storage/nplanat/DataWOA/woa18_A5B7_t'+'{0:02}'.format(k)+'_04.nc' for k in range(1, 13)]\n",
    "ListeS = ['/storage/nplanat/DataWOA/woa18_A5B7_s'+'{0:02}'.format(k)+'_04.nc' for k in range(1, 13)]\n",
    "\n",
    "dsT = xr.open_mfdataset(ListeT, decode_times = False)#, compat='override')\n",
    "dsS = xr.open_mfdataset(ListeS, decode_times = False)#, compat='override')\n",
    "\n",
    "\n",
    "AS = gsw.SA_from_SP(dsS.s_an, dsT.depth, -145, 75)\n",
    "CT = gsw.CT_from_t(AS, dsT.t_an, dsT.depth)\n",
    "\n",
    "R0 = sigma0(AS, CT).mean(dim = 'time').sel(lat = slice(72,82)).sel(lon = slice(-160, -130)).mean(dim = {'lat', 'lon'}).values\n",
    "R1 = sigma1(AS, CT).mean(dim = 'time').sel(lat = slice(72,82)).sel(lon = slice(-160, -130)).mean(dim = {'lat', 'lon'}).values\n",
    "\n",
    "T = CT.mean(dim = 'time').sel(lat = slice(72,82)).sel(lon = slice(-160, -130)).mean(dim = {'lat', 'lon'}).values\n",
    "S = AS.mean(dim = 'time').sel(lat = slice(72,82)).sel(lon = slice(-160, -130)).mean(dim = {'lat', 'lon'}).values"
   ]
  },
  {
   "cell_type": "code",
   "execution_count": 9,
   "id": "bff5f9db",
   "metadata": {
    "ExecuteTime": {
     "end_time": "2024-11-07T14:34:55.667831Z",
     "start_time": "2024-11-07T14:34:47.492732Z"
    },
    "code_folding": [
     0
    ]
   },
   "outputs": [],
   "source": [
    "#WOA 23 : 2005-2014\n",
    "ListeT_A5B4 = ['/storage/nplanat/DataWOA/WOA23/woa23_A5B4_t'+'{0:02}'.format(k)+'_04.nc' for k in range(1, 13)]\n",
    "ListeS_A5B4 = ['/storage/nplanat/DataWOA/WOA23/woa23_A5B4_s'+'{0:02}'.format(k)+'_04.nc' for k in range(1, 13)]\n",
    "\n",
    "dsT_A5B4 = xr.open_mfdataset(ListeT_A5B4, decode_times = False)#, compat='override')\n",
    "dsS_A5B4 = xr.open_mfdataset(ListeS_A5B4, decode_times = False)#, compat='override')\n",
    "\n",
    "AS_A5B4 = gsw.SA_from_SP(dsS_A5B4.s_an, dsT_A5B4.depth, -145, 75)\n",
    "CT_A5B4 = gsw.CT_from_t(AS_A5B4, dsT_A5B4.t_an, dsT_A5B4.depth)\n",
    "\n",
    "R0_A5B4 = sigma0(AS_A5B4, CT_A5B4).mean(dim = 'time').sel(lat = slice(72,82)).sel(lon = slice(-160, -130)).mean(dim = {'lat', 'lon'}).values\n",
    "R1_A5B4 = sigma1(AS_A5B4, CT_A5B4).mean(dim = 'time').sel(lat = slice(72,82)).sel(lon = slice(-160, -130)).mean(dim = {'lat', 'lon'}).values\n",
    "\n",
    "T_A5B4 = CT_A5B4.mean(dim = 'time').sel(lat = slice(72,82)).sel(lon = slice(-160, -130)).mean(dim = {'lat', 'lon'}).values\n",
    "S_A5B4 = AS_A5B4.mean(dim = 'time').sel(lat = slice(72,82)).sel(lon = slice(-160, -130)).mean(dim = {'lat', 'lon'}).values\n"
   ]
  },
  {
   "cell_type": "code",
   "execution_count": 10,
   "id": "684f95ba",
   "metadata": {
    "ExecuteTime": {
     "end_time": "2024-11-07T14:35:04.041913Z",
     "start_time": "2024-11-07T14:34:55.669102Z"
    },
    "code_folding": [
     0
    ]
   },
   "outputs": [],
   "source": [
    "#WOA 23 : 2014-2022\n",
    "ListeT_B5C2 = ['/storage/nplanat/DataWOA/WOA23/woa23_B5C2_t'+'{0:02}'.format(k)+'_04.nc' for k in range(1, 13)]\n",
    "ListeS_B5C2 = ['/storage/nplanat/DataWOA/WOA23/woa23_B5C2_s'+'{0:02}'.format(k)+'_04.nc' for k in range(1, 13)]\n",
    "\n",
    "dsT_B5C2 = xr.open_mfdataset(ListeT_B5C2, decode_times = False)#, compat='override')\n",
    "dsS_B5C2 = xr.open_mfdataset(ListeS_B5C2, decode_times = False)#, compat='override')\n",
    "\n",
    "AS_B5C2 = gsw.SA_from_SP(dsS_B5C2.s_an, dsT_B5C2.depth, -145, 75)\n",
    "CT_B5C2 = gsw.CT_from_t(AS_B5C2, dsT_B5C2.t_an, dsT_B5C2.depth)\n",
    "R0_B5C2 = sigma0(AS_B5C2, CT_B5C2).mean(dim = 'time').sel(lat = slice(72,82)).sel(lon = slice(-160, -130)).mean(dim = {'lat', 'lon'}).values\n",
    "R1_B5C2 = sigma1(AS_B5C2, CT_B5C2).mean(dim = 'time').sel(lat = slice(72,82)).sel(lon = slice(-160, -130)).mean(dim = {'lat', 'lon'}).values\n",
    "\n",
    "T_B5C2 = CT_B5C2.mean(dim = 'time').sel(lat = slice(72,82)).sel(lon = slice(-160, -130)).mean(dim = {'lat', 'lon'}).values\n",
    "S_B5C2 = AS_B5C2.mean(dim = 'time').sel(lat = slice(72,82)).sel(lon = slice(-160, -130)).mean(dim = {'lat', 'lon'}).values"
   ]
  },
  {
   "cell_type": "code",
   "execution_count": 11,
   "id": "53b1c9cc",
   "metadata": {
    "ExecuteTime": {
     "end_time": "2024-11-07T14:35:11.340879Z",
     "start_time": "2024-11-07T14:35:04.043197Z"
    },
    "code_folding": [
     0
    ]
   },
   "outputs": [],
   "source": [
    "#MIMOC\n",
    "Liste_MIMOC = ['/storage/nplanat/DataMIMOC/MIMOC_Z_GRID_v2.2_CT_SA_month'+'{0:02}'.format(k)+'.nc' for k in range(1, 13)]\n",
    "Liste_ds_MIMOC = [xr.open_dataset(Liste_MIMOC[i], decode_times = False) for i in range(12)]#, compat='override')\n",
    "L_modif_MIMOC = []\n",
    "for i in range(len(Liste_ds_MIMOC)): \n",
    "    ds = Liste_ds_MIMOC[i]\n",
    "    ds = ds.rename({'LATITUDE':'LAT', 'LONGITUDE':'LONG', 'PRESSURE':'PRES'})\n",
    "    ds = ds.set_coords({'LAT', 'LONG', 'PRES'})\n",
    "    L_modif_MIMOC.append(ds)\n",
    "dsT_MIMOC = xr.concat(L_modif_MIMOC, dim = 'int')\n",
    "\n",
    "T_MIMOC = dsT_MIMOC.CONSERVATIVE_TEMPERATURE.mean('int').sel(LAT = slice(72,82)).sel(LONG = slice(200, 230)).mean(dim = {'LAT', 'LONG'}).values\n",
    "S_MIMOC = dsT_MIMOC.ABSOLUTE_SALINITY.mean('int').sel(LAT = slice(72,82)).sel(LONG = slice(200, 230)).mean(dim = {'LAT', 'LONG'}).values\n",
    "R0_MIMOC = sigma0(dsT_MIMOC.ABSOLUTE_SALINITY, dsT_MIMOC.CONSERVATIVE_TEMPERATURE).mean('int').sel(LAT = slice(72,82)).sel(LONG = slice(200, 230)).mean(dim = {'LAT', 'LONG'}).values\n",
    "\n",
    "i_sPW_MIMOC = np.argmax(T_MIMOC[5:20])+5\n",
    "i_wPW_MIMOC = np.argmin(T_MIMOC[16:35])+16\n",
    "i_AW_MIMOC = np.argmax(T_MIMOC[35:55])+35\n"
   ]
  },
  {
   "cell_type": "code",
   "execution_count": 12,
   "id": "6fc3698b",
   "metadata": {
    "ExecuteTime": {
     "end_time": "2024-11-07T14:35:11.717957Z",
     "start_time": "2024-11-07T14:35:11.342210Z"
    },
    "code_folding": []
   },
   "outputs": [
    {
     "data": {
      "text/plain": [
       "Text(0.5, 0, 'Temperature')"
      ]
     },
     "execution_count": 12,
     "metadata": {},
     "output_type": "execute_result"
    },
    {
     "data": {
      "image/png": "[encoded data removed]",
      "text/plain": [
       "<Figure size 640x480 with 2 Axes>"
      ]
     },
     "metadata": {},
     "output_type": "display_data"
    }
   ],
   "source": [
    "f = plt.figure()\n",
    "ax = plt.gca()\n",
    "i_sPW = np.argmax(T[5:20])+5\n",
    "i_wPW = np.argmin(T[16:24])+16\n",
    "i_AW = np.argmax(T[24:35])+24\n",
    "ax.plot(T, dsT.depth.values, label = 'WOA')\n",
    "ax.plot(T[i_sPW-3:i_sPW+3], dsT.depth.values[i_sPW-3:i_sPW+3], '*')\n",
    "ax.plot(T[i_wPW-3:i_wPW+3],dsT.depth.values[i_wPW-3:i_wPW+3],  '*')\n",
    "ax.plot(T[i_AW-3:i_AW+3],dsT.depth.values[i_AW-3:i_AW+3], '*')\n",
    "\n",
    "ax.plot(T_MIMOC, dsT_MIMOC.PRES.values, '--', label = 'MIMOC')\n",
    "ax.plot(T_MIMOC[i_sPW_MIMOC-3:i_sPW_MIMOC+3], dsT_MIMOC.PRES.values[i_sPW_MIMOC-3:i_sPW_MIMOC+3], '*')\n",
    "ax.plot(T_MIMOC[i_wPW_MIMOC-3:i_wPW_MIMOC+3],dsT_MIMOC.PRES.values[i_wPW_MIMOC-3:i_wPW_MIMOC+3],  '*')\n",
    "ax.plot(T_MIMOC[i_AW_MIMOC-3:i_AW_MIMOC+3],dsT_MIMOC.PRES.values[i_AW_MIMOC-3:i_AW_MIMOC+3], '*')\n",
    "\n",
    "ax.legend()\n",
    "\n",
    "\n",
    "ax2 = ax.twiny()\n",
    "ax2.plot(R0, dsT.depth.values, '.-')\n",
    "ax2.plot(R0[i_sPW-3:i_sPW+3], dsT.depth.values[i_sPW-3:i_sPW+3], '.')\n",
    "ax2.plot(R0[i_wPW-3:i_wPW+3],dsT.depth.values[i_wPW-3:i_wPW+3],  '.')\n",
    "ax2.plot(R0[i_AW-3:i_AW+3],dsT.depth.values[i_AW-3:i_AW+3], '.')\n",
    "R0[i_wPW-3:i_wPW+3]\n",
    "ax2.plot(R0_MIMOC, dsT_MIMOC.PRES.values, ':')\n",
    "ax2.plot(R0_MIMOC[i_sPW_MIMOC-3:i_sPW_MIMOC+3], dsT_MIMOC.PRES.values[i_sPW_MIMOC-3:i_sPW_MIMOC+3], '.')\n",
    "ax2.plot(R0_MIMOC[i_wPW_MIMOC-3:i_wPW_MIMOC+3],dsT_MIMOC.PRES.values[i_wPW_MIMOC-3:i_wPW_MIMOC+3],  '.')\n",
    "ax2.plot(R0_MIMOC[i_AW_MIMOC-3:i_AW_MIMOC+3],dsT_MIMOC.PRES.values[i_AW_MIMOC-3:i_AW_MIMOC+3], '.')\n",
    "\n",
    "\n",
    "\n",
    "ax = plt.gca()\n",
    "ax.invert_yaxis()\n",
    "ax.set_ylim([600, 0])\n",
    "ax.set_ylabel('Depth [m]')\n",
    "ax2.set_xlabel('Potential density')\n",
    "ax.set_xlabel('Temperature')\n",
    "\n"
   ]
  },
  {
   "cell_type": "code",
   "execution_count": 13,
   "id": "4579f4cd",
   "metadata": {
    "ExecuteTime": {
     "end_time": "2024-11-07T14:35:12.121738Z",
     "start_time": "2024-11-07T14:35:11.720564Z"
    }
   },
   "outputs": [
    {
     "data": {
      "text/plain": [
       "<matplotlib.legend.Legend at 0x7f413e58bbe0>"
      ]
     },
     "execution_count": 13,
     "metadata": {},
     "output_type": "execute_result"
    },
    {
     "data": {
      "image/png": "[encoded data removed]",
      "text/plain": [
       "<Figure size 600x600 with 2 Axes>"
      ]
     },
     "metadata": {},
     "output_type": "display_data"
    }
   ],
   "source": [
    "f = plt.figure(figsize = (6,6))\n",
    "ax = f.add_subplot(1,1,1)\n",
    "ax2 = ax.twiny()\n",
    "i_sPW = np.argmax(T[5:20])+5\n",
    "i_wPW = np.argmin(T[16:24])+16\n",
    "i_AW = np.argmax(T[24:35])+24\n",
    "ax.plot(T, dsT.depth.values, label = 'WOA18 : 2005-2017', c = 'Navy')\n",
    "ax.plot(T[i_sPW], dsT.depth.values[i_sPW], '*', c = 'Navy')\n",
    "ax.plot(T[i_wPW],dsT.depth.values[i_wPW],  'o', c = 'Navy')\n",
    "ax.plot(T[i_AW],dsT.depth.values[i_AW], '<', c = 'Navy')\n",
    "ax2.plot(R0, dsT.depth.values, '.-', c = 'Navy')\n",
    "ax2.plot(R0[i_sPW], dsT.depth.values[i_sPW], '*', c = 'Navy')\n",
    "ax2.plot(R0[i_wPW],dsT.depth.values[i_wPW],  'o', c = 'Navy')\n",
    "ax2.plot(R0[i_AW],dsT.depth.values[i_AW], '<', c = 'Navy')\n",
    "\n",
    "i_sPW_A5B4 = np.argmax(T_A5B4[5:20])+5\n",
    "i_wPW_A5B4 = np.argmin(T_A5B4[16:24])+16\n",
    "i_AW_A5B4 = np.argmax(T_A5B4[24:35])+24\n",
    "ax.plot(T_A5B4, dsT_A5B4.depth.values, label = 'WOA23 : 2005-2014', c = 'tomato')\n",
    "ax.plot(T_A5B4[i_sPW_A5B4], dsT_A5B4.depth.values[i_sPW_A5B4], '*', c = 'tomato')\n",
    "ax.plot(T_A5B4[i_wPW_A5B4],dsT_A5B4.depth.values[i_wPW_A5B4],  'o', c = 'tomato')\n",
    "ax.plot(T_A5B4[i_AW_A5B4],dsT_A5B4.depth.values[i_AW_A5B4], '<', c = 'tomato')\n",
    "ax2.plot(R0_A5B4, dsT_A5B4.depth.values, '.-', c = 'tomato')\n",
    "ax2.plot(R0_A5B4[i_sPW_A5B4], dsT_A5B4.depth.values[i_sPW_A5B4], '*', c = 'tomato')\n",
    "ax2.plot(R0_A5B4[i_wPW_A5B4],dsT.depth.values[i_wPW_A5B4],  'o', c = 'tomato')\n",
    "ax2.plot(R0_A5B4[i_AW_A5B4],dsT.depth.values[i_AW_A5B4], '<', c = 'tomato')\n",
    "\n",
    "\n",
    "i_sPW_B5C2 = np.argmax(T_B5C2[5:20])+5\n",
    "i_wPW_B5C2 = np.argmin(T_B5C2[16:24])+16\n",
    "i_AW_B5C2 = np.argmax(T_B5C2[24:35])+24\n",
    "ax.plot(T_B5C2, dsT_B5C2.depth.values, label = 'WOA23 : 2015-2022', c = 'forestgreen')\n",
    "ax.plot(T_B5C2[i_sPW_B5C2], dsT_B5C2.depth.values[i_sPW_B5C2], '*', c = 'forestgreen')\n",
    "ax.plot(T_B5C2[i_wPW_B5C2],dsT_B5C2.depth.values[i_wPW_B5C2],  'o', c = 'forestgreen')\n",
    "ax.plot(T_B5C2[i_AW_B5C2],dsT_B5C2.depth.values[i_AW_B5C2], '<', c = 'forestgreen')\n",
    "ax2.plot(R0_B5C2, dsT_B5C2.depth.values, '.-', c = 'forestgreen')\n",
    "ax2.plot(R0_B5C2[i_sPW_B5C2], dsT_B5C2.depth.values[i_sPW_B5C2], '*', c = 'forestgreen')\n",
    "ax2.plot(R0_B5C2[i_wPW_B5C2],dsT.depth.values[i_wPW_B5C2],  'o', c = 'forestgreen')\n",
    "ax2.plot(R0_B5C2[i_AW_B5C2],dsT.depth.values[i_AW_B5C2], '<', c = 'forestgreen')\n",
    "\n",
    "ax.invert_yaxis()\n",
    "ax.set_ylim([600, 0])\n",
    "ax.set_ylabel('Depth [m]')\n",
    "ax.set_xlabel(r'Temperature [$^\\circ$C]')\n",
    "ax2.set_xlabel(r'Potential density [kg/m$^3$]')\n",
    "ax.legend()\n"
   ]
  },
  {
   "cell_type": "code",
   "execution_count": 14,
   "id": "1c7601c6",
   "metadata": {
    "ExecuteTime": {
     "end_time": "2024-11-07T14:35:12.125889Z",
     "start_time": "2024-11-07T14:35:12.122880Z"
    },
    "scrolled": true
   },
   "outputs": [
    {
     "name": "stdout",
     "output_type": "stream",
     "text": [
      "sPW : A5B7 :  1024.897 A5B4 :  1024.955 B5C2 :  1024.962\n",
      "wPW : A5B7 :  1026.504 A5B4 :  1026.516 B5C2 :  1026.389\n",
      "AW : A5B7 :  1027.919 A5B4 :  1027.925 B5C2 :  1027.927\n"
     ]
    }
   ],
   "source": [
    "print('sPW : A5B7 : ', np.round(R0[i_sPW], 3), 'A5B4 : ', np.round(R0_A5B4[i_sPW_A5B4], 3), 'B5C2 : ', np.round(R0_B5C2[i_sPW_B5C2], 3))\n",
    "print('wPW : A5B7 : ', np.round(R0[i_wPW], 3), 'A5B4 : ', np.round(R0_A5B4[i_wPW_A5B4], 3), 'B5C2 : ', np.round(R0_B5C2[i_wPW_B5C2], 3))\n",
    "print('AW : A5B7 : ', np.round(R0[i_AW], 3), 'A5B4 : ', np.round(R0_A5B4[i_AW_A5B4], 3), 'B5C2 : ', np.round(R0_B5C2[i_AW_B5C2], 3))\n"
   ]
  },
  {
   "cell_type": "code",
   "execution_count": 15,
   "id": "b9a18a30",
   "metadata": {
    "ExecuteTime": {
     "end_time": "2024-11-07T14:35:12.146361Z",
     "start_time": "2024-11-07T14:35:12.126860Z"
    }
   },
   "outputs": [
    {
     "name": "stdout",
     "output_type": "stream",
     "text": [
      "sPW : A5B7 :  31.133 A5B4 :  31.204 B5C2 :  31.226\n",
      "wPW : A5B7 :  33.101 A5B4 :  33.116 B5C2 :  32.96\n",
      "AW : A5B7 :  34.984 A5B4 :  34.992 B5C2 :  34.994\n"
     ]
    }
   ],
   "source": [
    "print('sPW : A5B7 : ', np.round(S[i_sPW], 3), 'A5B4 : ', np.round(S_A5B4[i_sPW_A5B4], 3), 'B5C2 : ', np.round(S_B5C2[i_sPW_B5C2], 3))\n",
    "print('wPW : A5B7 : ', np.round(S[i_wPW], 3), 'A5B4 : ', np.round(S_A5B4[i_wPW_A5B4], 3), 'B5C2 : ', np.round(S_B5C2[i_wPW_B5C2], 3))\n",
    "print('AW : A5B7 : ', np.round(S[i_AW], 3), 'A5B4 : ', np.round(S_A5B4[i_AW_A5B4], 3), 'B5C2 : ', np.round(S_B5C2[i_AW_B5C2], 3))\n"
   ]
  },
  {
   "cell_type": "code",
   "execution_count": 16,
   "id": "16f1ea73",
   "metadata": {
    "ExecuteTime": {
     "end_time": "2024-11-07T14:35:12.182728Z",
     "start_time": "2024-11-07T14:35:12.147302Z"
    }
   },
   "outputs": [],
   "source": [
    "dssh = xr.open_dataset('/mnt/shackleton/storage3/nplanat/Data_SSH/Final_SSH_ORAS_23_2.nc')\n",
    "dsshA = xr.open_dataset('/mnt/shackleton/storage3/nplanat/Data_SSH/Final_SSH_Armi_WOA23_2.nc')\n",
    "dsshM = xr.open_dataset('/mnt/shackleton/storage3/nplanat/Data_SSH/VF_WOA23.nc')\n"
   ]
  },
  {
   "cell_type": "markdown",
   "id": "a28725b7",
   "metadata": {},
   "source": [
    "## WOA "
   ]
  },
  {
   "cell_type": "code",
   "execution_count": 33,
   "id": "66ec5c87",
   "metadata": {
    "ExecuteTime": {
     "end_time": "2024-11-07T14:58:00.020737Z",
     "start_time": "2024-11-07T14:43:08.889177Z"
    },
    "collapsed": true
   },
   "outputs": [
    {
     "name": "stdout",
     "output_type": "stream",
     "text": [
      "0\n",
      "case1\n"
     ]
    },
    {
     "name": "stderr",
     "output_type": "stream",
     "text": [
      "/aos/home/nplanat/miniconda3/envs/Analysis2/lib/python3.10/site-packages/xgcm/grid.py:989: FutureWarning: From version 0.8.0 the Axis computation methods will be removed, in favour of using the Grid computation methods instead. i.e. use `Grid.transform` instead of `Axis.transform`\n",
      "  warnings.warn(\n",
      "/aos/home/nplanat/miniconda3/envs/Analysis2/lib/python3.10/site-packages/numba/np/ufunc/gufunc.py:171: RuntimeWarning: invalid value encountered in _interp_1d_linear\n",
      "  return self.ufunc(*args, **kwargs)\n"
     ]
    },
    {
     "name": "stdout",
     "output_type": "stream",
     "text": [
      "1\n",
      "case1\n"
     ]
    },
    {
     "name": "stderr",
     "output_type": "stream",
     "text": [
      "/aos/home/nplanat/miniconda3/envs/Analysis2/lib/python3.10/site-packages/xgcm/grid.py:989: FutureWarning: From version 0.8.0 the Axis computation methods will be removed, in favour of using the Grid computation methods instead. i.e. use `Grid.transform` instead of `Axis.transform`\n",
      "  warnings.warn(\n",
      "/aos/home/nplanat/miniconda3/envs/Analysis2/lib/python3.10/site-packages/numba/np/ufunc/gufunc.py:171: RuntimeWarning: invalid value encountered in _interp_1d_linear\n",
      "  return self.ufunc(*args, **kwargs)\n"
     ]
    },
    {
     "name": "stdout",
     "output_type": "stream",
     "text": [
      "2\n",
      "case1\n"
     ]
    },
    {
     "name": "stderr",
     "output_type": "stream",
     "text": [
      "/aos/home/nplanat/miniconda3/envs/Analysis2/lib/python3.10/site-packages/xgcm/grid.py:989: FutureWarning: From version 0.8.0 the Axis computation methods will be removed, in favour of using the Grid computation methods instead. i.e. use `Grid.transform` instead of `Axis.transform`\n",
      "  warnings.warn(\n",
      "/aos/home/nplanat/miniconda3/envs/Analysis2/lib/python3.10/site-packages/numba/np/ufunc/gufunc.py:171: RuntimeWarning: invalid value encountered in _interp_1d_linear\n",
      "  return self.ufunc(*args, **kwargs)\n"
     ]
    },
    {
     "name": "stdout",
     "output_type": "stream",
     "text": [
      "3\n",
      "case1\n"
     ]
    },
    {
     "name": "stderr",
     "output_type": "stream",
     "text": [
      "/aos/home/nplanat/miniconda3/envs/Analysis2/lib/python3.10/site-packages/xgcm/grid.py:989: FutureWarning: From version 0.8.0 the Axis computation methods will be removed, in favour of using the Grid computation methods instead. i.e. use `Grid.transform` instead of `Axis.transform`\n",
      "  warnings.warn(\n",
      "/aos/home/nplanat/miniconda3/envs/Analysis2/lib/python3.10/site-packages/numba/np/ufunc/gufunc.py:171: RuntimeWarning: invalid value encountered in _interp_1d_linear\n",
      "  return self.ufunc(*args, **kwargs)\n"
     ]
    },
    {
     "name": "stdout",
     "output_type": "stream",
     "text": [
      "4\n",
      "case1\n"
     ]
    },
    {
     "name": "stderr",
     "output_type": "stream",
     "text": [
      "/aos/home/nplanat/miniconda3/envs/Analysis2/lib/python3.10/site-packages/xgcm/grid.py:989: FutureWarning: From version 0.8.0 the Axis computation methods will be removed, in favour of using the Grid computation methods instead. i.e. use `Grid.transform` instead of `Axis.transform`\n",
      "  warnings.warn(\n",
      "/aos/home/nplanat/miniconda3/envs/Analysis2/lib/python3.10/site-packages/numba/np/ufunc/gufunc.py:171: RuntimeWarning: invalid value encountered in _interp_1d_linear\n",
      "  return self.ufunc(*args, **kwargs)\n"
     ]
    },
    {
     "name": "stdout",
     "output_type": "stream",
     "text": [
      "5\n",
      "case1\n"
     ]
    },
    {
     "name": "stderr",
     "output_type": "stream",
     "text": [
      "/aos/home/nplanat/miniconda3/envs/Analysis2/lib/python3.10/site-packages/xgcm/grid.py:989: FutureWarning: From version 0.8.0 the Axis computation methods will be removed, in favour of using the Grid computation methods instead. i.e. use `Grid.transform` instead of `Axis.transform`\n",
      "  warnings.warn(\n",
      "/aos/home/nplanat/miniconda3/envs/Analysis2/lib/python3.10/site-packages/numba/np/ufunc/gufunc.py:171: RuntimeWarning: invalid value encountered in _interp_1d_linear\n",
      "  return self.ufunc(*args, **kwargs)\n"
     ]
    },
    {
     "name": "stdout",
     "output_type": "stream",
     "text": [
      "6\n",
      "case1\n"
     ]
    },
    {
     "name": "stderr",
     "output_type": "stream",
     "text": [
      "/aos/home/nplanat/miniconda3/envs/Analysis2/lib/python3.10/site-packages/xgcm/grid.py:989: FutureWarning: From version 0.8.0 the Axis computation methods will be removed, in favour of using the Grid computation methods instead. i.e. use `Grid.transform` instead of `Axis.transform`\n",
      "  warnings.warn(\n",
      "/aos/home/nplanat/miniconda3/envs/Analysis2/lib/python3.10/site-packages/numba/np/ufunc/gufunc.py:171: RuntimeWarning: invalid value encountered in _interp_1d_linear\n",
      "  return self.ufunc(*args, **kwargs)\n"
     ]
    },
    {
     "name": "stdout",
     "output_type": "stream",
     "text": [
      "7\n",
      "case1\n"
     ]
    },
    {
     "name": "stderr",
     "output_type": "stream",
     "text": [
      "/aos/home/nplanat/miniconda3/envs/Analysis2/lib/python3.10/site-packages/xgcm/grid.py:989: FutureWarning: From version 0.8.0 the Axis computation methods will be removed, in favour of using the Grid computation methods instead. i.e. use `Grid.transform` instead of `Axis.transform`\n",
      "  warnings.warn(\n",
      "/aos/home/nplanat/miniconda3/envs/Analysis2/lib/python3.10/site-packages/numba/np/ufunc/gufunc.py:171: RuntimeWarning: invalid value encountered in _interp_1d_linear\n",
      "  return self.ufunc(*args, **kwargs)\n"
     ]
    },
    {
     "name": "stdout",
     "output_type": "stream",
     "text": [
      "8\n",
      "case1\n"
     ]
    },
    {
     "name": "stderr",
     "output_type": "stream",
     "text": [
      "/aos/home/nplanat/miniconda3/envs/Analysis2/lib/python3.10/site-packages/xgcm/grid.py:989: FutureWarning: From version 0.8.0 the Axis computation methods will be removed, in favour of using the Grid computation methods instead. i.e. use `Grid.transform` instead of `Axis.transform`\n",
      "  warnings.warn(\n",
      "/aos/home/nplanat/miniconda3/envs/Analysis2/lib/python3.10/site-packages/numba/np/ufunc/gufunc.py:171: RuntimeWarning: invalid value encountered in _interp_1d_linear\n",
      "  return self.ufunc(*args, **kwargs)\n"
     ]
    },
    {
     "name": "stdout",
     "output_type": "stream",
     "text": [
      "9\n",
      "case1\n"
     ]
    },
    {
     "name": "stderr",
     "output_type": "stream",
     "text": [
      "/aos/home/nplanat/miniconda3/envs/Analysis2/lib/python3.10/site-packages/xgcm/grid.py:989: FutureWarning: From version 0.8.0 the Axis computation methods will be removed, in favour of using the Grid computation methods instead. i.e. use `Grid.transform` instead of `Axis.transform`\n",
      "  warnings.warn(\n",
      "/aos/home/nplanat/miniconda3/envs/Analysis2/lib/python3.10/site-packages/numba/np/ufunc/gufunc.py:171: RuntimeWarning: invalid value encountered in _interp_1d_linear\n",
      "  return self.ufunc(*args, **kwargs)\n"
     ]
    },
    {
     "name": "stdout",
     "output_type": "stream",
     "text": [
      "10\n",
      "case1\n"
     ]
    },
    {
     "name": "stderr",
     "output_type": "stream",
     "text": [
      "/aos/home/nplanat/miniconda3/envs/Analysis2/lib/python3.10/site-packages/xgcm/grid.py:989: FutureWarning: From version 0.8.0 the Axis computation methods will be removed, in favour of using the Grid computation methods instead. i.e. use `Grid.transform` instead of `Axis.transform`\n",
      "  warnings.warn(\n",
      "/aos/home/nplanat/miniconda3/envs/Analysis2/lib/python3.10/site-packages/numba/np/ufunc/gufunc.py:171: RuntimeWarning: invalid value encountered in _interp_1d_linear\n",
      "  return self.ufunc(*args, **kwargs)\n"
     ]
    },
    {
     "name": "stdout",
     "output_type": "stream",
     "text": [
      "11\n",
      "case1\n"
     ]
    },
    {
     "name": "stderr",
     "output_type": "stream",
     "text": [
      "/aos/home/nplanat/miniconda3/envs/Analysis2/lib/python3.10/site-packages/xgcm/grid.py:989: FutureWarning: From version 0.8.0 the Axis computation methods will be removed, in favour of using the Grid computation methods instead. i.e. use `Grid.transform` instead of `Axis.transform`\n",
      "  warnings.warn(\n",
      "/aos/home/nplanat/miniconda3/envs/Analysis2/lib/python3.10/site-packages/numba/np/ufunc/gufunc.py:171: RuntimeWarning: invalid value encountered in _interp_1d_linear\n",
      "  return self.ufunc(*args, **kwargs)\n"
     ]
    }
   ],
   "source": [
    "Rho_Vals =np.array([R0[i_sPW], R0[i_wPW], R0[i_AW]])\n",
    "eps = 3\n",
    "mid_lat = 78.375\n",
    "\n",
    "dsT = WOA_M_Q_moy_sigma(ListeT, ListeS,  eval('dsshM.ssh_mixed_'+str(int(eps))+'_'+str(int(mid_lat))), Rho_Vals, g_0 = 9.83)\n",
    "dsT.to_netcdf('/storage/nplanat/DataWOA/WOA_VF_'+str(int(eps))+'_'+str(int(mid_lat))+'_moy.nc')\n",
    "\n",
    "for i in range(12):\n",
    "    print(i)\n",
    "    dsT = WOA_M_Q_sigma(ListeT[i], ListeS[i],eval('dsshM.ssh_mixed_'+str(int(eps))+'_'+str(int(mid_lat))).isel(month = i).isel(lat=slice(619, 720)), Rho_Vals, g_0 = 9.83)\n",
    "    dsT.to_netcdf('/storage/nplanat/DataWOA/WOA_VF_'+str(int(eps))+'_'+str(int(mid_lat))+'{0:02}'.format(i)+'.nc')\n",
    "   "
   ]
  },
  {
   "cell_type": "code",
   "execution_count": 34,
   "id": "ca806cd9",
   "metadata": {
    "ExecuteTime": {
     "end_time": "2024-11-07T15:17:53.468085Z",
     "start_time": "2024-11-07T15:01:28.699513Z"
    },
    "collapsed": true
   },
   "outputs": [
    {
     "name": "stdout",
     "output_type": "stream",
     "text": [
      "case1\n"
     ]
    },
    {
     "name": "stderr",
     "output_type": "stream",
     "text": [
      "/aos/home/nplanat/miniconda3/envs/Analysis2/lib/python3.10/site-packages/xgcm/grid.py:989: FutureWarning: From version 0.8.0 the Axis computation methods will be removed, in favour of using the Grid computation methods instead. i.e. use `Grid.transform` instead of `Axis.transform`\n",
      "  warnings.warn(\n",
      "/aos/home/nplanat/miniconda3/envs/Analysis2/lib/python3.10/site-packages/numba/np/ufunc/gufunc.py:171: RuntimeWarning: invalid value encountered in _interp_1d_linear\n",
      "  return self.ufunc(*args, **kwargs)\n",
      "/aos/home/nplanat/miniconda3/envs/Analysis2/lib/python3.10/site-packages/xgcm/grid.py:989: FutureWarning: From version 0.8.0 the Axis computation methods will be removed, in favour of using the Grid computation methods instead. i.e. use `Grid.transform` instead of `Axis.transform`\n",
      "  warnings.warn(\n",
      "/aos/home/nplanat/miniconda3/envs/Analysis2/lib/python3.10/site-packages/numba/np/ufunc/gufunc.py:171: RuntimeWarning: invalid value encountered in _interp_1d_linear\n",
      "  return self.ufunc(*args, **kwargs)\n"
     ]
    },
    {
     "name": "stdout",
     "output_type": "stream",
     "text": [
      "0\n",
      "case1\n"
     ]
    },
    {
     "name": "stderr",
     "output_type": "stream",
     "text": [
      "/aos/home/nplanat/miniconda3/envs/Analysis2/lib/python3.10/site-packages/xgcm/grid.py:989: FutureWarning: From version 0.8.0 the Axis computation methods will be removed, in favour of using the Grid computation methods instead. i.e. use `Grid.transform` instead of `Axis.transform`\n",
      "  warnings.warn(\n",
      "/aos/home/nplanat/miniconda3/envs/Analysis2/lib/python3.10/site-packages/numba/np/ufunc/gufunc.py:171: RuntimeWarning: invalid value encountered in _interp_1d_linear\n",
      "  return self.ufunc(*args, **kwargs)\n"
     ]
    },
    {
     "name": "stdout",
     "output_type": "stream",
     "text": [
      "1\n",
      "case1\n"
     ]
    },
    {
     "name": "stderr",
     "output_type": "stream",
     "text": [
      "/aos/home/nplanat/miniconda3/envs/Analysis2/lib/python3.10/site-packages/xgcm/grid.py:989: FutureWarning: From version 0.8.0 the Axis computation methods will be removed, in favour of using the Grid computation methods instead. i.e. use `Grid.transform` instead of `Axis.transform`\n",
      "  warnings.warn(\n",
      "/aos/home/nplanat/miniconda3/envs/Analysis2/lib/python3.10/site-packages/numba/np/ufunc/gufunc.py:171: RuntimeWarning: invalid value encountered in _interp_1d_linear\n",
      "  return self.ufunc(*args, **kwargs)\n"
     ]
    },
    {
     "name": "stdout",
     "output_type": "stream",
     "text": [
      "2\n",
      "case1\n"
     ]
    },
    {
     "name": "stderr",
     "output_type": "stream",
     "text": [
      "/aos/home/nplanat/miniconda3/envs/Analysis2/lib/python3.10/site-packages/xgcm/grid.py:989: FutureWarning: From version 0.8.0 the Axis computation methods will be removed, in favour of using the Grid computation methods instead. i.e. use `Grid.transform` instead of `Axis.transform`\n",
      "  warnings.warn(\n",
      "/aos/home/nplanat/miniconda3/envs/Analysis2/lib/python3.10/site-packages/numba/np/ufunc/gufunc.py:171: RuntimeWarning: invalid value encountered in _interp_1d_linear\n",
      "  return self.ufunc(*args, **kwargs)\n"
     ]
    },
    {
     "name": "stdout",
     "output_type": "stream",
     "text": [
      "3\n",
      "case1\n"
     ]
    },
    {
     "name": "stderr",
     "output_type": "stream",
     "text": [
      "/aos/home/nplanat/miniconda3/envs/Analysis2/lib/python3.10/site-packages/xgcm/grid.py:989: FutureWarning: From version 0.8.0 the Axis computation methods will be removed, in favour of using the Grid computation methods instead. i.e. use `Grid.transform` instead of `Axis.transform`\n",
      "  warnings.warn(\n",
      "/aos/home/nplanat/miniconda3/envs/Analysis2/lib/python3.10/site-packages/numba/np/ufunc/gufunc.py:171: RuntimeWarning: invalid value encountered in _interp_1d_linear\n",
      "  return self.ufunc(*args, **kwargs)\n"
     ]
    },
    {
     "name": "stdout",
     "output_type": "stream",
     "text": [
      "4\n",
      "case1\n"
     ]
    },
    {
     "name": "stderr",
     "output_type": "stream",
     "text": [
      "/aos/home/nplanat/miniconda3/envs/Analysis2/lib/python3.10/site-packages/xgcm/grid.py:989: FutureWarning: From version 0.8.0 the Axis computation methods will be removed, in favour of using the Grid computation methods instead. i.e. use `Grid.transform` instead of `Axis.transform`\n",
      "  warnings.warn(\n",
      "/aos/home/nplanat/miniconda3/envs/Analysis2/lib/python3.10/site-packages/numba/np/ufunc/gufunc.py:171: RuntimeWarning: invalid value encountered in _interp_1d_linear\n",
      "  return self.ufunc(*args, **kwargs)\n"
     ]
    },
    {
     "name": "stdout",
     "output_type": "stream",
     "text": [
      "5\n",
      "case1\n"
     ]
    },
    {
     "name": "stderr",
     "output_type": "stream",
     "text": [
      "/aos/home/nplanat/miniconda3/envs/Analysis2/lib/python3.10/site-packages/xgcm/grid.py:989: FutureWarning: From version 0.8.0 the Axis computation methods will be removed, in favour of using the Grid computation methods instead. i.e. use `Grid.transform` instead of `Axis.transform`\n",
      "  warnings.warn(\n",
      "/aos/home/nplanat/miniconda3/envs/Analysis2/lib/python3.10/site-packages/numba/np/ufunc/gufunc.py:171: RuntimeWarning: invalid value encountered in _interp_1d_linear\n",
      "  return self.ufunc(*args, **kwargs)\n"
     ]
    },
    {
     "name": "stdout",
     "output_type": "stream",
     "text": [
      "6\n",
      "case1\n"
     ]
    },
    {
     "name": "stderr",
     "output_type": "stream",
     "text": [
      "/aos/home/nplanat/miniconda3/envs/Analysis2/lib/python3.10/site-packages/xgcm/grid.py:989: FutureWarning: From version 0.8.0 the Axis computation methods will be removed, in favour of using the Grid computation methods instead. i.e. use `Grid.transform` instead of `Axis.transform`\n",
      "  warnings.warn(\n",
      "/aos/home/nplanat/miniconda3/envs/Analysis2/lib/python3.10/site-packages/numba/np/ufunc/gufunc.py:171: RuntimeWarning: invalid value encountered in _interp_1d_linear\n",
      "  return self.ufunc(*args, **kwargs)\n"
     ]
    },
    {
     "name": "stdout",
     "output_type": "stream",
     "text": [
      "7\n",
      "case1\n"
     ]
    },
    {
     "name": "stderr",
     "output_type": "stream",
     "text": [
      "/aos/home/nplanat/miniconda3/envs/Analysis2/lib/python3.10/site-packages/xgcm/grid.py:989: FutureWarning: From version 0.8.0 the Axis computation methods will be removed, in favour of using the Grid computation methods instead. i.e. use `Grid.transform` instead of `Axis.transform`\n",
      "  warnings.warn(\n",
      "/aos/home/nplanat/miniconda3/envs/Analysis2/lib/python3.10/site-packages/numba/np/ufunc/gufunc.py:171: RuntimeWarning: invalid value encountered in _interp_1d_linear\n",
      "  return self.ufunc(*args, **kwargs)\n"
     ]
    },
    {
     "name": "stdout",
     "output_type": "stream",
     "text": [
      "8\n",
      "case1\n"
     ]
    },
    {
     "name": "stderr",
     "output_type": "stream",
     "text": [
      "/aos/home/nplanat/miniconda3/envs/Analysis2/lib/python3.10/site-packages/xgcm/grid.py:989: FutureWarning: From version 0.8.0 the Axis computation methods will be removed, in favour of using the Grid computation methods instead. i.e. use `Grid.transform` instead of `Axis.transform`\n",
      "  warnings.warn(\n",
      "/aos/home/nplanat/miniconda3/envs/Analysis2/lib/python3.10/site-packages/numba/np/ufunc/gufunc.py:171: RuntimeWarning: invalid value encountered in _interp_1d_linear\n",
      "  return self.ufunc(*args, **kwargs)\n"
     ]
    },
    {
     "name": "stdout",
     "output_type": "stream",
     "text": [
      "9\n",
      "case1\n"
     ]
    },
    {
     "name": "stderr",
     "output_type": "stream",
     "text": [
      "/aos/home/nplanat/miniconda3/envs/Analysis2/lib/python3.10/site-packages/xgcm/grid.py:989: FutureWarning: From version 0.8.0 the Axis computation methods will be removed, in favour of using the Grid computation methods instead. i.e. use `Grid.transform` instead of `Axis.transform`\n",
      "  warnings.warn(\n",
      "/aos/home/nplanat/miniconda3/envs/Analysis2/lib/python3.10/site-packages/numba/np/ufunc/gufunc.py:171: RuntimeWarning: invalid value encountered in _interp_1d_linear\n",
      "  return self.ufunc(*args, **kwargs)\n"
     ]
    },
    {
     "name": "stdout",
     "output_type": "stream",
     "text": [
      "10\n",
      "case1\n"
     ]
    },
    {
     "name": "stderr",
     "output_type": "stream",
     "text": [
      "/aos/home/nplanat/miniconda3/envs/Analysis2/lib/python3.10/site-packages/xgcm/grid.py:989: FutureWarning: From version 0.8.0 the Axis computation methods will be removed, in favour of using the Grid computation methods instead. i.e. use `Grid.transform` instead of `Axis.transform`\n",
      "  warnings.warn(\n",
      "/aos/home/nplanat/miniconda3/envs/Analysis2/lib/python3.10/site-packages/numba/np/ufunc/gufunc.py:171: RuntimeWarning: invalid value encountered in _interp_1d_linear\n",
      "  return self.ufunc(*args, **kwargs)\n"
     ]
    },
    {
     "name": "stdout",
     "output_type": "stream",
     "text": [
      "11\n",
      "case1\n"
     ]
    },
    {
     "name": "stderr",
     "output_type": "stream",
     "text": [
      "/aos/home/nplanat/miniconda3/envs/Analysis2/lib/python3.10/site-packages/xgcm/grid.py:989: FutureWarning: From version 0.8.0 the Axis computation methods will be removed, in favour of using the Grid computation methods instead. i.e. use `Grid.transform` instead of `Axis.transform`\n",
      "  warnings.warn(\n",
      "/aos/home/nplanat/miniconda3/envs/Analysis2/lib/python3.10/site-packages/numba/np/ufunc/gufunc.py:171: RuntimeWarning: invalid value encountered in _interp_1d_linear\n",
      "  return self.ufunc(*args, **kwargs)\n"
     ]
    }
   ],
   "source": [
    "Rho_Vals =np.array([R0_A5B4[i_sPW_A5B4], R0_A5B4[i_wPW_A5B4], R0_A5B4[i_AW_A5B4]])\n",
    "\n",
    "dsT = WOA_M_Q_moy_sigma(ListeT_A5B4, ListeS_A5B4,  dsshM.ssh_A5B4, Rho_Vals,  g_0 = 9.83)\n",
    "dsT.to_netcdf('/storage/nplanat/DataWOA/WOA_VF_A5B4_moy.nc')\n",
    "\n",
    "for i in range(12):\n",
    "    print(i)\n",
    "    dsT = WOA_M_Q_sigma(ListeT_A5B4[i], ListeS_A5B4[i], dsshM.ssh_A5B4.isel(month = i).isel(lat=slice(619, 720)), Rho_Vals, g_0 = 9.83)\n",
    "    dsT.to_netcdf('/storage/nplanat/DataWOA/WOA_VF_A5B4_'+'{0:02}'.format(i)+'.nc')\n",
    "   "
   ]
  },
  {
   "cell_type": "code",
   "execution_count": 35,
   "id": "f9084783",
   "metadata": {
    "ExecuteTime": {
     "end_time": "2024-11-07T15:34:06.669167Z",
     "start_time": "2024-11-07T15:17:53.470180Z"
    }
   },
   "outputs": [
    {
     "name": "stdout",
     "output_type": "stream",
     "text": [
      "case1\n"
     ]
    },
    {
     "name": "stderr",
     "output_type": "stream",
     "text": [
      "/aos/home/nplanat/miniconda3/envs/Analysis2/lib/python3.10/site-packages/xgcm/grid.py:989: FutureWarning: From version 0.8.0 the Axis computation methods will be removed, in favour of using the Grid computation methods instead. i.e. use `Grid.transform` instead of `Axis.transform`\n",
      "  warnings.warn(\n",
      "/aos/home/nplanat/miniconda3/envs/Analysis2/lib/python3.10/site-packages/numba/np/ufunc/gufunc.py:171: RuntimeWarning: invalid value encountered in _interp_1d_linear\n",
      "  return self.ufunc(*args, **kwargs)\n",
      "/aos/home/nplanat/miniconda3/envs/Analysis2/lib/python3.10/site-packages/xgcm/grid.py:989: FutureWarning: From version 0.8.0 the Axis computation methods will be removed, in favour of using the Grid computation methods instead. i.e. use `Grid.transform` instead of `Axis.transform`\n",
      "  warnings.warn(\n",
      "/aos/home/nplanat/miniconda3/envs/Analysis2/lib/python3.10/site-packages/numba/np/ufunc/gufunc.py:171: RuntimeWarning: invalid value encountered in _interp_1d_linear\n",
      "  return self.ufunc(*args, **kwargs)\n"
     ]
    },
    {
     "name": "stdout",
     "output_type": "stream",
     "text": [
      "0\n",
      "case1\n"
     ]
    },
    {
     "name": "stderr",
     "output_type": "stream",
     "text": [
      "/aos/home/nplanat/miniconda3/envs/Analysis2/lib/python3.10/site-packages/xgcm/grid.py:989: FutureWarning: From version 0.8.0 the Axis computation methods will be removed, in favour of using the Grid computation methods instead. i.e. use `Grid.transform` instead of `Axis.transform`\n",
      "  warnings.warn(\n",
      "/aos/home/nplanat/miniconda3/envs/Analysis2/lib/python3.10/site-packages/numba/np/ufunc/gufunc.py:171: RuntimeWarning: invalid value encountered in _interp_1d_linear\n",
      "  return self.ufunc(*args, **kwargs)\n"
     ]
    },
    {
     "name": "stdout",
     "output_type": "stream",
     "text": [
      "1\n",
      "case1\n"
     ]
    },
    {
     "name": "stderr",
     "output_type": "stream",
     "text": [
      "/aos/home/nplanat/miniconda3/envs/Analysis2/lib/python3.10/site-packages/xgcm/grid.py:989: FutureWarning: From version 0.8.0 the Axis computation methods will be removed, in favour of using the Grid computation methods instead. i.e. use `Grid.transform` instead of `Axis.transform`\n",
      "  warnings.warn(\n",
      "/aos/home/nplanat/miniconda3/envs/Analysis2/lib/python3.10/site-packages/numba/np/ufunc/gufunc.py:171: RuntimeWarning: invalid value encountered in _interp_1d_linear\n",
      "  return self.ufunc(*args, **kwargs)\n"
     ]
    },
    {
     "name": "stdout",
     "output_type": "stream",
     "text": [
      "2\n",
      "case1\n"
     ]
    },
    {
     "name": "stderr",
     "output_type": "stream",
     "text": [
      "/aos/home/nplanat/miniconda3/envs/Analysis2/lib/python3.10/site-packages/xgcm/grid.py:989: FutureWarning: From version 0.8.0 the Axis computation methods will be removed, in favour of using the Grid computation methods instead. i.e. use `Grid.transform` instead of `Axis.transform`\n",
      "  warnings.warn(\n",
      "/aos/home/nplanat/miniconda3/envs/Analysis2/lib/python3.10/site-packages/numba/np/ufunc/gufunc.py:171: RuntimeWarning: invalid value encountered in _interp_1d_linear\n",
      "  return self.ufunc(*args, **kwargs)\n"
     ]
    },
    {
     "name": "stdout",
     "output_type": "stream",
     "text": [
      "3\n",
      "case1\n"
     ]
    },
    {
     "name": "stderr",
     "output_type": "stream",
     "text": [
      "/aos/home/nplanat/miniconda3/envs/Analysis2/lib/python3.10/site-packages/xgcm/grid.py:989: FutureWarning: From version 0.8.0 the Axis computation methods will be removed, in favour of using the Grid computation methods instead. i.e. use `Grid.transform` instead of `Axis.transform`\n",
      "  warnings.warn(\n",
      "/aos/home/nplanat/miniconda3/envs/Analysis2/lib/python3.10/site-packages/numba/np/ufunc/gufunc.py:171: RuntimeWarning: invalid value encountered in _interp_1d_linear\n",
      "  return self.ufunc(*args, **kwargs)\n"
     ]
    },
    {
     "name": "stdout",
     "output_type": "stream",
     "text": [
      "4\n",
      "case1\n"
     ]
    },
    {
     "name": "stderr",
     "output_type": "stream",
     "text": [
      "/aos/home/nplanat/miniconda3/envs/Analysis2/lib/python3.10/site-packages/xgcm/grid.py:989: FutureWarning: From version 0.8.0 the Axis computation methods will be removed, in favour of using the Grid computation methods instead. i.e. use `Grid.transform` instead of `Axis.transform`\n",
      "  warnings.warn(\n",
      "/aos/home/nplanat/miniconda3/envs/Analysis2/lib/python3.10/site-packages/numba/np/ufunc/gufunc.py:171: RuntimeWarning: invalid value encountered in _interp_1d_linear\n",
      "  return self.ufunc(*args, **kwargs)\n"
     ]
    },
    {
     "name": "stdout",
     "output_type": "stream",
     "text": [
      "5\n",
      "case1\n"
     ]
    },
    {
     "name": "stderr",
     "output_type": "stream",
     "text": [
      "/aos/home/nplanat/miniconda3/envs/Analysis2/lib/python3.10/site-packages/xgcm/grid.py:989: FutureWarning: From version 0.8.0 the Axis computation methods will be removed, in favour of using the Grid computation methods instead. i.e. use `Grid.transform` instead of `Axis.transform`\n",
      "  warnings.warn(\n",
      "/aos/home/nplanat/miniconda3/envs/Analysis2/lib/python3.10/site-packages/numba/np/ufunc/gufunc.py:171: RuntimeWarning: invalid value encountered in _interp_1d_linear\n",
      "  return self.ufunc(*args, **kwargs)\n"
     ]
    },
    {
     "name": "stdout",
     "output_type": "stream",
     "text": [
      "6\n",
      "case1\n"
     ]
    },
    {
     "name": "stderr",
     "output_type": "stream",
     "text": [
      "/aos/home/nplanat/miniconda3/envs/Analysis2/lib/python3.10/site-packages/xgcm/grid.py:989: FutureWarning: From version 0.8.0 the Axis computation methods will be removed, in favour of using the Grid computation methods instead. i.e. use `Grid.transform` instead of `Axis.transform`\n",
      "  warnings.warn(\n",
      "/aos/home/nplanat/miniconda3/envs/Analysis2/lib/python3.10/site-packages/numba/np/ufunc/gufunc.py:171: RuntimeWarning: invalid value encountered in _interp_1d_linear\n",
      "  return self.ufunc(*args, **kwargs)\n"
     ]
    },
    {
     "name": "stdout",
     "output_type": "stream",
     "text": [
      "7\n",
      "case1\n"
     ]
    },
    {
     "name": "stderr",
     "output_type": "stream",
     "text": [
      "/aos/home/nplanat/miniconda3/envs/Analysis2/lib/python3.10/site-packages/xgcm/grid.py:989: FutureWarning: From version 0.8.0 the Axis computation methods will be removed, in favour of using the Grid computation methods instead. i.e. use `Grid.transform` instead of `Axis.transform`\n",
      "  warnings.warn(\n",
      "/aos/home/nplanat/miniconda3/envs/Analysis2/lib/python3.10/site-packages/numba/np/ufunc/gufunc.py:171: RuntimeWarning: invalid value encountered in _interp_1d_linear\n",
      "  return self.ufunc(*args, **kwargs)\n"
     ]
    },
    {
     "name": "stdout",
     "output_type": "stream",
     "text": [
      "8\n",
      "case1\n"
     ]
    },
    {
     "name": "stderr",
     "output_type": "stream",
     "text": [
      "/aos/home/nplanat/miniconda3/envs/Analysis2/lib/python3.10/site-packages/xgcm/grid.py:989: FutureWarning: From version 0.8.0 the Axis computation methods will be removed, in favour of using the Grid computation methods instead. i.e. use `Grid.transform` instead of `Axis.transform`\n",
      "  warnings.warn(\n",
      "/aos/home/nplanat/miniconda3/envs/Analysis2/lib/python3.10/site-packages/numba/np/ufunc/gufunc.py:171: RuntimeWarning: invalid value encountered in _interp_1d_linear\n",
      "  return self.ufunc(*args, **kwargs)\n"
     ]
    },
    {
     "name": "stdout",
     "output_type": "stream",
     "text": [
      "9\n",
      "case1\n"
     ]
    },
    {
     "name": "stderr",
     "output_type": "stream",
     "text": [
      "/aos/home/nplanat/miniconda3/envs/Analysis2/lib/python3.10/site-packages/xgcm/grid.py:989: FutureWarning: From version 0.8.0 the Axis computation methods will be removed, in favour of using the Grid computation methods instead. i.e. use `Grid.transform` instead of `Axis.transform`\n",
      "  warnings.warn(\n",
      "/aos/home/nplanat/miniconda3/envs/Analysis2/lib/python3.10/site-packages/numba/np/ufunc/gufunc.py:171: RuntimeWarning: invalid value encountered in _interp_1d_linear\n",
      "  return self.ufunc(*args, **kwargs)\n"
     ]
    },
    {
     "name": "stdout",
     "output_type": "stream",
     "text": [
      "10\n",
      "case1\n"
     ]
    },
    {
     "name": "stderr",
     "output_type": "stream",
     "text": [
      "/aos/home/nplanat/miniconda3/envs/Analysis2/lib/python3.10/site-packages/xgcm/grid.py:989: FutureWarning: From version 0.8.0 the Axis computation methods will be removed, in favour of using the Grid computation methods instead. i.e. use `Grid.transform` instead of `Axis.transform`\n",
      "  warnings.warn(\n",
      "/aos/home/nplanat/miniconda3/envs/Analysis2/lib/python3.10/site-packages/numba/np/ufunc/gufunc.py:171: RuntimeWarning: invalid value encountered in _interp_1d_linear\n",
      "  return self.ufunc(*args, **kwargs)\n"
     ]
    },
    {
     "name": "stdout",
     "output_type": "stream",
     "text": [
      "11\n",
      "case1\n"
     ]
    },
    {
     "name": "stderr",
     "output_type": "stream",
     "text": [
      "/aos/home/nplanat/miniconda3/envs/Analysis2/lib/python3.10/site-packages/xgcm/grid.py:989: FutureWarning: From version 0.8.0 the Axis computation methods will be removed, in favour of using the Grid computation methods instead. i.e. use `Grid.transform` instead of `Axis.transform`\n",
      "  warnings.warn(\n",
      "/aos/home/nplanat/miniconda3/envs/Analysis2/lib/python3.10/site-packages/numba/np/ufunc/gufunc.py:171: RuntimeWarning: invalid value encountered in _interp_1d_linear\n",
      "  return self.ufunc(*args, **kwargs)\n"
     ]
    }
   ],
   "source": [
    "Rho_Vals =np.array([R0_B5C2[i_sPW_B5C2], R0_B5C2[i_wPW_B5C2], R0_B5C2[i_AW_B5C2]])\n",
    "\n",
    "dsT = WOA_M_Q_moy_sigma(ListeT_B5C2, ListeS_B5C2,  dsshM.ssh_B5C2, Rho_Vals,  g_0 = 9.83)\n",
    "dsT.to_netcdf('/storage/nplanat/DataWOA/WOA_VF_B5C2_moy.nc')\n",
    "\n",
    "for i in range(12):\n",
    "    print(i)\n",
    "    dsT = WOA_M_Q_sigma(ListeT_B5C2[i], ListeS_B5C2[i], dsshM.ssh_B5C2.isel(month = i).isel(lat=slice(619, 720)), Rho_Vals, g_0 = 9.83)\n",
    "    dsT.to_netcdf('/storage/nplanat/DataWOA/WOA_VF_B5C2_'+'{0:02}'.format(i)+'.nc')\n",
    "   "
   ]
  },
  {
   "cell_type": "markdown",
   "id": "8fd9fa9b",
   "metadata": {},
   "source": [
    "## MIMOC"
   ]
  },
  {
   "cell_type": "code",
   "execution_count": null,
   "id": "4d9a2001",
   "metadata": {
    "ExecuteTime": {
     "end_time": "2024-11-07T14:36:14.231660Z",
     "start_time": "2024-11-07T14:36:14.231652Z"
    }
   },
   "outputs": [],
   "source": [
    "eps = 3; mid_lat = 78.375\n",
    "\n",
    "Rho_Vals_MIMOC =np.array([R0_MIMOC[i_sPW_MIMOC], R0_MIMOC[i_wPW_MIMOC], R0_MIMOC[i_AW_MIMOC]])\n",
    "print(Rho_Vals_MIMOC)\n",
    "#dsT = MIMOC_moy(Liste_MIMOC, eval('dsshM.ssh_mixed_'+str(int(eps))+'_'+str(int(mid_lat))), Rho_Vals_MIMOC,  g_0 = 9.83)\n",
    "#dsT.to_netcdf('/storage/nplanat/DataWOA/MIMOC_VF_'+str(int(eps))+'_'+str(int(mid_lat))+'_moy.nc')\n",
    "\n",
    "\n",
    "for i in range(12):\n",
    "    print(i)\n",
    "    dsT = MIMOC(Liste_MIMOC[i], eval('dsshM.ssh_mixed_'+str(int(eps))+'_'+str(int(mid_lat))).isel(month = i), Rho_Vals_MIMOC, g_0 = 9.83)\n",
    "    dsT.to_netcdf('/storage/nplanat/DataWOA/MIMOC_VF_'+str(int(eps))+'_'+str(int(mid_lat))+'{0:02}'.format(i)+'.nc')"
   ]
  },
  {
   "cell_type": "markdown",
   "id": "12f2901a",
   "metadata": {},
   "source": [
    "## SSH"
   ]
  },
  {
   "cell_type": "code",
   "execution_count": 50,
   "id": "4b43be8d",
   "metadata": {
    "ExecuteTime": {
     "end_time": "2024-11-07T16:16:05.175590Z",
     "start_time": "2024-11-07T16:00:42.002337Z"
    }
   },
   "outputs": [
    {
     "name": "stdout",
     "output_type": "stream",
     "text": [
      "0\n",
      "case2\n"
     ]
    },
    {
     "name": "stderr",
     "output_type": "stream",
     "text": [
      "/aos/home/nplanat/miniconda3/envs/Analysis2/lib/python3.10/site-packages/xgcm/grid.py:989: FutureWarning: From version 0.8.0 the Axis computation methods will be removed, in favour of using the Grid computation methods instead. i.e. use `Grid.transform` instead of `Axis.transform`\n",
      "  warnings.warn(\n",
      "/aos/home/nplanat/miniconda3/envs/Analysis2/lib/python3.10/site-packages/numba/np/ufunc/gufunc.py:171: RuntimeWarning: invalid value encountered in _interp_1d_linear\n",
      "  return self.ufunc(*args, **kwargs)\n"
     ]
    },
    {
     "name": "stdout",
     "output_type": "stream",
     "text": [
      "1\n",
      "case2\n"
     ]
    },
    {
     "name": "stderr",
     "output_type": "stream",
     "text": [
      "/aos/home/nplanat/miniconda3/envs/Analysis2/lib/python3.10/site-packages/xgcm/grid.py:989: FutureWarning: From version 0.8.0 the Axis computation methods will be removed, in favour of using the Grid computation methods instead. i.e. use `Grid.transform` instead of `Axis.transform`\n",
      "  warnings.warn(\n",
      "/aos/home/nplanat/miniconda3/envs/Analysis2/lib/python3.10/site-packages/numba/np/ufunc/gufunc.py:171: RuntimeWarning: invalid value encountered in _interp_1d_linear\n",
      "  return self.ufunc(*args, **kwargs)\n"
     ]
    },
    {
     "name": "stdout",
     "output_type": "stream",
     "text": [
      "2\n",
      "case2\n"
     ]
    },
    {
     "name": "stderr",
     "output_type": "stream",
     "text": [
      "/aos/home/nplanat/miniconda3/envs/Analysis2/lib/python3.10/site-packages/xgcm/grid.py:989: FutureWarning: From version 0.8.0 the Axis computation methods will be removed, in favour of using the Grid computation methods instead. i.e. use `Grid.transform` instead of `Axis.transform`\n",
      "  warnings.warn(\n",
      "/aos/home/nplanat/miniconda3/envs/Analysis2/lib/python3.10/site-packages/numba/np/ufunc/gufunc.py:171: RuntimeWarning: invalid value encountered in _interp_1d_linear\n",
      "  return self.ufunc(*args, **kwargs)\n"
     ]
    },
    {
     "name": "stdout",
     "output_type": "stream",
     "text": [
      "3\n",
      "case2\n"
     ]
    },
    {
     "name": "stderr",
     "output_type": "stream",
     "text": [
      "/aos/home/nplanat/miniconda3/envs/Analysis2/lib/python3.10/site-packages/xgcm/grid.py:989: FutureWarning: From version 0.8.0 the Axis computation methods will be removed, in favour of using the Grid computation methods instead. i.e. use `Grid.transform` instead of `Axis.transform`\n",
      "  warnings.warn(\n",
      "/aos/home/nplanat/miniconda3/envs/Analysis2/lib/python3.10/site-packages/numba/np/ufunc/gufunc.py:171: RuntimeWarning: invalid value encountered in _interp_1d_linear\n",
      "  return self.ufunc(*args, **kwargs)\n"
     ]
    },
    {
     "name": "stdout",
     "output_type": "stream",
     "text": [
      "4\n",
      "case2\n"
     ]
    },
    {
     "name": "stderr",
     "output_type": "stream",
     "text": [
      "/aos/home/nplanat/miniconda3/envs/Analysis2/lib/python3.10/site-packages/xgcm/grid.py:989: FutureWarning: From version 0.8.0 the Axis computation methods will be removed, in favour of using the Grid computation methods instead. i.e. use `Grid.transform` instead of `Axis.transform`\n",
      "  warnings.warn(\n",
      "/aos/home/nplanat/miniconda3/envs/Analysis2/lib/python3.10/site-packages/numba/np/ufunc/gufunc.py:171: RuntimeWarning: invalid value encountered in _interp_1d_linear\n",
      "  return self.ufunc(*args, **kwargs)\n"
     ]
    },
    {
     "name": "stdout",
     "output_type": "stream",
     "text": [
      "5\n",
      "case2\n"
     ]
    },
    {
     "name": "stderr",
     "output_type": "stream",
     "text": [
      "/aos/home/nplanat/miniconda3/envs/Analysis2/lib/python3.10/site-packages/xgcm/grid.py:989: FutureWarning: From version 0.8.0 the Axis computation methods will be removed, in favour of using the Grid computation methods instead. i.e. use `Grid.transform` instead of `Axis.transform`\n",
      "  warnings.warn(\n",
      "/aos/home/nplanat/miniconda3/envs/Analysis2/lib/python3.10/site-packages/numba/np/ufunc/gufunc.py:171: RuntimeWarning: invalid value encountered in _interp_1d_linear\n",
      "  return self.ufunc(*args, **kwargs)\n"
     ]
    },
    {
     "name": "stdout",
     "output_type": "stream",
     "text": [
      "6\n",
      "case2\n"
     ]
    },
    {
     "name": "stderr",
     "output_type": "stream",
     "text": [
      "/aos/home/nplanat/miniconda3/envs/Analysis2/lib/python3.10/site-packages/xgcm/grid.py:989: FutureWarning: From version 0.8.0 the Axis computation methods will be removed, in favour of using the Grid computation methods instead. i.e. use `Grid.transform` instead of `Axis.transform`\n",
      "  warnings.warn(\n",
      "/aos/home/nplanat/miniconda3/envs/Analysis2/lib/python3.10/site-packages/numba/np/ufunc/gufunc.py:171: RuntimeWarning: invalid value encountered in _interp_1d_linear\n",
      "  return self.ufunc(*args, **kwargs)\n"
     ]
    },
    {
     "name": "stdout",
     "output_type": "stream",
     "text": [
      "7\n",
      "case2\n"
     ]
    },
    {
     "name": "stderr",
     "output_type": "stream",
     "text": [
      "/aos/home/nplanat/miniconda3/envs/Analysis2/lib/python3.10/site-packages/xgcm/grid.py:989: FutureWarning: From version 0.8.0 the Axis computation methods will be removed, in favour of using the Grid computation methods instead. i.e. use `Grid.transform` instead of `Axis.transform`\n",
      "  warnings.warn(\n",
      "/aos/home/nplanat/miniconda3/envs/Analysis2/lib/python3.10/site-packages/numba/np/ufunc/gufunc.py:171: RuntimeWarning: invalid value encountered in _interp_1d_linear\n",
      "  return self.ufunc(*args, **kwargs)\n"
     ]
    },
    {
     "name": "stdout",
     "output_type": "stream",
     "text": [
      "8\n",
      "case2\n"
     ]
    },
    {
     "name": "stderr",
     "output_type": "stream",
     "text": [
      "/aos/home/nplanat/miniconda3/envs/Analysis2/lib/python3.10/site-packages/xgcm/grid.py:989: FutureWarning: From version 0.8.0 the Axis computation methods will be removed, in favour of using the Grid computation methods instead. i.e. use `Grid.transform` instead of `Axis.transform`\n",
      "  warnings.warn(\n",
      "/aos/home/nplanat/miniconda3/envs/Analysis2/lib/python3.10/site-packages/numba/np/ufunc/gufunc.py:171: RuntimeWarning: invalid value encountered in _interp_1d_linear\n",
      "  return self.ufunc(*args, **kwargs)\n"
     ]
    },
    {
     "name": "stdout",
     "output_type": "stream",
     "text": [
      "9\n",
      "case2\n"
     ]
    },
    {
     "name": "stderr",
     "output_type": "stream",
     "text": [
      "/aos/home/nplanat/miniconda3/envs/Analysis2/lib/python3.10/site-packages/xgcm/grid.py:989: FutureWarning: From version 0.8.0 the Axis computation methods will be removed, in favour of using the Grid computation methods instead. i.e. use `Grid.transform` instead of `Axis.transform`\n",
      "  warnings.warn(\n",
      "/aos/home/nplanat/miniconda3/envs/Analysis2/lib/python3.10/site-packages/numba/np/ufunc/gufunc.py:171: RuntimeWarning: invalid value encountered in _interp_1d_linear\n",
      "  return self.ufunc(*args, **kwargs)\n"
     ]
    },
    {
     "name": "stdout",
     "output_type": "stream",
     "text": [
      "10\n",
      "case2\n"
     ]
    },
    {
     "name": "stderr",
     "output_type": "stream",
     "text": [
      "/aos/home/nplanat/miniconda3/envs/Analysis2/lib/python3.10/site-packages/xgcm/grid.py:989: FutureWarning: From version 0.8.0 the Axis computation methods will be removed, in favour of using the Grid computation methods instead. i.e. use `Grid.transform` instead of `Axis.transform`\n",
      "  warnings.warn(\n",
      "/aos/home/nplanat/miniconda3/envs/Analysis2/lib/python3.10/site-packages/numba/np/ufunc/gufunc.py:171: RuntimeWarning: invalid value encountered in _interp_1d_linear\n",
      "  return self.ufunc(*args, **kwargs)\n"
     ]
    },
    {
     "name": "stdout",
     "output_type": "stream",
     "text": [
      "11\n",
      "case2\n"
     ]
    },
    {
     "name": "stderr",
     "output_type": "stream",
     "text": [
      "/aos/home/nplanat/miniconda3/envs/Analysis2/lib/python3.10/site-packages/xgcm/grid.py:989: FutureWarning: From version 0.8.0 the Axis computation methods will be removed, in favour of using the Grid computation methods instead. i.e. use `Grid.transform` instead of `Axis.transform`\n",
      "  warnings.warn(\n",
      "/aos/home/nplanat/miniconda3/envs/Analysis2/lib/python3.10/site-packages/numba/np/ufunc/gufunc.py:171: RuntimeWarning: invalid value encountered in _interp_1d_linear\n",
      "  return self.ufunc(*args, **kwargs)\n"
     ]
    }
   ],
   "source": [
    "Rho_Vals =np.array([R0[i_sPW], R0[i_wPW], R0[i_AW]])\n",
    "eps = 3\n",
    "mid_lat = 78.375\n",
    "\n",
    "dsT = WOA_M_Q_moy_sigma(ListeT, ListeS,   dssh.ssh_A5B7_m, Rho_Vals, g_0 = 9.83)\n",
    "dsT.to_netcdf('/storage/nplanat/DataWOA/WOA_VF_O_SSH'+'_moy.nc')\n",
    "\n",
    "for i in range(12):\n",
    "    print(i)\n",
    "    dsT = WOA_M_Q_sigma(ListeT[i], ListeS[i],  dssh.ssh_A5B7_m.isel(month = i), Rho_Vals, g_0 = 9.83)\n",
    "    dsT.to_netcdf('/storage/nplanat/DataWOA/WOA_VF_O_SSH'+'{0:02}'.format(i)+'.nc')\n",
    "\n",
    "   "
   ]
  },
  {
   "cell_type": "markdown",
   "id": "5cc6252b",
   "metadata": {},
   "source": [
    "## WOA - Armitage"
   ]
  },
  {
   "cell_type": "code",
   "execution_count": null,
   "id": "3aef56ff",
   "metadata": {
    "ExecuteTime": {
     "start_time": "2024-11-07T16:16:22.616Z"
    }
   },
   "outputs": [
    {
     "name": "stdout",
     "output_type": "stream",
     "text": [
      "[1024.89741593 1026.50399396 1027.91943105]\n",
      "I need to interpolate\n"
     ]
    },
    {
     "name": "stderr",
     "output_type": "stream",
     "text": [
      "/aos/home/nplanat/miniconda3/envs/Analysis2/lib/python3.10/site-packages/xgcm/grid.py:989: FutureWarning: From version 0.8.0 the Axis computation methods will be removed, in favour of using the Grid computation methods instead. i.e. use `Grid.transform` instead of `Axis.transform`\n",
      "  warnings.warn(\n",
      "/aos/home/nplanat/miniconda3/envs/Analysis2/lib/python3.10/site-packages/numba/np/ufunc/gufunc.py:171: RuntimeWarning: invalid value encountered in _interp_1d_linear\n",
      "  return self.ufunc(*args, **kwargs)\n",
      "/aos/home/nplanat/miniconda3/envs/Analysis2/lib/python3.10/site-packages/xgcm/grid.py:989: FutureWarning: From version 0.8.0 the Axis computation methods will be removed, in favour of using the Grid computation methods instead. i.e. use `Grid.transform` instead of `Axis.transform`\n",
      "  warnings.warn(\n",
      "/aos/home/nplanat/miniconda3/envs/Analysis2/lib/python3.10/site-packages/numba/np/ufunc/gufunc.py:171: RuntimeWarning: invalid value encountered in _interp_1d_linear\n",
      "  return self.ufunc(*args, **kwargs)\n"
     ]
    },
    {
     "name": "stdout",
     "output_type": "stream",
     "text": [
      "0\n",
      "case2\n",
      "case2\n",
      "case3\n"
     ]
    },
    {
     "name": "stderr",
     "output_type": "stream",
     "text": [
      "/aos/home/nplanat/miniconda3/envs/Analysis2/lib/python3.10/site-packages/xgcm/grid.py:989: FutureWarning: From version 0.8.0 the Axis computation methods will be removed, in favour of using the Grid computation methods instead. i.e. use `Grid.transform` instead of `Axis.transform`\n",
      "  warnings.warn(\n",
      "/aos/home/nplanat/miniconda3/envs/Analysis2/lib/python3.10/site-packages/numba/np/ufunc/gufunc.py:171: RuntimeWarning: invalid value encountered in _interp_1d_linear\n",
      "  return self.ufunc(*args, **kwargs)\n"
     ]
    },
    {
     "name": "stdout",
     "output_type": "stream",
     "text": [
      "1\n",
      "case2\n",
      "case2\n",
      "case3\n"
     ]
    },
    {
     "name": "stderr",
     "output_type": "stream",
     "text": [
      "/aos/home/nplanat/miniconda3/envs/Analysis2/lib/python3.10/site-packages/xgcm/grid.py:989: FutureWarning: From version 0.8.0 the Axis computation methods will be removed, in favour of using the Grid computation methods instead. i.e. use `Grid.transform` instead of `Axis.transform`\n",
      "  warnings.warn(\n",
      "/aos/home/nplanat/miniconda3/envs/Analysis2/lib/python3.10/site-packages/numba/np/ufunc/gufunc.py:171: RuntimeWarning: invalid value encountered in _interp_1d_linear\n",
      "  return self.ufunc(*args, **kwargs)\n"
     ]
    },
    {
     "name": "stdout",
     "output_type": "stream",
     "text": [
      "2\n",
      "case2\n",
      "case2\n",
      "case3\n"
     ]
    },
    {
     "name": "stderr",
     "output_type": "stream",
     "text": [
      "/aos/home/nplanat/miniconda3/envs/Analysis2/lib/python3.10/site-packages/xgcm/grid.py:989: FutureWarning: From version 0.8.0 the Axis computation methods will be removed, in favour of using the Grid computation methods instead. i.e. use `Grid.transform` instead of `Axis.transform`\n",
      "  warnings.warn(\n",
      "/aos/home/nplanat/miniconda3/envs/Analysis2/lib/python3.10/site-packages/numba/np/ufunc/gufunc.py:171: RuntimeWarning: invalid value encountered in _interp_1d_linear\n",
      "  return self.ufunc(*args, **kwargs)\n"
     ]
    },
    {
     "name": "stdout",
     "output_type": "stream",
     "text": [
      "3\n",
      "case2\n",
      "case2\n",
      "case3\n"
     ]
    },
    {
     "name": "stderr",
     "output_type": "stream",
     "text": [
      "/aos/home/nplanat/miniconda3/envs/Analysis2/lib/python3.10/site-packages/xgcm/grid.py:989: FutureWarning: From version 0.8.0 the Axis computation methods will be removed, in favour of using the Grid computation methods instead. i.e. use `Grid.transform` instead of `Axis.transform`\n",
      "  warnings.warn(\n",
      "/aos/home/nplanat/miniconda3/envs/Analysis2/lib/python3.10/site-packages/numba/np/ufunc/gufunc.py:171: RuntimeWarning: invalid value encountered in _interp_1d_linear\n",
      "  return self.ufunc(*args, **kwargs)\n"
     ]
    },
    {
     "name": "stdout",
     "output_type": "stream",
     "text": [
      "4\n",
      "case2\n",
      "case2\n",
      "case3\n"
     ]
    },
    {
     "name": "stderr",
     "output_type": "stream",
     "text": [
      "/aos/home/nplanat/miniconda3/envs/Analysis2/lib/python3.10/site-packages/xgcm/grid.py:989: FutureWarning: From version 0.8.0 the Axis computation methods will be removed, in favour of using the Grid computation methods instead. i.e. use `Grid.transform` instead of `Axis.transform`\n",
      "  warnings.warn(\n",
      "/aos/home/nplanat/miniconda3/envs/Analysis2/lib/python3.10/site-packages/numba/np/ufunc/gufunc.py:171: RuntimeWarning: invalid value encountered in _interp_1d_linear\n",
      "  return self.ufunc(*args, **kwargs)\n"
     ]
    },
    {
     "name": "stdout",
     "output_type": "stream",
     "text": [
      "5\n",
      "case2\n",
      "case2\n",
      "case3\n"
     ]
    },
    {
     "name": "stderr",
     "output_type": "stream",
     "text": [
      "/aos/home/nplanat/miniconda3/envs/Analysis2/lib/python3.10/site-packages/xgcm/grid.py:989: FutureWarning: From version 0.8.0 the Axis computation methods will be removed, in favour of using the Grid computation methods instead. i.e. use `Grid.transform` instead of `Axis.transform`\n",
      "  warnings.warn(\n",
      "/aos/home/nplanat/miniconda3/envs/Analysis2/lib/python3.10/site-packages/numba/np/ufunc/gufunc.py:171: RuntimeWarning: invalid value encountered in _interp_1d_linear\n",
      "  return self.ufunc(*args, **kwargs)\n"
     ]
    }
   ],
   "source": [
    "Rho_Vals =np.array([R0[i_sPW], R0[i_wPW], R0[i_AW]])\n",
    "print(Rho_Vals)\n",
    "dsT = WOA_M_Q_moy_sigma(ListeT, ListeS,  dsshA.ssh_A5B7_m, Rho_Vals, g_0 = 9.83)\n",
    "dsT.to_netcdf('/storage/nplanat/DataWOA/WOA_VF_Armitage_moy.nc')\n",
    "\n",
    "for i in range(12):\n",
    "    print(i)\n",
    "    dsT = WOA_M_Q_sigma(ListeT[i], ListeS[i],   dsshA.ssh_A5B7_m.isel(month = i), Rho_Vals, g_0 = 9.83)\n",
    "    dsT.to_netcdf('/storage/nplanat/DataWOA/WOA_VF_Armitage_'+'{0:02}'.format(i)+'.nc')"
   ]
  }
 ],
 "metadata": {
  "hide_input": false,
  "kernelspec": {
   "display_name": "Python [conda env:Analysis2]",
   "language": "python",
   "name": "conda-env-Analysis2-py"
  },
  "language_info": {
   "codemirror_mode": {
    "name": "ipython",
    "version": 3
   },
   "file_extension": ".py",
   "mimetype": "text/x-python",
   "name": "python",
   "nbconvert_exporter": "python",
   "pygments_lexer": "ipython3",
   "version": "3.10.10"
  },
  "latex_envs": {
   "LaTeX_envs_menu_present": true,
   "autoclose": false,
   "autocomplete": true,
   "bibliofile": "biblio.bib",
   "cite_by": "apalike",
   "current_citInitial": 1,
   "eqLabelWithNumbers": true,
   "eqNumInitial": 1,
   "hotkeys": {
    "equation": "Ctrl-E",
    "itemize": "Ctrl-I"
   },
   "labels_anchors": false,
   "latex_user_defs": false,
   "report_style_numbering": false,
   "user_envs_cfg": false
  },
  "toc": {
   "base_numbering": 1,
   "nav_menu": {},
   "number_sections": true,
   "sideBar": true,
   "skip_h1_title": false,
   "title_cell": "Table of Contents",
   "title_sidebar": "Contents",
   "toc_cell": false,
   "toc_position": {
    "height": "calc(100% - 180px)",
    "left": "10px",
    "top": "150px",
    "width": "165px"
   },
   "toc_section_display": true,
   "toc_window_display": true
  },
  "varInspector": {
   "cols": {
    "lenName": 16,
    "lenType": 16,
    "lenVar": 40
   },
   "kernels_config": {
    "python": {
     "delete_cmd_postfix": "",
     "delete_cmd_prefix": "del ",
     "library": "var_list.py",
     "varRefreshCmd": "print(var_dic_list())"
    },
    "r": {
     "delete_cmd_postfix": ") ",
     "delete_cmd_prefix": "rm(",
     "library": "var_list.r",
     "varRefreshCmd": "cat(var_dic_list()) "
    }
   },
   "types_to_exclude": [
    "module",
    "function",
    "builtin_function_or_method",
    "instance",
    "_Feature"
   ],
   "window_display": false
  }
 },
 "nbformat": 4,
 "nbformat_minor": 5
}
